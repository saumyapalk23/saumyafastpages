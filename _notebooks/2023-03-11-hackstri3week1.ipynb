{
 "cells": [
  {
   "attachments": {},
   "cell_type": "markdown",
   "metadata": {},
   "source": [
    "#  Hacks (Code Exercises) + CB FRQ\n",
    "> Primitives (Wrapper Classes + Arrays), CollegeBoard FRQ 2014\n",
    "- toc: true \n",
    "- badges: true\n",
    "- comments: true\n",
    "- categories: [jupyter]"
   ]
  },
  {
   "attachments": {},
   "cell_type": "markdown",
   "metadata": {},
   "source": [
    "## Data Types w/ Primitives Code"
   ]
  },
  {
   "cell_type": "code",
   "execution_count": 25,
   "metadata": {
    "vscode": {
     "languageId": "java"
    }
   },
   "outputs": [
    {
     "name": "stdout",
     "output_type": "stream",
     "text": [
      "The string is: alligator\n",
      "The 1st non-repeating is: i\n"
     ]
    }
   ],
   "source": [
    "//create a java program to find the first\n",
    "//non-repeating character in a string\n",
    "//example: \"alligator\"\n",
    "//output: i\n",
    "\n",
    "import java.util.*;\n",
    "\n",
    "// Define the Main class, main method\n",
    "public class Main {\n",
    "  public static void main(String[] args) {\n",
    "    \n",
    "    // Declare and initialize the string variable \"str\" with the value \"alligator\"\n",
    "    String str = \"alligator\";\n",
    "    \n",
    "    System.out.println(\"The string is: \" + str);\n",
    "    \n",
    "    // Iterate through each character in the string using a for loop\n",
    "    for (int i = 0; i < str.length(); i++) {\n",
    "      \n",
    "      // Declare and initialize a boolean variable \"unique\" with the value true\n",
    "      boolean unique = true;\n",
    "      \n",
    "      // Iterate through each character in the string again using another for loop\n",
    "      for (int j = 0; j < str.length(); j++) {\n",
    "        \n",
    "        // Check if the current character in the outer loop is the same as the current character in the inner loop\n",
    "        // and if the indices of the characters are different\n",
    "        if (i != j && str.charAt(i) == str.charAt(j)) {\n",
    "          \n",
    "          // If the characters are the same and their indices are different, set \"unique\" to false and break out of the loop\n",
    "          unique = false;\n",
    "          break;\n",
    "        }\n",
    "      }\n",
    "      \n",
    "      // If \"unique\" is still true after iterating through the inner loop, print the first non-repeating character and break out of the outer loop\n",
    "      if (unique) {\n",
    "        System.out.println(\"The 1st non-repeating is: \" + str.charAt(i));\n",
    "        break;\n",
    "      }\n",
    "    }\n",
    "  }\n",
    "}\n",
    "\n",
    "Main.main(null);\n"
   ]
  },
  {
   "attachments": {},
   "cell_type": "markdown",
   "metadata": {},
   "source": [
    "The first code segment is a standalone Java program that uses nested for loops to iterate through each character in the input string and compare it to all other characters to check if it is unique. If a unique character is found, it is printed as the first non-repeating character and the program exits. This code segment does not use any classes or objects and is a simple implementation of the algorithm."
   ]
  },
  {
   "attachments": {},
   "cell_type": "markdown",
   "metadata": {},
   "source": [
    "## Wrapper Classes + Arrays Conversion"
   ]
  },
  {
   "cell_type": "code",
   "execution_count": 17,
   "metadata": {
    "vscode": {
     "languageId": "java"
    }
   },
   "outputs": [
    {
     "name": "stdout",
     "output_type": "stream",
     "text": [
      "The string is: alligator\n",
      "The 1st non-repeating character is: i\n"
     ]
    }
   ],
   "source": [
    "public class NonRepeatingCharacterFinder {\n",
    "    private String str; // instance variable to store the input string\n",
    "    \n",
    "    public NonRepeatingCharacterFinder(String str) {\n",
    "        this.str = str; // constructor -- initializes instance variable with the input string\n",
    "    }\n",
    "    \n",
    "    public char findFirstNonRepeating() {\n",
    "        int[] charCount = new int[256]; // integer array of size 256 to store the frequency of each character in the string\n",
    "        for (int i = 0; i < str.length(); i++) {\n",
    "            charCount[str.charAt(i)]++; // increment the count of the character at the i-th position in the string\n",
    "        }\n",
    "        for (int i = 0; i < str.length(); i++) {\n",
    "            if (charCount[str.charAt(i)] == 1) { // check if the count of the character at the i-th position in the string is equal to 1\n",
    "                return str.charAt(i); // return the first non-repeating character found\n",
    "            }\n",
    "        }\n",
    "        return '\\0'; // return null character if no non-repeating character is found\n",
    "    }\n",
    "    \n",
    "    public static void main(String[] args) {\n",
    "        String str = \"alligator\"; // example input string\n",
    "        NonRepeatingCharacterFinder finder = new NonRepeatingCharacterFinder(str); // create an instance of the NonRepeatingCharacterFinder class with the input string\n",
    "        char result = finder.findFirstNonRepeating(); // call the findFirstNonRepeating method to get the first non-repeating character\n",
    "        System.out.println(\"The string is: \" + str);\n",
    "        if (result == '\\0') { // check if no non-repeating character is found\n",
    "            System.out.println(\"There is no non-repeating character in the string.\");\n",
    "        } else {\n",
    "            System.out.println(\"The 1st non-repeating character is: \" + result); // print the first non-repeating character found\n",
    "        }\n",
    "    }\n",
    "}\n",
    "NonRepeatingCharacterFinder.main(null);\n"
   ]
  },
  {
   "attachments": {},
   "cell_type": "markdown",
   "metadata": {},
   "source": [
    "The second code segment is a Java class contains a constructor and a method to find the first non-repeating character in a given string. The constructor takes an input string and initializes an instance variable with it. The findFirstNonRepeating method uses an integer array to keep track of the frequency of each character in the input string, and then iterates through the input string again to find the first character with a frequency of 1. The method returns this character as the first non-repeating character, or a null character if no non-repeating character is found. The main method creates an instance of the NonRepeatingCharacterFinder class with an example input string, calls the findFirstNonRepeating method, and prints the result. This code segment is more object-oriented and reusable than the first code segment.\n"
   ]
  },
  {
   "attachments": {},
   "cell_type": "markdown",
   "metadata": {},
   "source": [
    "## Summary from ChatGPT\n",
    "- Here is a brief overview of the relationship between primitives, wrapper classes, and arrays in Java:\n",
    "\n",
    "### Primitives:\n",
    "byte: 8-bit integer\n",
    "short: 16-bit integer\n",
    "int: 32-bit integer\n",
    "long: 64-bit integer\n",
    "float: 32-bit floating point\n",
    "double: 64-bit floating point\n",
    "char: 16-bit Unicode character\n",
    "boolean: true or false value\n",
    "\n",
    "### Wrapper classes:\n",
    "Byte: wraps byte\n",
    "Short: wraps short\n",
    "Integer: wraps int\n",
    "Long: wraps long\n",
    "Float: wraps float\n",
    "Double: wraps double\n",
    "Character: wraps char\n",
    "Boolean: wraps boolean\n",
    "Wrapper classes provide useful methods for working with primitives. For example, you can convert a string to an int using the Integer.parseInt() method.\n",
    "\n",
    "### Arrays:\n",
    "Arrays can be declared for primitives or objects.\n",
    "For example:\n",
    "int[] numbers = new int[10]; creates an array of 10 int values.\n",
    "Integer[] numbers = new Integer[10]; creates an array of 10 Integer objects.\n",
    "Arrays can be used to store multiple values of the same type, and provide useful methods for working with collections of values.\n",
    "\n",
    "\n",
    "### Key Differences: Primitives w/ Wrapper Classes and Primitives w/o Wrapper Classes:\n",
    "\n",
    "- Primitives without wrapper classes are basic data types and are not objects. Wrapper classes, on the other hand, are objects and allow you to perform object-oriented operations on primitives.\n",
    "\n",
    "- Primitives without wrapper classes are typically more efficient in terms of memory and performance than their wrapper class counterparts. This is because wrapper classes introduce additional overhead due to their object-oriented nature.\n",
    "\n",
    "- Wrapper classes provide additional functionality that primitives without wrapper classes do not. For example, wrapper classes have methods that allow you to convert between primitive types, perform arithmetic operations, and more.\n",
    "\n",
    "- Wrapper classes are required in situations where an object is expected, such as when working with collections or generics. Primitives without wrapper classes cannot be used in these situations.\n"
   ]
  },
  {
   "attachments": {},
   "cell_type": "markdown",
   "metadata": {},
   "source": [
    "## FRQ 2014 Question"
   ]
  },
  {
   "attachments": {},
   "cell_type": "markdown",
   "metadata": {},
   "source": [
    "[FRQ 2014 LINK](https://secure-media.collegeboard.org/digitalServices/pdf/ap/ap14_frq_computer_science_a.pdf)\n"
   ]
  },
  {
   "attachments": {},
   "cell_type": "markdown",
   "metadata": {},
   "source": [
    "A & B"
   ]
  },
  {
   "cell_type": "code",
   "execution_count": 58,
   "metadata": {
    "vscode": {
     "languageId": "java"
    }
   },
   "outputs": [],
   "source": [
    "public class ScrambleWord {\n",
    "\n",
    "    public static String scramble(String word) {\n",
    "        int curChar = 0;\n",
    "        String result = \"\";\n",
    "\n",
    "        // iterates through the word as long as the current character index is less than the final index in the word (keeps last letter open for potential pairs, so doesn't check the last letter until it breaks out of the loop)\n",
    "        while (curChar < word.length() - 1) {\n",
    "            // if both letters are A, add one as is and don't scramble\n",
    "            if (word.substring(curChar, curChar + 1).equals(\"A\") && word.substring(curChar + 1, curChar + 2).equals(\"A\")) {\n",
    "                result += word.substring(curChar, curChar + 1);\n",
    "                curChar++; // increment the character index by 1 because no scrambling is necessary\n",
    "            } else {\n",
    "                // if the condition in the if statement is false, scramble and add\n",
    "                result += \"A\"; // add the letter A to the result\n",
    "                result += word.substring(curChar + 1, curChar + 2); // add the second letter to the result\n",
    "                curChar += 2; // increment the character index by 2 to allow for swap of A and following letter\n",
    "            }\n",
    "        }\n",
    "\n",
    "        // check whether curChar is less than the total length of the string, regardless of whether there are more characters in the string that can form a pair with the current character\n",
    "        if (curChar < word.length()) {\n",
    "            result += word.substring(curChar);\n",
    "        }\n",
    "\n",
    "        return result; // return the scrambled word\n",
    "    }\n",
    "\n",
    "}"
   ]
  },
  {
   "cell_type": "code",
   "execution_count": null,
   "metadata": {
    "vscode": {
     "languageId": "java"
    }
   },
   "outputs": [],
   "source": [
    "public static void scrambleOrRemove(List<String> wordList, int minWordLength){\n",
    "    // Loop through each word in the wordList\n",
    "    for (int i = 0; i < wordList.size(); i++){\n",
    "        // Get the current word\n",
    "        String word = wordList.get(i);\n",
    "        // If the word is shorter than the minimum word length, skip it\n",
    "        if (word.length() < minWordLength){\n",
    "            continue;\n",
    "        }\n",
    "        // Scramble the word\n",
    "        String scrambled = scramble(word);\n",
    "        // If the scrambled word is the same as the original word, remove the word from the list\n",
    "        if (word.equals(scrambled)){\n",
    "            wordList.remove(i);\n",
    "            // Decrement the index to account for the removed element\n",
    "            i--;\n",
    "        } else {\n",
    "            // Replace the original word with the scrambled word\n",
    "            wordList.set(i, scrambled);\n",
    "        }\n",
    "    }\n",
    "}\n",
    "\n"
   ]
  }
 ],
 "metadata": {
  "kernelspec": {
   "display_name": "Java",
   "language": "java",
   "name": "java"
  },
  "language_info": {
   "codemirror_mode": "java",
   "file_extension": ".jshell",
   "mimetype": "text/x-java-source",
   "name": "Java",
   "pygments_lexer": "java",
   "version": "11.0.16+8-post-Ubuntu-0ubuntu120.04"
  },
  "orig_nbformat": 4
 },
 "nbformat": 4,
 "nbformat_minor": 2
}
