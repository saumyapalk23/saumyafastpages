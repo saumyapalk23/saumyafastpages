{
 "cells": [
  {
   "attachments": {},
   "cell_type": "markdown",
   "metadata": {},
   "source": [
    "#  Hacks (Code Exercises) + CB FRQ\n",
    "> Primitives (Wrapper Classes + Arrays), CollegeBoard FRQ 2014\n",
    "- toc: true \n",
    "- badges: true\n",
    "- comments: true\n",
    "- categories: [jupyter]"
   ]
  },
  {
   "attachments": {},
   "cell_type": "markdown",
   "metadata": {},
   "source": [
    "## Data Types w/ Primitives Code"
   ]
  },
  {
   "cell_type": "code",
   "execution_count": 19,
   "metadata": {
    "vscode": {
     "languageId": "java"
    }
   },
   "outputs": [
    {
     "name": "stdout",
     "output_type": "stream",
     "text": [
      "The string is: alligator\n",
      "The 1st non-repeating is: i\n"
     ]
    }
   ],
   "source": [
    "//Exercise 2: create a java program to find the first\n",
    "//non-repeating character in a string\n",
    "//example: \"alligator\"\n",
    "//output: i\n",
    "\n",
    "import java.util.*;\n",
    "public class Main {\n",
    "  public static void main(String[] args) {\n",
    "    String str = \"alligator\";\n",
    "    System.out.println(\"The string is: \" + str);\n",
    "    for (int i = 0; i < str.length(); i++) {\n",
    "      boolean unique = true;\n",
    "      for (int j = 0; j < str.length(); j++) {\n",
    "        if (i != j && str.charAt(i) == str.charAt(j)) {\n",
    "          unique = false;\n",
    "          break;\n",
    "        }\n",
    "      }\n",
    "      if (unique) {\n",
    "        System.out.println(\"The 1st non-repeating is: \" + str.charAt(i));\n",
    "        break;\n",
    "     }\n",
    "    }}\n",
    "}\n",
    "Main.main(null);"
   ]
  },
  {
   "attachments": {},
   "cell_type": "markdown",
   "metadata": {},
   "source": [
    "The first code segment is a standalone Java program that uses nested for loops to iterate through each character in the input string and compare it to all other characters to check if it is unique. If a unique character is found, it is printed as the first non-repeating character and the program exits. This code segment does not use any classes or objects and is a simple implementation of the algorithm."
   ]
  },
  {
   "attachments": {},
   "cell_type": "markdown",
   "metadata": {},
   "source": [
    "## Wrapper Classes + Arrays Conversion"
   ]
  },
  {
   "cell_type": "code",
   "execution_count": 17,
   "metadata": {
    "vscode": {
     "languageId": "java"
    }
   },
   "outputs": [
    {
     "name": "stdout",
     "output_type": "stream",
     "text": [
      "The string is: alligator\n",
      "The 1st non-repeating character is: i\n"
     ]
    }
   ],
   "source": [
    "public class NonRepeatingCharacterFinder {\n",
    "    private String str; // instance variable to store the input string\n",
    "    \n",
    "    public NonRepeatingCharacterFinder(String str) {\n",
    "        this.str = str; // constructor -- initializes instance variable with the input string\n",
    "    }\n",
    "    \n",
    "    public char findFirstNonRepeating() {\n",
    "        int[] charCount = new int[256]; // integer array of size 256 to store the frequency of each character in the string\n",
    "        for (int i = 0; i < str.length(); i++) {\n",
    "            charCount[str.charAt(i)]++; // increment the count of the character at the i-th position in the string\n",
    "        }\n",
    "        for (int i = 0; i < str.length(); i++) {\n",
    "            if (charCount[str.charAt(i)] == 1) { // check if the count of the character at the i-th position in the string is equal to 1\n",
    "                return str.charAt(i); // return the first non-repeating character found\n",
    "            }\n",
    "        }\n",
    "        return '\\0'; // return null character if no non-repeating character is found\n",
    "    }\n",
    "    \n",
    "    public static void main(String[] args) {\n",
    "        String str = \"alligator\"; // example input string\n",
    "        NonRepeatingCharacterFinder finder = new NonRepeatingCharacterFinder(str); // create an instance of the NonRepeatingCharacterFinder class with the input string\n",
    "        char result = finder.findFirstNonRepeating(); // call the findFirstNonRepeating method to get the first non-repeating character\n",
    "        System.out.println(\"The string is: \" + str);\n",
    "        if (result == '\\0') { // check if no non-repeating character is found\n",
    "            System.out.println(\"There is no non-repeating character in the string.\");\n",
    "        } else {\n",
    "            System.out.println(\"The 1st non-repeating character is: \" + result); // print the first non-repeating character found\n",
    "        }\n",
    "    }\n",
    "}\n",
    "NonRepeatingCharacterFinder.main(null);\n"
   ]
  },
  {
   "attachments": {},
   "cell_type": "markdown",
   "metadata": {},
   "source": [
    "The second code segment is a Java class contains a constructor and a method to find the first non-repeating character in a given string. The constructor takes an input string and initializes an instance variable with it. The findFirstNonRepeating method uses an integer array to keep track of the frequency of each character in the input string, and then iterates through the input string again to find the first character with a frequency of 1. The method returns this character as the first non-repeating character, or a null character if no non-repeating character is found. The main method creates an instance of the NonRepeatingCharacterFinder class with an example input string, calls the findFirstNonRepeating method, and prints the result. This code segment is more object-oriented and reusable than the first code segment.\n"
   ]
  },
  {
   "attachments": {},
   "cell_type": "markdown",
   "metadata": {},
   "source": [
    "## Summary from ChatGPT\n",
    "- Here is a brief overview of the relationship between primitives, wrapper classes, and arrays in Java:\n",
    "\n",
    "### Primitives:\n",
    "byte: 8-bit integer\n",
    "short: 16-bit integer\n",
    "int: 32-bit integer\n",
    "long: 64-bit integer\n",
    "float: 32-bit floating point\n",
    "double: 64-bit floating point\n",
    "char: 16-bit Unicode character\n",
    "boolean: true or false value\n",
    "\n",
    "### Wrapper classes:\n",
    "Byte: wraps byte\n",
    "Short: wraps short\n",
    "Integer: wraps int\n",
    "Long: wraps long\n",
    "Float: wraps float\n",
    "Double: wraps double\n",
    "Character: wraps char\n",
    "Boolean: wraps boolean\n",
    "Wrapper classes provide useful methods for working with primitives. For example, you can convert a string to an int using the Integer.parseInt() method.\n",
    "\n",
    "### Arrays:\n",
    "Arrays can be declared for primitives or objects.\n",
    "For example:\n",
    "int[] numbers = new int[10]; creates an array of 10 int values.\n",
    "Integer[] numbers = new Integer[10]; creates an array of 10 Integer objects.\n",
    "Arrays can be used to store multiple values of the same type, and provide useful methods for working with collections of values.\n",
    "\n",
    "\n",
    "### Key Differences: Primitives w/ Wrapper Classes and Primitives w/o Wrapper Classes:\n",
    "\n",
    "- Primitives without wrapper classes are basic data types and are not objects. Wrapper classes, on the other hand, are objects and allow you to perform object-oriented operations on primitives.\n",
    "\n",
    "- Primitives without wrapper classes are typically more efficient in terms of memory and performance than their wrapper class counterparts. This is because wrapper classes introduce additional overhead due to their object-oriented nature.\n",
    "\n",
    "- Wrapper classes provide additional functionality that primitives without wrapper classes do not. For example, wrapper classes have methods that allow you to convert between primitive types, perform arithmetic operations, and more.\n",
    "\n",
    "- Wrapper classes are required in situations where an object is expected, such as when working with collections or generics. Primitives without wrapper classes cannot be used in these situations.\n"
   ]
  }
 ],
 "metadata": {
  "kernelspec": {
   "display_name": "Java",
   "language": "java",
   "name": "java"
  },
  "language_info": {
   "codemirror_mode": "java",
   "file_extension": ".jshell",
   "mimetype": "text/x-java-source",
   "name": "Java",
   "pygments_lexer": "java",
   "version": "11.0.16+8-post-Ubuntu-0ubuntu120.04"
  },
  "orig_nbformat": 4
 },
 "nbformat": 4,
 "nbformat_minor": 2
}
