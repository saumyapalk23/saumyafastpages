{
 "cells": [
  {
   "cell_type": "markdown",
   "metadata": {},
   "source": [
    "#  Taking Averages Exercise\n",
    "> Additional Exercises\n",
    "- toc: true \n",
    "- badges: true\n",
    "- comments: true\n",
    "- categories: [jupyter]\n",
    "- image: "
   ]
  },
  {
   "cell_type": "code",
   "execution_count": 1,
   "metadata": {},
   "outputs": [
    {
     "ename": "CompilationException",
     "evalue": "",
     "output_type": "error",
     "traceback": [
      "\u001b[1m\u001b[30m|   \u001b[1m\u001b[30m    (num1 + num2 +\u001b[0m\u001b[1m\u001b[30m\u001b[41m\u001b[0m\u001b[1m\u001b[30m...)/ number you want to divide); //add up the nums and \u001b[0m",
      "\u001b[1m\u001b[31millegal start of expression\u001b[0m",
      "",
      "\u001b[1m\u001b[30m|   \u001b[1m\u001b[30m    (num1 + num2 +...)/ number you\u001b[0m\u001b[1m\u001b[30m\u001b[41m\u001b[0m\u001b[1m\u001b[30m want to divide); //add up the nums and \u001b[0m",
      "\u001b[1m\u001b[31m';' expected\u001b[0m",
      "",
      "\u001b[1m\u001b[30m|   \u001b[1m\u001b[30m    (num1 + num2 +...)/ number you want to\u001b[0m\u001b[1m\u001b[30m\u001b[41m\u001b[0m\u001b[1m\u001b[30m divide); //add up the nums and \u001b[0m",
      "\u001b[1m\u001b[31m';' expected\u001b[0m",
      "",
      "\u001b[1m\u001b[30m|   \u001b[1m\u001b[30m    (num1 + num2 +...)/ number you want to \u001b[0m\u001b[1m\u001b[30m\u001b[41mdivide\u001b[0m\u001b[1m\u001b[30m); //add up the nums and \u001b[0m",
      "\u001b[1m\u001b[31mnot a statement\u001b[0m",
      "",
      "\u001b[1m\u001b[30m|   \u001b[1m\u001b[30m    (num1 + num2 +...)/ number you want to divide\u001b[0m\u001b[1m\u001b[30m\u001b[41m\u001b[0m\u001b[1m\u001b[30m); //add up the nums and \u001b[0m",
      "\u001b[1m\u001b[31m';' expected\u001b[0m",
      ""
     ]
    }
   ],
   "source": [
    "    \n",
    "    \n",
    "    // Warmup: try to create a Java program\n",
    "// that takes in any number of inputs\n",
    "// and prints the average of the numbers\n",
    "\n",
    "// example: 5+5+5 = 5\n",
    "// ask the user to input how many numbers\n",
    "// to find the average of \n",
    "// ask the user to input a number\n",
    "// second #, etc. and then calculate\n",
    "// the average of those numbers\n",
    "\n",
    "// feel free to type in chat for help\n",
    "// or when finished\n",
    "    System.out.println(\"The average of those numbers are \" + //prints out\n",
    "    (num1 + num2 +...)/ number you want to divide); //add up the nums and \n",
    "  }//num you want to divide is however many numbers you want to average out\n",
    "}\n",
    "\n",
    "import java.util.Scanner; //allows scanners to be in the program\n",
    "public class Main {\n",
    "  public static void main(String[] args) {\n",
    "    double num = 0; //keeps count num as the total\n",
    "    double x = 1; //x starts as 1 when user inputs one number keeps count\n",
    "    Scanner sc = new Scanner(System.in); //creates a scanner to allow for input\n",
    "    System.out.println(\"How many numbers you want to average \"); //asks user for input\n",
    "    int n = sc.nextInt(); //takes in integers\n",
    "    while(x <= n) { //while loop as long as asking integer is less than needed integer\n",
    "      System.out.println(\"Input your number \" + \"(\"+ (int) x + \")\"+\":\");\n",
    "      num += sc.nextInt(); //takes in integers and goes to next one (sums up nums)\n",
    "      x += 1; //adds 1 to x so once it reaches x=n it will exit loop\n",
    "    }\n",
    "    double avgn = (num / n); //computes the average\n",
    "    \n",
    "    System.out.println(\"Average:\" + avgn); //prints out the output/average\n",
    "  }}\n"
   ]
  },
  {
   "cell_type": "code",
   "execution_count": 12,
   "metadata": {},
   "outputs": [
    {
     "name": "stdout",
     "output_type": "stream",
     "text": [
      "Input 1st number: Input 2nd number: The average of those numbers are 4\n"
     ]
    }
   ],
   "source": [
    "import java.util.Scanner; //allows scanners to be in program\n",
    "\n",
    "public class Main {\n",
    "  public static void main(String[] args) {\n",
    "    \n",
    "}}\n",
    "Scanner in = new Scanner(System.in); //creates a scanner\n",
    "\n",
    "System.out.print(\"Input 1st number: \"); //asks user for input\n",
    "int num1 = in.nextInt(); //saves number and goes to next int\n",
    "\n",
    "System.out.print(\"Input 2nd number: \"); //same as above\n",
    "int num2 = in.nextInt();\n",
    "\n",
    "System.out.println(\"The average of those numbers are \" + (num1 + num2)/(2));\n",
    "\n",
    "//prints out\n",
    "//num you want to divide is however many numbers you want to average out\n",
    "\n",
    "\n",
    "    "
   ]
  }
 ],
 "metadata": {
  "kernelspec": {
   "display_name": "Java",
   "language": "java",
   "name": "java"
  },
  "language_info": {
   "codemirror_mode": "java",
   "file_extension": ".jshell",
   "mimetype": "text/x-java-source",
   "name": "java",
   "pygments_lexer": "java",
   "version": "11.0.16+8-post-Ubuntu-0ubuntu120.04"
  },
  "orig_nbformat": 4,
  "vscode": {
   "interpreter": {
    "hash": "916dbcbb3f70747c44a77c7bcd40155683ae19c65e1c03b4aa3499c5328201f1"
   }
  }
 },
 "nbformat": 4,
 "nbformat_minor": 2
}
