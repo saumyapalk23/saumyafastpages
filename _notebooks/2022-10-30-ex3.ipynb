{
 "cells": [
  {
   "cell_type": "markdown",
   "metadata": {},
   "source": [
    "#  Taking Averages Exercise\n",
    "> Additional Exercises\n",
    "- toc: true \n",
    "- badges: true\n",
    "- comments: true\n",
    "- categories: [jupyter]\n",
    "- image: "
   ]
  },
  {
   "cell_type": "code",
   "execution_count": 1,
   "metadata": {},
   "outputs": [
    {
     "name": "stdout",
     "output_type": "stream",
     "text": [
      "You must have an even number of cars! How many do you want to own? "
     ]
    }
   ],
   "source": [
    "import java.util.Scanner; //allows scanners to be in the program\n",
    "public class Main {\n",
    "  public static void main(String[] args) {\n",
    "    double num = 0; //keeps count num as the total\n",
    "    double x = 0; //x starts as 1 when user inputs one number keeps count\n",
    "    Scanner sc = new Scanner(System.in); //creates a scanner to allow for input\n",
    "    System.out.println(\"You must have an even number of cars! How many do you want to own? \"); //asks user for input\n",
    "    int n = sc.nextInt(); //takes in integers\n",
    "    while(n % 2 == 0) { //while loop as long as asking integer is less than needed integer\n",
    "      System.out.println(\"# of Cars \" + \"(\"+ (int) x + \")\"+\":\");\n",
    "      //takes in integers and goes to next one (sums up nums)\n",
    "      x += n; //adds 1 to x so once it reaches x=n it will exit loop\n",
    "    }    \n",
    "    System.out.println(\"Number of Cars: \" + x); //prints out the output/average\n",
    "  }}\n",
    "Main.main(null);"
   ]
  },
  {
   "cell_type": "code",
   "execution_count": 1,
   "metadata": {},
   "outputs": [
    {
     "name": "stdout",
     "output_type": "stream",
     "text": [
      "Input 1st number: Input 2nd number: The average of those numbers are 3\n"
     ]
    }
   ],
   "source": [
    "import java.util.Scanner; //allows scanners to be in program\n",
    "\n",
    "public class Main {\n",
    "  public static void main(String[] args) {\n",
    "    \n",
    "}}\n",
    "Scanner in = new Scanner(System.in); //creates a scanner\n",
    "\n",
    "System.out.print(\"Input 1st number: \"); //asks user for input\n",
    "int num1 = in.nextInt(); //saves number and goes to next int\n",
    "\n",
    "System.out.print(\"Input 2nd number: \"); //same as above\n",
    "int num2 = in.nextInt();\n",
    "\n",
    "System.out.println(\"The average of those numbers are \" + (num1 + num2)/(2));\n",
    "\n",
    "//prints out\n",
    "//num you want to divide is however many numbers you want to average out\n",
    "\n",
    "\n",
    "    "
   ]
  }
 ],
 "metadata": {
  "kernelspec": {
   "display_name": "Java",
   "language": "java",
   "name": "java"
  },
  "language_info": {
   "codemirror_mode": "java",
   "file_extension": ".jshell",
   "mimetype": "text/x-java-source",
   "name": "java",
   "pygments_lexer": "java",
   "version": "11.0.16+8-post-Ubuntu-0ubuntu120.04"
  },
  "orig_nbformat": 4,
  "vscode": {
   "interpreter": {
    "hash": "916dbcbb3f70747c44a77c7bcd40155683ae19c65e1c03b4aa3499c5328201f1"
   }
  }
 },
 "nbformat": 4,
 "nbformat_minor": 2
}
