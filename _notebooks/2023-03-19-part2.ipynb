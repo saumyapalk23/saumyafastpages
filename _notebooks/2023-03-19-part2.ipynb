{
 "cells": [
  {
   "attachments": {},
   "cell_type": "markdown",
   "metadata": {},
   "source": [
    "#  Hacks Week 2\n",
    "> Queues, Merged Queues, Enhanced For-Loops\n",
    "- toc: true \n",
    "- badges: true\n",
    "- comments: true\n",
    "- categories: [jupyter]"
   ]
  },
  {
   "attachments": {},
   "cell_type": "markdown",
   "metadata": {},
   "source": [
    "### Queue - Generics + Enhanced For-Loops"
   ]
  },
  {
   "cell_type": "code",
   "execution_count": 83,
   "metadata": {
    "vscode": {
     "languageId": "java"
    }
   },
   "outputs": [
    {
     "name": "stdout",
     "output_type": "stream",
     "text": [
      "The average of the scores in the class is: 50.0%\n"
     ]
    }
   ],
   "source": [
    "Queue<Integer> queue = new LinkedList<>();\n",
    "queue.add(0);\n",
    "queue.add(10);\n",
    "queue.add(20);\n",
    "queue.add(30);\n",
    "queue.add(40);\n",
    "queue.add(50);\n",
    "queue.add(60);\n",
    "queue.add(70);\n",
    "queue.add(80);\n",
    "queue.add(90);\n",
    "queue.add(100);\n",
    "\n",
    "Integer[] index = queue.toArray(new Integer[queue.size()]);\n",
    "int total = 0;\n",
    "int len = index.length;\n",
    "double average;\n",
    "for (int grade : index)\n",
    "    total += grade;\n",
    "average = (double) total / len;\n",
    "System.out.println(\"The average of the scores in the class is: \" + average + \"%\");\n",
    "\n",
    "//for:each loop directly iterates through all elements automatically\n",
    "//calculates test average by assigning to a double"
   ]
  },
  {
   "attachments": {},
   "cell_type": "markdown",
   "metadata": {},
   "source": [
    "### Hack 1: Queue Example - Output w/ Enqueue + Dequeue"
   ]
  },
  {
   "cell_type": "code",
   "execution_count": 61,
   "metadata": {
    "vscode": {
     "languageId": "java"
    }
   },
   "outputs": [
    {
     "name": "stdout",
     "output_type": "stream",
     "text": [
      "Enqueued data: seven\n",
      "Words count: 1, data: seven\n",
      "\n",
      "Enqueued data: slimy\n",
      "Words count: 2, data: seven slimy\n",
      "\n",
      "Enqueued data: snakes\n",
      "Words count: 3, data: seven slimy snakes\n",
      "\n",
      "Enqueued data: sallying\n",
      "Words count: 4, data: seven slimy snakes sallying\n",
      "\n",
      "Enqueued data: slowly\n",
      "Words count: 5, data: seven slimy snakes sallying slowly\n",
      "\n",
      "Enqueued data: slithered\n",
      "Words count: 6, data: seven slimy snakes sallying slowly slithered\n",
      "\n",
      "Enqueued data: southward\n",
      "Words count: 7, data: seven slimy snakes sallying slowly slithered southward\n",
      "\n",
      "Dequeued data: seven\n",
      "Words count: 6, data: slimy snakes sallying slowly slithered southward\n",
      "\n",
      "Dequeued data: slimy\n",
      "Words count: 5, data: snakes sallying slowly slithered southward\n",
      "\n",
      "Dequeued data: snakes\n",
      "Words count: 4, data: sallying slowly slithered southward\n",
      "\n",
      "Dequeued data: sallying\n",
      "Words count: 3, data: slowly slithered southward\n",
      "\n",
      "Dequeued data: slowly\n",
      "Words count: 2, data: slithered southward\n",
      "\n",
      "Dequeued data: slithered\n",
      "Words count: 1, data: southward\n",
      "\n",
      "Dequeued data: southward\n",
      "Words count: 0, data: \n",
      "\n"
     ]
    }
   ],
   "source": [
    "public class QueueExample {\n",
    "    public static void main(String[] args) {\n",
    "        Queue<String> queue = new LinkedList<String>();\n",
    "\n",
    "        // Adding elements to the queue\n",
    "        queue.add(\"seven\");\n",
    "        System.out.println(\"Enqueued data: \" + \"seven\");\n",
    "        printQueue(queue);\n",
    "\n",
    "        queue.add(\"slimy\");\n",
    "        System.out.println(\"Enqueued data: \" + \"slimy\");\n",
    "        printQueue(queue);\n",
    "\n",
    "        queue.add(\"snakes\");\n",
    "        System.out.println(\"Enqueued data: \" + \"snakes\");\n",
    "        printQueue(queue);\n",
    "\n",
    "        queue.add(\"sallying\");\n",
    "        System.out.println(\"Enqueued data: \" + \"sallying\");\n",
    "        printQueue(queue);\n",
    "\n",
    "        queue.add(\"slowly\");\n",
    "        System.out.println(\"Enqueued data: \" + \"slowly\");\n",
    "        printQueue(queue);\n",
    "\n",
    "        queue.add(\"slithered\");\n",
    "        System.out.println(\"Enqueued data: \" + \"slithered\");\n",
    "        printQueue(queue);\n",
    "\n",
    "        queue.add(\"southward\");\n",
    "        System.out.println(\"Enqueued data: \" + \"southward\");\n",
    "        printQueue(queue);\n",
    "\n",
    "        // Removing elements from the queue\n",
    "        String data =queue.remove();\n",
    "\n",
    "        System.out.println(\"Dequeued data: \" + data);\n",
    "        printQueue(queue);\n",
    "\n",
    "        data = queue.remove();\n",
    "        System.out.println(\"Dequeued data: \" + data);\n",
    "        printQueue(queue);\n",
    "\n",
    "        data = queue.remove();\n",
    "        System.out.println(\"Dequeued data: \" + data);\n",
    "        printQueue(queue);\n",
    "\n",
    "        data = queue.remove();\n",
    "        System.out.println(\"Dequeued data: \" + data);\n",
    "        printQueue(queue);\n",
    "\n",
    "        data = queue.remove();\n",
    "        System.out.println(\"Dequeued data: \" + data);\n",
    "        printQueue(queue);\n",
    "\n",
    "        data = queue.remove();\n",
    "        System.out.println(\"Dequeued data: \" + data);\n",
    "        printQueue(queue);\n",
    "\n",
    "        data = queue.remove();\n",
    "        System.out.println(\"Dequeued data: \" + data);\n",
    "        printQueue(queue);\n",
    "    }\n",
    "\n",
    "    // Helper method to print the contents of the queue\n",
    "    public static void printQueue(Queue<String> queue) {\n",
    "        System.out.println(\"Words count: \" + queue.size() + \", data: \" + String.join(\" \", queue));\n",
    "        System.out.println();\n",
    "    }\n",
    "}\n",
    "\n",
    "QueueExample.main(null);\n"
   ]
  },
  {
   "attachments": {},
   "cell_type": "markdown",
   "metadata": {},
   "source": [
    "### Hack 2: Merge Queues 1 and 2"
   ]
  },
  {
   "cell_type": "code",
   "execution_count": 74,
   "metadata": {
    "vscode": {
     "languageId": "java"
    }
   },
   "outputs": [],
   "source": [
    "public static Queue<Integer> mergeQueues(Queue<Integer> one, Queue<Integer> two) { \n",
    "    Queue<Integer> merged = new LinkedList<>();\n",
    "    Queue<Integer> q1 = new LinkedList<>(one);\n",
    "    Queue<Integer> q2 = new LinkedList<>(two);\n",
    "\n",
    "    while (!q1.isEmpty() && !q2.isEmpty()) {//runs as long as both queues aren't empty\n",
    "        if (q1.peek() <= q2.peek()) {// peek function checks which should come first in merge list\n",
    "            merged.add(q1.poll());// if one element in q1 is more than q2, q2 number goes first to merge, element removed from q2, etc.\n",
    "        } else {//in this case q1 = first, removed element from q1\n",
    "            merged.add(q2.poll());//otherwise does so to q2\n",
    "        }//checks if q1 elements are more than or equal to, essentially, elements of q2\n",
    "    }\n",
    "    while (!q1.isEmpty()) { //based on remaining elements, adds them to merge list, etc.\n",
    "        merged.add(q1.poll());\n",
    "    }\n",
    "    while (!q2.isEmpty()) {\n",
    "        merged.add(q2.poll());\n",
    "    }\n",
    "    return merged; //returns final list\n",
    "}\n"
   ]
  },
  {
   "cell_type": "code",
   "execution_count": 78,
   "metadata": {
    "vscode": {
     "languageId": "java"
    }
   },
   "outputs": [
    {
     "name": "stdout",
     "output_type": "stream",
     "text": [
      "Queue 1: [1, 4, 5, 8]\n",
      "Queue 2: [2, 3, 6, 7]\n",
      "Merged Queue: [1, 2, 3, 4, 5, 6, 7, 8]\n"
     ]
    }
   ],
   "source": [
    "//tests code\n",
    "Queue<Integer> q1 = new LinkedList<>(Arrays.asList(1, 4, 5, 8)); \n",
    "//\"Arrays.asList\" converts the integer arguments into a List, which is \n",
    "//then passed to the LinkedList constructor to create the queue.\n",
    "Queue<Integer> q2 = new LinkedList<>(Arrays.asList(2, 3, 6, 7));\n",
    "Queue<Integer> merged = mergeQueues(q1, q2); //calls method w input\n",
    "System.out.println(\"Queue 1: \" + q1.toString());\n",
    "System.out.println(\"Queue 2: \"+ q2.toString());\n",
    "System.out.println(\"Merged Queue: \" + merged); // should print [1, 2, 3, 4, 5, 6, 7, 8]"
   ]
  }
 ],
 "metadata": {
  "kernelspec": {
   "display_name": "Java",
   "language": "java",
   "name": "java"
  },
  "language_info": {
   "codemirror_mode": "java",
   "file_extension": ".jshell",
   "mimetype": "text/x-java-source",
   "name": "Java",
   "pygments_lexer": "java",
   "version": "11.0.16+8-post-Ubuntu-0ubuntu120.04"
  },
  "orig_nbformat": 4
 },
 "nbformat": 4,
 "nbformat_minor": 2
}
