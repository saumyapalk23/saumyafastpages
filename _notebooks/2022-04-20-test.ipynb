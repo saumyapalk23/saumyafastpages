{
 "cells": [
  {
   "cell_type": "markdown",
   "metadata": {},
   "source": [
    "# Super Cool Random Test!\n",
    "> So Awesome!\n",
    "\n",
    "- toc: true \n",
    "- badges: true\n",
    "- comments: true\n",
    "- categories: [jupyter]\n"
   ]
  },
  {
   "cell_type": "code",
   "execution_count": 78,
   "metadata": {
    "vscode": {
     "languageId": "java"
    }
   },
   "outputs": [],
   "source": [
    "public class Book {\n",
    "    private String title;\n",
    "    private int id;\n",
    "    private static int bookCount;\n",
    "\n",
    "    public Book(String title)\n",
    "    {\n",
    "        this.title = title;\n",
    "        this.id = (int)(Math.random()*10);\n",
    "        this.bookCount = bookCount;\n",
    "    }\n",
    "\n",
    "    public static int getBookCount(){\n",
    "        return bookCount;\n",
    "    }\n",
    "\n",
    "    public static void setBookCount(int bookCount){\n",
    "        bookCount++;\n",
    "    }\n",
    "\n",
    "    public int getBookID(){\n",
    "        return id;\n",
    "    }\n",
    "\n",
    "    public String toString()\n",
    "    {\n",
    "        return (\"ID: \" + id + \", Title: \" + title);\n",
    "    }\n",
    "}"
   ]
  },
  {
   "cell_type": "code",
   "execution_count": 79,
   "metadata": {
    "vscode": {
     "languageId": "java"
    }
   },
   "outputs": [
    {
     "name": "stdout",
     "output_type": "stream",
     "text": [
      "ID: 0, Title: The Great Gatsby\n",
      "ID: 0, Title: Candide\n",
      "ID: 1, Title: Lolita\n",
      "ID: 0, Title: To Kill a Mockingbird\n",
      "ID: 3, Title: 1984\n",
      "Total # of books: 5\n"
     ]
    }
   ],
   "source": [
    "public class myClass{\n",
    "    public static void main(String[] args){\n",
    "    ArrayList<Book> books = new ArrayList<>();\n",
    "    Book Book1 = new Book(\"The Great Gatsby\");\n",
    "    Book Book2 = new Book(\"Candide\");\n",
    "    Book Book3 = new Book(\"Lolita\");\n",
    "    Book Book4 = new Book(\"To Kill a Mockingbird\");\n",
    "    Book Book5 = new Book(\"1984\");\n",
    "\n",
    "    books.add(Book1);\n",
    "    books.add(Book2);\n",
    "    books.add(Book3);\n",
    "    books.add(Book4);\n",
    "    books.add(Book5);\n",
    "\n",
    "    System.out.println(Book1.toString());\n",
    "    System.out.println(Book2.toString());\n",
    "    System.out.println(Book3.toString());\n",
    "    System.out.println(Book4.toString());\n",
    "    System.out.println(Book5.toString());\n",
    "\n",
    "\n",
    "    int bookCount = 0;\n",
    "    for(int i = 0; i <books.size(); i++){\n",
    "        bookCount++;\n",
    "    }\n",
    "    System.out.println(\"Total # of books: \" + bookCount);\n",
    "    }}\n",
    "myClass.main(null);\n"
   ]
  },
  {
   "cell_type": "code",
   "execution_count": 6,
   "metadata": {
    "vscode": {
     "languageId": "java"
    }
   },
   "outputs": [],
   "source": [
    "public class Novel extends Book{\n",
    "    private String author;\n",
    "    private String publication;\n",
    "\n",
    "    public Novel(String title, String author, String publication)\n",
    "    {\n",
    "        super(title);\n",
    "        this.author = author;\n",
    "        this.publication = publication;\n",
    "\n",
    "    }\n",
    "}"
   ]
  }
 ],
 "metadata": {
  "kernelspec": {
   "display_name": "Java",
   "language": "java",
   "name": "java"
  },
  "language_info": {
   "codemirror_mode": "java",
   "file_extension": ".jshell",
   "mimetype": "text/x-java-source",
   "name": "Java",
   "pygments_lexer": "java",
   "version": "11.0.16+8-post-Ubuntu-0ubuntu120.04"
  },
  "orig_nbformat": 4
 },
 "nbformat": 4,
 "nbformat_minor": 2
}
