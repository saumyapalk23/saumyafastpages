{
 "cells": [
  {
   "cell_type": "markdown",
   "metadata": {},
   "source": [
    "# Super Cool Random Test!\n",
    "> So Awesome!\n",
    "\n",
    "- toc: true \n",
    "- badges: true\n",
    "- comments: true\n",
    "- categories: [jupyter]\n"
   ]
  },
  {
   "cell_type": "code",
   "execution_count": 146,
   "metadata": {
    "vscode": {
     "languageId": "java"
    }
   },
   "outputs": [],
   "source": [
    "public class Book {\n",
    "    private String title;\n",
    "    private int id;\n",
    "    private static int bookCount;\n",
    "    private double time;\n",
    "\n",
    "    public Book(String title)\n",
    "    {\n",
    "        this.title = title;\n",
    "        this.id = (int)(Math.random()*10);\n",
    "        this.bookCount = bookCount;\n",
    "        time++;\n",
    "    }\n",
    "\n",
    "    public String getTitle(){\n",
    "        return title;\n",
    "    }\n",
    "\n",
    "    public long getTime(){\n",
    "        return System.currentTimeMillis();\n",
    "    }\n",
    "\n",
    "    public static int getBookCount(){\n",
    "        return bookCount;\n",
    "    }\n",
    "\n",
    "    public static void setBookCount(int bookCount){\n",
    "        bookCount++;\n",
    "    }\n",
    "\n",
    "    public int getBookID(){\n",
    "        return id;\n",
    "    }\n",
    "\n",
    "    public String toString()\n",
    "    {\n",
    "        return (\"ID: \" + id + \", Title: \" + title + \", time: \" + getTime());\n",
    "    }\n",
    "}"
   ]
  },
  {
   "cell_type": "code",
   "execution_count": 81,
   "metadata": {
    "vscode": {
     "languageId": "java"
    }
   },
   "outputs": [
    {
     "name": "stdout",
     "output_type": "stream",
     "text": [
      "ID: 2, Title: The Great Gatsby\n",
      "ID: 1, Title: Candide\n",
      "ID: 9, Title: Lolita\n",
      "ID: 6, Title: To Kill a Mockingbird\n",
      "ID: 4, Title: 1984\n",
      "Total # of books: 5\n"
     ]
    }
   ],
   "source": [
    "public class myClass{\n",
    "    public static void main(String[] args){\n",
    "    ArrayList<Book> books = new ArrayList<>();\n",
    "    Book Book1 = new Book(\"The Great Gatsby\");\n",
    "    Book Book2 = new Book(\"Candide\");\n",
    "    Book Book3 = new Book(\"Lolita\");\n",
    "    Book Book4 = new Book(\"To Kill a Mockingbird\");\n",
    "    Book Book5 = new Book(\"1984\");\n",
    "\n",
    "    books.add(Book1);\n",
    "    books.add(Book2);\n",
    "    books.add(Book3);\n",
    "    books.add(Book4);\n",
    "    books.add(Book5);\n",
    "\n",
    "    System.out.println(Book1.toString());\n",
    "    System.out.println(Book2.toString());\n",
    "    System.out.println(Book3.toString());\n",
    "    System.out.println(Book4.toString());\n",
    "    System.out.println(Book5.toString());\n",
    "\n",
    "\n",
    "    int bookCount = 0;\n",
    "    for(int i = 0; i <books.size(); i++){\n",
    "        bookCount++;\n",
    "    }\n",
    "    System.out.println(\"Total # of books: \" + bookCount);\n",
    "    }}\n",
    "myClass.main(null);\n"
   ]
  },
  {
   "cell_type": "code",
   "execution_count": 168,
   "metadata": {
    "vscode": {
     "languageId": "java"
    }
   },
   "outputs": [],
   "source": [
    "public class Novel extends Book{\n",
    "    private String author;\n",
    "    private double price;\n",
    "    private double time;\n",
    "\n",
    "    public Novel(String title, double time, String author, double price)\n",
    "    {\n",
    "        super(title);\n",
    "        this.price = price;\n",
    "        this.author = author;\n",
    "        this.time = time;\n",
    "\n",
    "    }\n",
    "    public String toString()\n",
    "    {\n",
    "        return (super.toString() + price + author+ super.getTime());\n",
    "    }\n",
    "\n",
    "}"
   ]
  },
  {
   "cell_type": "code",
   "execution_count": 148,
   "metadata": {
    "vscode": {
     "languageId": "java"
    }
   },
   "outputs": [],
   "source": [
    "public class Textbook extends Book{\n",
    "    private String publication;\n",
    "    private double price;\n",
    "    private int edition;\n",
    "\n",
    "    public Textbook(String title, String publication, double price, int edition)\n",
    "    {\n",
    "        super(title);\n",
    "        this.publication = publication;\n",
    "        this.price = price;\n",
    "        this.edition = edition;\n",
    "    }\n",
    "    public int getEdition(){\n",
    "        return edition;\n",
    "    }\n",
    "    public String toString()\n",
    "    {\n",
    "        return (super.toString() + \", \" + price + \", \" + publication + \", \" + edition);\n",
    "    }\n",
    "}"
   ]
  },
  {
   "cell_type": "code",
   "execution_count": 169,
   "metadata": {
    "vscode": {
     "languageId": "java"
    }
   },
   "outputs": [
    {
     "name": "stdout",
     "output_type": "stream",
     "text": [
      "ID: 8, Title: A, time: 1682101077205, 200.0, Myers, 4\n",
      "ID: 6, Title: 8th edition, time: 16821010772064.0Myers1682101077206\n"
     ]
    }
   ],
   "source": [
    "public class myClass{\n",
    "    public static void main(String[] args){\n",
    "    Textbook Textbook1 = new Textbook(\"A\", \"Myers\", 200.0, 4);\n",
    "    System.out.println(Textbook1.toString());\n",
    "\n",
    "    Novel novel1 = new Novel(\"8th edition\", 7.0, \"Myers\", 4);\n",
    "    System.out.println(novel1.toString());\n",
    "\n",
    "    }}\n",
    "myClass.main(null);\n"
   ]
  }
 ],
 "metadata": {
  "kernelspec": {
   "display_name": "Java",
   "language": "java",
   "name": "java"
  },
  "language_info": {
   "codemirror_mode": "java",
   "file_extension": ".jshell",
   "mimetype": "text/x-java-source",
   "name": "Java",
   "pygments_lexer": "java",
   "version": "11.0.16+8-post-Ubuntu-0ubuntu120.04"
  },
  "orig_nbformat": 4
 },
 "nbformat": 4,
 "nbformat_minor": 2
}
