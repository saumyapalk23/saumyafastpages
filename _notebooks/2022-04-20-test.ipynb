{
 "cells": [
  {
   "cell_type": "markdown",
   "metadata": {},
   "source": [
    "# Super Cool Random Test!\n",
    "> So Awesome!\n",
    "\n",
    "- toc: true \n",
    "- badges: true\n",
    "- comments: true\n",
    "- categories: [jupyter]\n"
   ]
  },
  {
   "cell_type": "code",
   "execution_count": 330,
   "metadata": {
    "vscode": {
     "languageId": "java"
    }
   },
   "outputs": [],
   "source": [
    "public class Book {\n",
    "    private String title;\n",
    "    private int id;\n",
    "    private static int bookCount;\n",
    "    private static long time;\n",
    "    private long minutes;\n",
    "    private long hours;\n",
    "    private long currentTimeMillis;\n",
    "\n",
    "    public Book(String title)\n",
    "    {\n",
    "        this.title = title;\n",
    "        this.id = (int)(Math.random()*100);\n",
    "        bookCount = bookCount;\n",
    "        this.time = System.currentTimeMillis();\n",
    "    }\n",
    "    public String getTitle(){\n",
    "        return title;\n",
    "    }\n",
    "    public static int getBookCount(){\n",
    "        return bookCount;\n",
    "    }\n",
    "    public static void setBookCount(int bookCount){\n",
    "        bookCount++;\n",
    "    }\n",
    "\n",
    "    public int getBookID(){\n",
    "        return id;\n",
    "    }\n",
    "\n",
    "    public long shelfLife() {\n",
    "        return System.currentTimeMillis() - this.time;\n",
    "    }\n",
    "\n",
    "    public boolean isExpired() {\n",
    "        if(this.shelfLife()/1000 > 3) {\n",
    "            return true;\n",
    "        }\n",
    "        return false;\n",
    "    }\n",
    "\n",
    "    public String toString() {\n",
    "        return (\"Books: \" + \"ID: \" + id + \", Title: \" + title + \", \" + \"Shelf Life:  \" + this.shelfLife() + \" year(s)\"+ \", \" + \"Expired? \" + this.isExpired());\n",
    "}}"
   ]
  },
  {
   "cell_type": "code",
   "execution_count": 354,
   "metadata": {
    "vscode": {
     "languageId": "java"
    }
   },
   "outputs": [],
   "source": [
    "public class Novel extends Book{\n",
    "    private String author;\n",
    "    private double price;\n",
    "\n",
    "    public Novel(String title, String author, double price)\n",
    "    {\n",
    "        super(title);\n",
    "        this.price = price;\n",
    "        this.author = author;\n",
    "\n",
    "    }\n",
    "    public String toString()\n",
    "    {\n",
    "        return (\"Novels: \" + super.toString() + \", \" + \"price: \"+ price + \", \" + \"author: \" + author);\n",
    "    }\n",
    "\n",
    "}"
   ]
  },
  {
   "cell_type": "code",
   "execution_count": 307,
   "metadata": {
    "vscode": {
     "languageId": "java"
    }
   },
   "outputs": [],
   "source": [
    "public class Textbook extends Book{\n",
    "    private String publication;\n",
    "    private double price;\n",
    "    private int edition;\n",
    "\n",
    "    public Textbook(String title, String publication, double price, int edition)\n",
    "    {\n",
    "        super(title);\n",
    "        this.publication = publication;\n",
    "        this.price = price;\n",
    "        this.edition = edition;\n",
    "    }\n",
    "    public int getEdition(){\n",
    "        return edition;\n",
    "    }\n",
    "    public String toString()\n",
    "    {\n",
    "        return (\"Textbooks: \" + super.toString() + \", \" + \"price: \" + price + \", \" + \"publication: \" + publication + \", \" + \"edition: \"+ edition);\n",
    "    }\n",
    "}"
   ]
  },
  {
   "cell_type": "code",
   "execution_count": 361,
   "metadata": {
    "vscode": {
     "languageId": "java"
    }
   },
   "outputs": [
    {
     "name": "stdout",
     "output_type": "stream",
     "text": [
      "Books: ID: 11, Title: The Great Gatsby, Shelf Life:  0 year(s), Expired? false\n",
      "Books: ID: 54, Title: Candide, Shelf Life:  1 year(s), Expired? false\n",
      "Books: ID: 40, Title: Lolita, Shelf Life:  1 year(s), Expired? false\n",
      "Books: ID: 69, Title: To Kill a Mockingbird, Shelf Life:  1 year(s), Expired? false\n",
      "Books: ID: 56, Title: 1984, Shelf Life:  1 year(s), Expired? false\n",
      "Textbooks: Books: ID: 94, Title: Myers 8th Edition Psychology, Shelf Life:  1 year(s), Expired? false, price: 200.0, publication: Myers, edition: 4\n",
      "Novels: Books: ID: 50, Title: To Kill a Mockingbird, Shelf Life:  1 year(s), Expired? false, price: 4.0, author: Lee\n",
      "Total # of books: 7\n"
     ]
    }
   ],
   "source": [
    "public class myClass{\n",
    "    public static void main(String[] args) throws InterruptedException{\n",
    "        long startTime = System.currentTimeMillis();\n",
    "        // create an object\n",
    "        // Book Book6 = new Book(\"Animal Farm\");\n",
    "        // do some wor with the object\n",
    "    \n",
    "    ArrayList<Book> books = new ArrayList<>();\n",
    "    Book Book1 = new Book(\"The Great Gatsby\");\n",
    "    Book Book2 = new Book(\"Candide\");\n",
    "    Book Book3 = new Book(\"Lolita\");\n",
    "    Book Book4 = new Book(\"To Kill a Mockingbird\");\n",
    "    Book Book5 = new Book(\"1984\");\n",
    "    Textbook Textbook1 = new Textbook(\"Myers 8th Edition Psychology\", \"Myers\", 200.0, 4);\n",
    "    Novel novel1 = new Novel(\"To Kill a Mockingbird\", \"Lee\", 4);\n",
    "\n",
    "    books.add(Book1);\n",
    "    books.add(Book2);\n",
    "    books.add(Book3);\n",
    "    books.add(Book4);\n",
    "    books.add(Book5);\n",
    "    books.add(Textbook1);\n",
    "    books.add(novel1);\n",
    "\n",
    "    \n",
    "    // System.out.println(Book1.toString());\n",
    "    // System.out.println(Book2.toString());\n",
    "    // System.out.println(Book3.toString());\n",
    "    // System.out.println(Book4.toString());\n",
    "    // System.out.println(Book5.toString());\n",
    "\n",
    "    int bookCount = 0;\n",
    "    for(int i = 0; i <books.size(); i++){\n",
    "        bookCount++;\n",
    "        System.out.println(books.get(i).toString());\n",
    "         // Thread.sleep() method can throw an InterruptedException if the thread is interrupted while it is sleeping or waiting\n",
    "        //pauses execution of thread for 1000 milliseconds\n",
    "        // calculate elapsed time\n",
    "        // long endTime = System.currentTimeMillis();\n",
    "        // long elapsedTime = endTime - startTime;\n",
    "        // System.out.println(\"Book \" + books.get(i) +\", \" +\" Time Entering Library: \" + elapsedTime / 1000 + \" seconds\");\n",
    "\n",
    "    }\n",
    "    System.out.println(\"Total # of books: \" + bookCount);\n",
    "    }}\n",
    "    \n",
    "    myClass.main(null);\n"
   ]
  }
 ],
 "metadata": {
  "kernelspec": {
   "display_name": "Java",
   "language": "java",
   "name": "java"
  },
  "language_info": {
   "codemirror_mode": "java",
   "file_extension": ".jshell",
   "mimetype": "text/x-java-source",
   "name": "Java",
   "pygments_lexer": "java",
   "version": "11.0.16+8-post-Ubuntu-0ubuntu120.04"
  },
  "orig_nbformat": 4
 },
 "nbformat": 4,
 "nbformat_minor": 2
}
