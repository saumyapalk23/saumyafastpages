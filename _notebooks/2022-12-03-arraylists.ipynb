{
 "cells": [
  {
   "attachments": {},
   "cell_type": "markdown",
   "metadata": {},
   "source": [
    "#  Arraylists Unit 7\n",
    "> arraylists hw\n",
    "- toc: true \n",
    "- badges: true\n",
    "- comments: true\n",
    "- categories: [jupyter]\n"
   ]
  },
  {
   "cell_type": "markdown",
   "metadata": {},
   "source": [
    "### Create an ArrayList that includes 2 of the 4 factors listed below.\n",
    " #### Find and display the hashCode of an Arraylist before and after being sorted\n",
    " #### Return \"ascending\" if the list is sorted in ascending order, return \"descending\" if it is descending, and return \"neither\" if neither"
   ]
  },
  {
   "cell_type": "code",
   "execution_count": 20,
   "metadata": {
    "vscode": {
     "languageId": "java"
    }
   },
   "outputs": [
    {
     "name": "stdout",
     "output_type": "stream",
     "text": [
      "The list is not in order (neither): [45, 10, 82, 66, 77, 95]\n",
      "Hashcode: -2107407840\n",
      "The list is ascending: [10, 45, 66, 77, 82, 95]\n",
      "Hashcode: 1217396476\n",
      "The list is descending: [95, 82, 77, 66, 45, 10]\n",
      "Hashcode: -609606810\n"
     ]
    }
   ],
   "source": [
    "import java.util.Scanner; //allows scanners to be in program\n",
    "public class arrayList  \n",
    "{  \n",
    "public static void main(String args[])  \n",
    "{}}\n",
    "//object created (integer arraylist)\n",
    "\n",
    "ArrayList<Integer> numbers = new ArrayList<Integer>();  \n",
    "numbers.add(45);\n",
    "numbers.add(10);\n",
    "numbers.add(82);\n",
    "numbers.add(66);\n",
    "numbers.add(77);\n",
    "numbers.add(95);\n",
    "//printing out of order\n",
    "System.out.println(\"The list is not in order (neither): \" + numbers); \n",
    "System.out.println(\"Hashcode: \" + numbers.hashCode());\n",
    "//sorting ArrayList in ascending order  \n",
    "Collections.sort(numbers);  \n",
    "//printing ArrayList after sorting in ascension \n",
    "System.out.println(\"The list is ascending: \" + numbers);  \n",
    "//hashcode\n",
    "System.out.println(\"Hashcode: \" + numbers.hashCode());\n",
    "//descending order\n",
    "\n",
    "Collections.sort(numbers, Collections.reverseOrder());\n",
    "System.out.println(\"The list is descending: \" + numbers);\n",
    "System.out.println(\"Hashcode: \" + numbers.hashCode());\n",
    "\n"
   ]
  },
  {
   "attachments": {},
   "cell_type": "markdown",
   "metadata": {},
   "source": [
    "## VOCAB IMPLEMENTATION"
   ]
  },
  {
   "attachments": {},
   "cell_type": "markdown",
   "metadata": {},
   "source": [
    "### The following items are used by arrays and arraylists:\n",
    "\n",
    "* Casting, specifically for truncating or rounding: Arrays and arraylists may use casting for truncating or rounding values. For example, if an array or arraylist contains floating-point numbers, they may be cast to integers using the '(int)' syntax to round or truncate the values.\n",
    "\n",
    "* Wrapper classes, why wrap int, double. Show examples: Arrays and arraylists may use wrapper classes to store primitive data types such as 'int' and 'double' in objects. Wrapper classes allow these primitive data types to be treated as objects, which can be useful for certain operations and data structures. For example, an array of 'int' values could be wrapped in the 'Integer' wrapper class to create an array of 'Integer' objects.\n",
    "\n",
    "* Math class, specifically Random usage: The 'Math' class, which contains various mathematical functions and constants, may be used by arrays and arraylists. For example, the 'random' method of the 'Math' class can be used to generate random numbers, which could be used to initialize the values of an array or arraylist.\n",
    "\n",
    "* for loop, enhanced for loop: Arrays and arraylists may be iterated over using a 'for' loop or an 'enhanced for' loop. These loops allow the programmer to easily access and manipulate each element in the array or arraylist in turn.\n",
    "\n",
    "* while loop versus do while loop: Arrays and arraylists may be iterated over using a 'while' loop or a 'do-while' loop. These loops are similar to 'for' loops, but offer more flexibility in terms of controlling the iteration. A 'while' loop will only execute its body if a certain condition is met, whereas a 'do-while' loop will always execute its body at least once.\n",
    "\n",
    "* nested loops: Arrays and arraylists may be nested within other loops, allowing the programmer to perform complex operations on the data. For example, a 'for' loop could be used to iterate over an array of arrays, allowing the programmer to access and manipulate the elements of each inner array in turn.\n",
    "\n",
    "* Show use case of access modifiers: Public, Private, Protected: Arrays and arraylists may be declared with access modifiers such as 'public', 'private', and 'protected'. These modifiers control the visibility and accessibility of the array or arraylist within the program. For example, a 'private' array or arraylist can only be accessed within the class in which it is declared, whereas a 'public' array or arraylist can be accessed by any other class.\n",
    "\n",
    "* Static methods, Class methods: Arrays and arraylists may be declared as static or class methods. Static methods are methods that belong to the class itself, rather than to individual instances of the class. This means that they can be called without creating an instance of the class, and are often used for utility functions. Class methods are similar to static methods, but can be overridden by subclasses.\n",
    "\n",
    "* this Keyword: The 'this' keyword may be used in the context of arrays and arraylists to refer to the current instance of the class. This can be useful when dealing with multiple variables with the same name, or when calling methods on the current instance of the class.\n",
    "\n",
    "* main method, tester methods: Arrays and arraylists may be tested using a 'main' method or other tester methods. The 'main' method is the entry point for a Java program, and is typically used to test the functionality of the program. Tester methods are similar to the 'main' method, but are used to test specific components or features of the program.\n",
    "\n",
    "* Inheritance"
   ]
  },
  {
   "cell_type": "code",
   "execution_count": 94,
   "metadata": {
    "vscode": {
     "languageId": "java"
    }
   },
   "outputs": [],
   "source": [
    "import java.util.ArrayList;\n",
    "import java.util.Random;\n",
    "import java.util.Scanner;\n",
    "\n",
    "// Parent class\n",
    "class Animal {\n",
    "  // Private member variable\n",
    "  private String name;\n",
    "\n",
    "  // Constructor\n",
    "  public Animal(String name) {\n",
    "    this.name = name;\n",
    "  }\n",
    "\n",
    "  // Getter method for the name\n",
    "  public String getName() {\n",
    "    return this.name;\n",
    "  }\n",
    "}\n",
    "\n",
    "// Child class that extends the Animal class\n",
    "class Cat extends Animal {\n",
    "  // Private member variable\n",
    "  private int lives;\n",
    "\n",
    "  // Constructor that calls the parent class constructor\n",
    "  public Cat(String name, int lives) {\n",
    "    super(name);\n",
    "    this.lives = lives;\n",
    "  }\n",
    "\n",
    "  // Getter method for the number of lives\n",
    "  public int getLives() {\n",
    "    return this.lives;\n",
    "  }\n",
    "}\n",
    "\n",
    "public class ArrayListExample {}\n",
    "  public static void main(String[] args){\n",
    "    // Create a Scanner object to read input from the user\n",
    "    Scanner scanner = new Scanner(System.in);\n",
    "\n",
    "    // Create an ArrayList of Animal objects\n",
    "    ArrayList<Animal> animals = new ArrayList<>();\n",
    "\n",
    "    // Use a for loop to add random Cat objects to the list\n",
    "    Random rand = new Random();\n",
    "    for (int i = 0; i < 10; i++) {\n",
    "      String name = \"Cat\" + i;\n",
    "      int lives = rand.nextInt(9) + 1;\n",
    "      animals.add(new Cat(name, lives));\n",
    "    }\n",
    "\n",
    "    // Prompt the user to enter some text\n",
    "    System.out.print(\"Enter some text: \");\n",
    "\n",
    "    // Read the user's input from the keyboard\n",
    "    String input = scanner.nextLine();\n",
    "\n",
    "    // Print the user's input\n",
    "    System.out.println(\"You entered: \" + input);\n",
    "\n",
    "    // Use a while loop to print the names of the cats\n",
    "    int i = 0;\n",
    "    while (i < animals.size()) {\n",
    "      // Use the getName() method to get the name of the current cat\n",
    "      System.out.println(\"Name: \" + animals.get(i).getName());\n",
    "      i++;\n",
    "    }\n",
    "}"
   ]
  },
  {
   "attachments": {},
   "cell_type": "markdown",
   "metadata": {},
   "source": [
    "### What arrays and arraylists don't include: \n",
    "\n",
    "* Casting, specifically for division: Arrays and arraylists do not use casting for division. Division is performed using the '/' operator, and the type of the result depends on the types of the operands.\n",
    "\n",
    "* Concatenation, explain or illustrate rules on mixed type concatenation: Concatenation is not used by arrays or arraylists. Instead, these data structures store and manipulate individual elements of a specific type.\n",
    "\n",
    "* Compound Boolean expression: A compound boolean expression is a boolean expression that combines two or more individual boolean expressions using logical operators such as 'and' and 'or'. This is not directly used by arrays or arraylists, although they may be used in a boolean expression to check the value of an array or arraylist element.\n",
    "\n",
    "* Truth tables: Truth tables are not used by arrays or arraylists. Truth tables are used to show the logical relationships between different boolean expressions.\n",
    "\n",
    "* De Morgan's Law: De Morgan's Law is not used by arrays or arraylists. It is a fundamental theorem of logic that describes the relationship between the logical operators 'and' and 'or' and their negations 'not and' and 'not or'.\n",
    "\n",
    "* Comparing numbers: Comparing numbers is not used by arrays or arraylists. Arrays and arraylists store and manipulate individual elements, and the comparison of these elements is performed using the standard comparison operators such as '==', '>', and '<'.\n",
    "\n",
    "* Comparing strings: Comparing strings is not used by arrays or arraylists. Like numbers, arrays and arraylists store and manipulate individual elements, and the comparison of these elements is performed using the standard comparison operators such as '==', '>', and '<'.\n",
    "\n",
    "* Comparing objects: Comparing objects is not used by arrays or arraylists. Objects in Java are compared using the 'equals' method, which is defined by the 'Object' class and can be overridden by subclasses to provide custom comparison behavior.\n",
    "\n",
    "* Arrays and arraylists do not typically contain objects, and even if they did, the 'equals' method would not be used to compare them.\n",
    "\n",
    "* Creating a class, describe naming conventions: Creating a class is not used by arrays or arraylists. In Java, arrays and arraylists are implemented using existing classes, and do not require the creation of new classes. Naming conventions refer to the rules and guidelines for naming variables, methods, and other entities in a program, and are not directly related to arrays or arraylists.\n",
    "\n",
    "* Constructor, describe why there is no return: A constructor is not used by arrays or arraylists. A constructor is a special method that is used to create and initialize an instance of a class. Unlike other methods, constructors do not have a return type, because they do not return a value. Instead, they return a new instance of the class.\n",
    "\n",
    "* Accessor methods, relationship to getter: Accessor methods, also known as getter methods, are not used by arrays or arraylists. Getter methods are methods that are used to retrieve the value of an object's field. They are typically used in classes to provide a way for other objects to access the object's internal state without directly accessing its fields. Arrays and arraylists do not have fields, and do not use getter methods.\n",
    "\n",
    "* Mutator methods, relationship to setter, describe void return type: Mutator methods, also known as setter methods, are not used by arrays or arraylists. Setter methods are methods that are used to modify the value of an object's field. They are typically used in classes to provide a way\n",
    "\n",
    "\n"
   ]
  }
 ],
 "metadata": {
  "kernelspec": {
   "display_name": "Java",
   "language": "java",
   "name": "java"
  },
  "language_info": {
   "codemirror_mode": "java",
   "file_extension": ".jshell",
   "mimetype": "text/x-java-source",
   "name": "Java",
   "pygments_lexer": "java",
   "version": "11.0.16+8-post-Ubuntu-0ubuntu120.04"
  },
  "orig_nbformat": 4
 },
 "nbformat": 4,
 "nbformat_minor": 2
}
