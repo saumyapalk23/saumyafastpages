{
 "cells": [
  {
   "cell_type": "markdown",
   "metadata": {},
   "source": [
    "#  Arraylists\n",
    "> arraylists hw\n",
    "- toc: true \n",
    "- badges: true\n",
    "- comments: true\n",
    "- categories: [jupyter]\n"
   ]
  },
  {
   "cell_type": "markdown",
   "metadata": {},
   "source": [
    "### Create an ArrayList that includes 2 of the 4 factors listed below.\n",
    " #### Find and display the hashCode of an Arraylist before and after being sorted\n",
    " #### Return \"ascending\" if the list is sorted in ascending order, return \"descending\" if it is descending, and return \"neither\" if neither"
   ]
  },
  {
   "cell_type": "code",
   "execution_count": 20,
   "metadata": {
    "vscode": {
     "languageId": "java"
    }
   },
   "outputs": [
    {
     "name": "stdout",
     "output_type": "stream",
     "text": [
      "The list is not in order (neither): [45, 10, 82, 66, 77, 95]\n",
      "Hashcode: -2107407840\n",
      "The list is ascending: [10, 45, 66, 77, 82, 95]\n",
      "Hashcode: 1217396476\n",
      "The list is descending: [95, 82, 77, 66, 45, 10]\n",
      "Hashcode: -609606810\n"
     ]
    }
   ],
   "source": [
    "import java.util.Scanner; //allows scanners to be in program\n",
    "public class arrayList  \n",
    "{  \n",
    "public static void main(String args[])  \n",
    "{}}\n",
    "//object created (integer arraylist)\n",
    "\n",
    "ArrayList<Integer> numbers = new ArrayList<Integer>();  \n",
    "numbers.add(45);\n",
    "numbers.add(10);\n",
    "numbers.add(82);\n",
    "numbers.add(66);\n",
    "numbers.add(77);\n",
    "numbers.add(95);\n",
    "//printing out of order\n",
    "System.out.println(\"The list is not in order (neither): \" + numbers); \n",
    "System.out.println(\"Hashcode: \" + numbers.hashCode());\n",
    "//sorting ArrayList in ascending order  \n",
    "Collections.sort(numbers);  \n",
    "//printing ArrayList after sorting in ascension \n",
    "System.out.println(\"The list is ascending: \" + numbers);  \n",
    "//hashcode\n",
    "System.out.println(\"Hashcode: \" + numbers.hashCode());\n",
    "//descending order\n",
    "\n",
    "Collections.sort(numbers, Collections.reverseOrder());\n",
    "System.out.println(\"The list is descending: \" + numbers);\n",
    "System.out.println(\"Hashcode: \" + numbers.hashCode());\n",
    "\n"
   ]
  }
 ],
 "metadata": {
  "kernelspec": {
   "display_name": "Java",
   "language": "java",
   "name": "java"
  },
  "language_info": {
   "codemirror_mode": "java",
   "file_extension": ".jshell",
   "mimetype": "text/x-java-source",
   "name": "Java",
   "pygments_lexer": "java",
   "version": "11.0.16+8-post-Ubuntu-0ubuntu120.04"
  },
  "orig_nbformat": 4
 },
 "nbformat": 4,
 "nbformat_minor": 2
}
