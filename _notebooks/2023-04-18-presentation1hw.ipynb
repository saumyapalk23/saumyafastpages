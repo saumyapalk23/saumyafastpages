{
 "cells": [
  {
   "cell_type": "code",
   "execution_count": 26,
   "metadata": {},
   "outputs": [
    {
     "name": "stdout",
     "output_type": "stream",
     "text": [
      "Number of cars on highway: 2 Total wheels on highway: 8\n",
      "Number of cars on highway: 4 Total wheels on highway: 16\n",
      "Number of cars on highway: 6 Total wheels on highway: 24\n",
      "Number of cars on highway: 8 Total wheels on highway: 32\n",
      "Number of cars on highway: 10 Total wheels on highway: 40\n"
     ]
    }
   ],
   "source": [
    "int cars = 0; // starting number of cars\n",
    "int numCarsEntering = 2; // number of cars entering at a time\n",
    "int numIterations = 5; // number of times to loop\n",
    "int numWheels = 0;\n",
    "\n",
    "for (int i = 0; i < numIterations; i++) {\n",
    "    cars += numCarsEntering; \n",
    "    numWheels += 8;// use compound operator to add cars\n",
    "    System.out.println(\"Number of cars on highway: \" + cars + \" Total wheels on highway: \" + numWheels);\n",
    "\n",
    "}\n"
   ]
  },
  {
   "cell_type": "code",
   "execution_count": 72,
   "metadata": {},
   "outputs": [
    {
     "name": "stdout",
     "output_type": "stream",
     "text": [
      "Make: Toyota, Model: Corolla, Year: 2022, Price: $24999.99, Used: false\n",
      "Make: Honda, Model: Accord, Year: 2018, Price: $18999.99, Used: true\n",
      "Make: Ford, Model: Mustang, Year: 2020, Price: $34999.99, Used: true\n"
     ]
    }
   ],
   "source": [
    "public class Car {\n",
    "    private String make;\n",
    "    private String model;\n",
    "    private int year;\n",
    "    private double price;\n",
    "    private boolean isUsed;\n",
    "\n",
    "    public Car(String make, String model, int year, double price, boolean isUsed)\n",
    "    {\n",
    "        this.make = make;\n",
    "        this.model = model;\n",
    "        this.year = year;\n",
    "        this.price = price;\n",
    "        this.isUsed = isUsed;\n",
    "    }\n",
    "    \n",
    "    public void printCarDetails() {\n",
    "        System.out.println(\"Make: \" + make + \", Model: \" + model + \", Year: \" + year + \", Price: $\" + price + \", Used: \" + isUsed);\n",
    "    }\n",
    "    \n",
    "    public static void main(String[] args) {\n",
    "        Car car1 = new Car(\"Toyota\", \"Corolla\", 2022, 24999.99, false);\n",
    "        Car car2 = new Car(\"Honda\", \"Accord\", 2018, 18999.99, true);\n",
    "        Car car3 = new Car(\"Ford\", \"Mustang\", 2020, 34999.99, true);\n",
    "        \n",
    "        Car[] cars = new Car[3];\n",
    "        cars[0] = car1;\n",
    "        cars[1] = car2;\n",
    "        cars[2] = car3;\n",
    "        \n",
    "        for (int i = 0; i < cars.length; i++) {\n",
    "            cars[i].printCarDetails();\n",
    "        }\n",
    "    }\n",
    "}\n",
    "Car.main(null);\n"
   ]
  },
  {
   "cell_type": "code",
   "execution_count": 58,
   "metadata": {},
   "outputs": [
    {
     "name": "stdout",
     "output_type": "stream",
     "text": [
      "Toyota\n",
      "Camry\n",
      "2019\n",
      "40000.0\n",
      "No, this car is outside the current budget.\n",
      "This car is a mid-range car.\n"
     ]
    }
   ],
   "source": [
    "public class Car {\n",
    "    private String make;\n",
    "    private String model;\n",
    "    private int year;\n",
    "    private double price;\n",
    "    \n",
    "    // Constructor\n",
    "    public Car(String make, String model, int year, double price) {\n",
    "        this.make = make;\n",
    "        this.model = model;\n",
    "        this.year = year;\n",
    "        this.price = price;\n",
    "    }\n",
    "    \n",
    "    // Getter methods\n",
    "    public String getMake() {\n",
    "        return make;\n",
    "    }\n",
    "    \n",
    "    public String getModel() {\n",
    "        return model;\n",
    "    }\n",
    "    \n",
    "    public int getYear() {\n",
    "        return year;\n",
    "    }\n",
    "    \n",
    "    public double getPrice() {\n",
    "        return price;\n",
    "    }\n",
    "    \n",
    "    // Method to determine if the car is affordable or not\n",
    "    public boolean isAffordable(double budget) {\n",
    "        if (price <= budget) {\n",
    "            return true;\n",
    "        } else {\n",
    "            return false;\n",
    "        }\n",
    "    }\n",
    "    \n",
    "    // Main method\n",
    "    public static void main(String[] args) {\n",
    "        Car car1 = new Car(\"Toyota\", \"Camry\", 2019, 40000.0);        \n",
    "        \n",
    "        System.out.println(car1.getMake());\n",
    "        System.out.println(car1.getModel());\n",
    "        System.out.println(car1.getYear());\n",
    "        System.out.println(car1.getPrice());\n",
    "        \n",
    "        if(car1.isAffordable(20000))\n",
    "        {\n",
    "            System.out.println(\"Yes, this car is affordable.\");\n",
    "        }\n",
    "        else{\n",
    "            System.out.println(\"No, this car is outside the current budget.\");\n",
    "        }\n",
    "       \n",
    "        if(car1.price > 50000) {\n",
    "            System.out.println(\"This is a luxury car.\");\n",
    "        } else if(car1.price > 30000) {\n",
    "            System.out.println(\"This car is a mid-range car.\");\n",
    "        } else {\n",
    "            System.out.println(\"This car is an affordable car.\");\n",
    "        }\n",
    "                // Check if the car is a luxury car based on its price using if-else-if statement\n",
    "    \n",
    "    }\n",
    "}\n",
    "Car.main(null);"
   ]
  },
  {
   "cell_type": "code",
   "execution_count": null,
   "metadata": {},
   "outputs": [],
   "source": []
  }
 ],
 "metadata": {
  "kernelspec": {
   "display_name": "Java",
   "language": "java",
   "name": "java"
  },
  "language_info": {
   "codemirror_mode": "java",
   "file_extension": ".jshell",
   "mimetype": "text/x-java-source",
   "name": "java",
   "pygments_lexer": "java",
   "version": "11.0.16+8-post-Ubuntu-0ubuntu120.04"
  },
  "orig_nbformat": 4
 },
 "nbformat": 4,
 "nbformat_minor": 2
}
