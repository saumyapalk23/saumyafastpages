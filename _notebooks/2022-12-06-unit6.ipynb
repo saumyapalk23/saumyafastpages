{
 "cells": [
  {
   "attachments": {},
   "cell_type": "markdown",
   "metadata": {},
   "source": [
    "#  Arrays Unit 6/Vocab Integration\n",
    "> Arrays HW\n",
    "- toc: true \n",
    "- badges: true\n",
    "- comments: true\n",
    "- categories: [jupyter]"
   ]
  },
  {
   "attachments": {},
   "cell_type": "markdown",
   "metadata": {},
   "source": [
    "## HW"
   ]
  },
  {
   "cell_type": "markdown",
   "metadata": {},
   "source": [
    "#### swaps first/last elements"
   ]
  },
  {
   "cell_type": "code",
   "execution_count": 7,
   "metadata": {
    "vscode": {
     "languageId": "java"
    }
   },
   "outputs": [
    {
     "name": "stdout",
     "output_type": "stream",
     "text": [
      "Original Array: [92, 38, 23, 90, 12, 54, 72]\n",
      "New array: [72, 38, 23, 90, 12, 54, 92]\n"
     ]
    }
   ],
   "source": [
    "import java.util.Arrays; \n",
    " public class unit6hw {\n",
    "    public static void main(String[] args)\n",
    " {}}\n",
    "        int[] array1 = {92, 38, 23, 90, 12, 54, 72};\n",
    "        System.out.println(\"Original Array: \"+Arrays.toString(array1)); \n",
    "        int x = array1[0];\n",
    "        array1[0] = array1[array1.length-1];\n",
    "        array1[array1.length-1] = x;\n",
    "        System.out.println(\"New array: \"+Arrays.toString(array1)); \n",
    "        //swaps first/last elements"
   ]
  },
  {
   "cell_type": "markdown",
   "metadata": {},
   "source": [
    "#### all even values to 0\n"
   ]
  },
  {
   "cell_type": "code",
   "execution_count": 37,
   "metadata": {
    "vscode": {
     "languageId": "java"
    }
   },
   "outputs": [
    {
     "name": "stdout",
     "output_type": "stream",
     "text": [
      "New array: [0, 38, 23, 90, 65, 54, 72, 99]\n",
      "New array: [0, 0, 23, 90, 65, 54, 72, 99]\n",
      "New array: [0, 0, 23, 90, 65, 54, 72, 99]\n",
      "New array: [0, 0, 23, 0, 65, 54, 72, 99]\n",
      "New array: [0, 0, 23, 0, 65, 54, 72, 99]\n",
      "New array: [0, 0, 23, 0, 65, 0, 72, 99]\n",
      "New array: [0, 0, 23, 0, 65, 0, 0, 99]\n",
      "New array: [0, 0, 23, 0, 65, 0, 0, 99]\n"
     ]
    }
   ],
   "source": [
    "//all even values to 0\n",
    "import java.util.Arrays; \n",
    " public class unit6hw {\n",
    "    public static void main(String[] args)\n",
    " {}}\n",
    "        int[] array1;\n",
    "        array1 = new int[7];\n",
    "        int array1[]  = {92, 38, 23, 90, 65, 54, 72, 99};\n",
    "        // const int size = 7;\n",
    "        // int array1[size] = { 1,2,3,4,5,6,7 };    \n",
    "        for (int i = 0; i < array1.length; i++)\n",
    "        {\n",
    "            if (array1[i] % 2 == 0)\n",
    "                array1[i] = 0;\n",
    "    System.out.println(\"New array: \"+Arrays.toString(array1)); }\n",
    "        \n",
    "    "
   ]
  },
  {
   "cell_type": "markdown",
   "metadata": {},
   "source": [
    "## For, While, Nested Loops\n",
    "- while loop\n",
    "- - executed while something is happening\n",
    "- - iterates over elements\n",
    "- - can be infinite if boolean is always true\n",
    "\n",
    "- do-while loop\n",
    "- - condition is checked after executed statements\n",
    "\n",
    "- for loop\n",
    "- - certain amt of loops thru code block\n",
    "\n",
    "- nested loop: loop w/in loop\n",
    "\n",
    "- for-each loop\n",
    "- - traverses an array in java\n",
    "\n",
    "\n"
   ]
  },
  {
   "cell_type": "markdown",
   "metadata": {},
   "source": [
    "### While Loop"
   ]
  },
  {
   "cell_type": "code",
   "execution_count": null,
   "metadata": {
    "vscode": {
     "languageId": "java"
    }
   },
   "outputs": [],
   "source": [
    "int x = 10;\n",
    "\n",
    "while (i<10) {\n",
    "    System.out.println(i);\n",
    "\n",
    "    i++;\n",
    "}"
   ]
  },
  {
   "cell_type": "code",
   "execution_count": null,
   "metadata": {
    "vscode": {
     "languageId": "java"
    }
   },
   "outputs": [],
   "source": [
    "public class arrays\n",
    "{\n",
    "   public static void main(String[] args)\n",
    "   {\n",
    "   }}\n",
    "   public static void main(String[] args) {\n",
    "    int[] numbers = {2, 4, 6, 8, 10};\n",
    "    int i = 0;\n",
    "    while (i < numbers.length) {\n",
    "        System.out.println(numbers[i]);\n",
    "        i++;\n",
    "\n",
    "    }}\n",
    "        \n"
   ]
  },
  {
   "cell_type": "markdown",
   "metadata": {},
   "source": [
    "### Do-While Loop"
   ]
  },
  {
   "cell_type": "code",
   "execution_count": null,
   "metadata": {
    "vscode": {
     "languageId": "java"
    }
   },
   "outputs": [
    {
     "name": "stdout",
     "output_type": "stream",
     "text": [
      "0\n",
      "1\n",
      "2\n",
      "3\n",
      "4\n"
     ]
    }
   ],
   "source": [
    "int i = 0;\n",
    "do {\n",
    "  System.out.println(i);\n",
    "  i++;\n",
    "}\n",
    "while (i < 5);\n",
    "\n"
   ]
  },
  {
   "cell_type": "markdown",
   "metadata": {},
   "source": [
    "### For/For-Each Loop"
   ]
  },
  {
   "cell_type": "code",
   "execution_count": null,
   "metadata": {
    "vscode": {
     "languageId": "java"
    }
   },
   "outputs": [
    {
     "name": "stdout",
     "output_type": "stream",
     "text": [
      "5\n",
      "6\n",
      "7\n",
      "8\n",
      "9\n",
      "10\n",
      "11\n",
      "12\n",
      "13\n",
      "1\n",
      "2\n",
      "3\n"
     ]
    }
   ],
   "source": [
    "for (int i = 5; i < 14; i++) {\n",
    "    System.out.println(i);\n",
    "  }\n",
    "\n",
    "  for (int j = 1; j <= 3; j++) {\n",
    "    System.out.println(j);\n",
    "}//nested loop\n",
    "\n",
    "\n",
    "\n"
   ]
  },
  {
   "cell_type": "code",
   "execution_count": null,
   "metadata": {
    "vscode": {
     "languageId": "java"
    }
   },
   "outputs": [
    {
     "name": "stdout",
     "output_type": "stream",
     "text": [
      "10\n",
      "20\n",
      "30\n",
      "40\n",
      "50\n"
     ]
    }
   ],
   "source": [
    "//for-each loop\n",
    "int arr[]={10,20,30,40,50};  \n",
    "for(int j:arr){  \n",
    "  System.out.println(j);  \n",
    "}"
   ]
  },
  {
   "attachments": {},
   "cell_type": "markdown",
   "metadata": {},
   "source": [
    "## VOCAB IMPLEMENTATION"
   ]
  },
  {
   "attachments": {},
   "cell_type": "markdown",
   "metadata": {},
   "source": [
    "### The following items are used by arrays and arraylists:\n",
    "\n",
    "* Casting, specifically for truncating or rounding: Arrays and arraylists may use casting for truncating or rounding values. For example, if an array or arraylist contains floating-point numbers, they may be cast to integers using the '(int)' syntax to round or truncate the values.\n",
    "\n",
    "* Wrapper classes, why wrap int, double. Show examples: Arrays and arraylists may use wrapper classes to store primitive data types such as 'int' and 'double' in objects. Wrapper classes allow these primitive data types to be treated as objects, which can be useful for certain operations and data structures. For example, an array of 'int' values could be wrapped in the 'Integer' wrapper class to create an array of 'Integer' objects.\n",
    "\n",
    "* Math class, specifically Random usage: The 'Math' class, which contains various mathematical functions and constants, may be used by arrays and arraylists. For example, the 'random' method of the 'Math' class can be used to generate random numbers, which could be used to initialize the values of an array or arraylist.\n",
    "\n",
    "* for loop, enhanced for loop: Arrays and arraylists may be iterated over using a 'for' loop or an 'enhanced for' loop. These loops allow the programmer to easily access and manipulate each element in the array or arraylist in turn.\n",
    "\n",
    "* while loop versus do while loop: Arrays and arraylists may be iterated over using a 'while' loop or a 'do-while' loop. These loops are similar to 'for' loops, but offer more flexibility in terms of controlling the iteration. A 'while' loop will only execute its body if a certain condition is met, whereas a 'do-while' loop will always execute its body at least once.\n",
    "\n",
    "* nested loops: Arrays and arraylists may be nested within other loops, allowing the programmer to perform complex operations on the data. For example, a 'for' loop could be used to iterate over an array of arrays, allowing the programmer to access and manipulate the elements of each inner array in turn.\n",
    "\n",
    "* Show use case of access modifiers: Public, Private, Protected: Arrays and arraylists may be declared with access modifiers such as 'public', 'private', and 'protected'. These modifiers control the visibility and accessibility of the array or arraylist within the program. For example, a 'private' array or arraylist can only be accessed within the class in which it is declared, whereas a 'public' array or arraylist can be accessed by any other class.\n",
    "\n",
    "* Static methods, Class methods: Arrays and arraylists may be declared as static or class methods. Static methods are methods that belong to the class itself, rather than to individual instances of the class. This means that they can be called without creating an instance of the class, and are often used for utility functions. Class methods are similar to static methods, but can be overridden by subclasses.\n",
    "\n",
    "* this Keyword: The 'this' keyword may be used in the context of arrays and arraylists to refer to the current instance of the class. This can be useful when dealing with multiple variables with the same name, or when calling methods on the current instance of the class.\n",
    "\n",
    "* main method, tester methods: Arrays and arraylists may be tested using a 'main' method or other tester methods. The 'main' method is the entry point for a Java program, and is typically used to test the functionality of the program. Tester methods are similar to the 'main' method, but are used to test specific components or features of the program.\n",
    "\n",
    "* Inheritance"
   ]
  },
  {
   "cell_type": "code",
   "execution_count": 1,
   "metadata": {
    "vscode": {
     "languageId": "java"
    }
   },
   "outputs": [],
   "source": [
    "import java.util.Arrays;\n",
    "import java.util.Random;\n",
    "\n",
    "public class ArrayExample {\n",
    "  private static int[] values;\n",
    "  private static Integer[] wrapped;\n",
    "\n",
    "  public static void main(String[] args) {\n",
    "    // Initialize the array with random values\n",
    "    values = new int[10];\n",
    "    Random rand = new Random();\n",
    "    for (int i = 0; i < values.length; i++) {\n",
    "      values[i] = rand.nextInt(100);\n",
    "    }\n",
    "\n",
    "    // Print the array\n",
    "    System.out.println(\"Original array: \" + Arrays.toString(values));\n",
    "\n",
    "    // Truncate and round the array elements\n",
    "    processArray();\n",
    "\n",
    "    // Print the updated array\n",
    "    System.out.println(\"Truncated and rounded array: \" + Arrays.toString(values));\n",
    "\n",
    "    // Use a wrapper class to store the array elements as objects\n",
    "    wrapped();\n",
    "\n",
    "    // Print the squared array\n",
    "    System.out.println(\"Squared array: \" + Arrays.toString(wrapped));\n",
    "\n",
    "    // Use a while loop to iterate over the array\n",
    "    int i = 0;\n",
    "    while (i < values.length) {\n",
    "      // Print the current element\n",
    "      System.out.println(\"Element at index \" + i + \": \" + wrapped[i]);\n",
    "      i++;\n",
    "    }\n",
    "  }\n",
    "\n",
    "  public static void processArray() {\n",
    "    for (int i = 0; i < values.length; i++) {\n",
    "      // Truncate the element by casting it to an integer\n",
    "      int truncated = (int) values[i];\n",
    "      // Round the element by adding 0.5 and casting to an integer\n",
    "      int rounded = (int) (values[i] + 0.5);\n",
    "\n",
    "      // Update the array with the truncated and rounded values\n",
    "      values[i] = truncated;\n",
    "      values[i] = rounded;\n",
    "    }\n",
    "  }\n",
    "\n",
    "  public static void wrapped() {\n",
    "    wrapped = new Integer[values.length];\n",
    "    for (int i = 0; i < values.length; i++) {\n",
    "      // Wrap the element in an Integer object\n",
    "      wrapped[i] = new Integer(values[i]);\n",
    "    }\n",
    "\n",
    "    // Use the Math class to square the array elements\n",
    "    for (int i = 0; i < values.length; i++) {\n",
    "      // Square the element using the Math.pow method\n",
    "      wrapped[i] = (int) Math.pow(wrapped[i], 2);\n",
    "    }\n",
    "  }\n",
    "}\n",
    "\n",
    "public static void testArrayExample() {\n",
    "  // Create an array of integers\n",
    "  int[] arr = new int[] {3, 4, 90, 5, 6, 7};\n",
    "\n",
    "  ArrayProcessor processor = new ArrayProcessor(arr);\n",
    "\n",
    "  // Truncate and round the elements of the array\n",
    "  processor.processArray();\n",
    "  processor.wrapped();\n",
    "\n",
    "  // Print the updated array\n",
    "  System.out.println(\"Updated array: \" + Arrays.toString(arr));\n",
    "  System.out.println(\"Squared array: \" + Arrays.toString(wrapped));\n",
    "  System.out.println(\"Element at index \" + i + \": \" + wrapped[i]);\n",
    "  System.out.println(\"Truncated and rounded array: \" + Arrays.toString(values));\n",
    "}\n"
   ]
  },
  {
   "cell_type": "code",
   "execution_count": 2,
   "metadata": {
    "vscode": {
     "languageId": "java"
    }
   },
   "outputs": [
    {
     "name": "stdout",
     "output_type": "stream",
     "text": [
      "Updated array: [1, 2, 3, 4, 5, 6]\n"
     ]
    }
   ],
   "source": [
    "import java.util.Arrays;\n",
    "import java.util.Random;\n",
    "\n",
    "  // Subclass to process array elements\n",
    "  public static class ArrayProcessor {\n",
    "    private int[] array;\n",
    "\n",
    "    // Constructor\n",
    "    public ArrayProcessor(int[] arr) {\n",
    "      this.array = arr;\n",
    "    }\n",
    "\n",
    "    // Method to truncate and round the array elements\n",
    "    public void processArray() {\n",
    "      for (int i = 0; i < this.array.length; i++) {\n",
    "        // Truncate the element by casting it to an integer\n",
    "        int truncated = (int) this.array[i];\n",
    "        // Round the element by adding 0.5 and casting to an integer\n",
    "        int rounded = (int) (this.array[i] + 0.5);\n",
    "\n",
    "        // Update the array with the truncated and rounded values\n",
    "        this.array[i] = truncated;\n",
    "        this.array[i] = rounded;\n",
    "      }\n",
    "    }\n",
    "  }\n",
    "\n",
    "  // Tester method to test the ArrayProcessor class\n",
    "  public static void testArrayProcessor() {}\n",
    "    // Create an array of integers\n",
    "    int[] arr = new int[] {1, 2, 3, 4, 5, 6};\n",
    "  \n",
    "    // Create an instance of the ArrayProcessor class\n",
    "    ArrayProcessor processor = new ArrayProcessor(arr);\n",
    "  \n",
    "    // Truncate and round the elements of the array\n",
    "    processor.processArray();\n",
    "  \n",
    "    // Print the updated array\n",
    "    System.out.println(\"Updated array: \" + Arrays.toString(arr));\n"
   ]
  },
  {
   "attachments": {},
   "cell_type": "markdown",
   "metadata": {},
   "source": [
    "### What arrays and arraylists don't include: \n",
    "\n",
    "* Casting, specifically for division: Arrays and arraylists do not use casting for division. Division is performed using the '/' operator, and the type of the result depends on the types of the operands.\n",
    "\n",
    "* Concatenation, explain or illustrate rules on mixed type concatenation: Concatenation is not used by arrays or arraylists. Instead, these data structures store and manipulate individual elements of a specific type.\n",
    "\n",
    "* Compound Boolean expression: A compound boolean expression is a boolean expression that combines two or more individual boolean expressions using logical operators such as 'and' and 'or'. This is not directly used by arrays or arraylists, although they may be used in a boolean expression to check the value of an array or arraylist element.\n",
    "\n",
    "* Truth tables: Truth tables are not used by arrays or arraylists. Truth tables are used to show the logical relationships between different boolean expressions.\n",
    "\n",
    "* De Morgan's Law: De Morgan's Law is not used by arrays or arraylists. It is a fundamental theorem of logic that describes the relationship between the logical operators 'and' and 'or' and their negations 'not and' and 'not or'.\n",
    "\n",
    "* Comparing numbers: Comparing numbers is not used by arrays or arraylists. Arrays and arraylists store and manipulate individual elements, and the comparison of these elements is performed using the standard comparison operators such as '==', '>', and '<'.\n",
    "\n",
    "* Comparing strings: Comparing strings is not used by arrays or arraylists. Like numbers, arrays and arraylists store and manipulate individual elements, and the comparison of these elements is performed using the standard comparison operators such as '==', '>', and '<'.\n",
    "\n",
    "* Comparing objects: Comparing objects is not used by arrays or arraylists. Objects in Java are compared using the 'equals' method, which is defined by the 'Object' class and can be overridden by subclasses to provide custom comparison behavior.\n",
    "\n",
    "* Arrays and arraylists do not typically contain objects, and even if they did, the 'equals' method would not be used to compare them.\n",
    "\n",
    "* Creating a class, describe naming conventions: Creating a class is not used by arrays or arraylists. In Java, arrays and arraylists are implemented using existing classes, and do not require the creation of new classes. Naming conventions refer to the rules and guidelines for naming variables, methods, and other entities in a program, and are not directly related to arrays or arraylists.\n",
    "\n",
    "* Constructor, describe why there is no return: A constructor is not used by arrays or arraylists. A constructor is a special method that is used to create and initialize an instance of a class. Unlike other methods, constructors do not have a return type, because they do not return a value. Instead, they return a new instance of the class.\n",
    "\n",
    "* Accessor methods, relationship to getter: Accessor methods, also known as getter methods, are not used by arrays or arraylists. Getter methods are methods that are used to retrieve the value of an object's field. They are typically used in classes to provide a way for other objects to access the object's internal state without directly accessing its fields. Arrays and arraylists do not have fields, and do not use getter methods.\n",
    "\n",
    "* Mutator methods, relationship to setter, describe void return type: Mutator methods, also known as setter methods, are not used by arrays or arraylists. Setter methods are methods that are used to modify the value of an object's field. They are typically used in classes to provide a way\n",
    "\n",
    "\n"
   ]
  }
 ],
 "metadata": {
  "kernelspec": {
   "display_name": "Java",
   "language": "java",
   "name": "java"
  },
  "language_info": {
   "codemirror_mode": "java",
   "file_extension": ".jshell",
   "mimetype": "text/x-java-source",
   "name": "Java",
   "pygments_lexer": "java",
   "version": "11.0.16+8-post-Ubuntu-0ubuntu120.04"
  },
  "orig_nbformat": 4
 },
 "nbformat": 4,
 "nbformat_minor": 2
}
