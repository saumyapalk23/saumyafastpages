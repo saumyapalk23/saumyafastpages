{
 "cells": [
  {
   "cell_type": "code",
   "execution_count": 7,
   "metadata": {
    "vscode": {
     "languageId": "java"
    }
   },
   "outputs": [
    {
     "name": "stdout",
     "output_type": "stream",
     "text": [
      "Original Array: [92, 38, 23, 90, 12, 54, 72]\n",
      "New array: [72, 38, 23, 90, 12, 54, 92]\n"
     ]
    }
   ],
   "source": [
    "import java.util.Arrays; \n",
    " public class unit6hw {\n",
    "    public static void main(String[] args)\n",
    " {}}\n",
    "        int[] array1 = {92, 38, 23, 90, 12, 54, 72};\n",
    "        System.out.println(\"Original Array: \"+Arrays.toString(array1)); \n",
    "        int x = array1[0];\n",
    "        array1[0] = array1[array1.length-1];\n",
    "        array1[array1.length-1] = x;\n",
    "        System.out.println(\"New array: \"+Arrays.toString(array1)); \n",
    "        //swaps first/last elements"
   ]
  },
  {
   "cell_type": "code",
   "execution_count": 36,
   "metadata": {
    "vscode": {
     "languageId": "java"
    }
   },
   "outputs": [
    {
     "name": "stdout",
     "output_type": "stream",
     "text": [
      "New array: [0, 38, 23, 90, 65, 54, 72, 99]\n",
      "New array: [0, 0, 23, 90, 65, 54, 72, 99]\n",
      "New array: [0, 0, 23, 90, 65, 54, 72, 99]\n",
      "New array: [0, 0, 23, 0, 65, 54, 72, 99]\n",
      "New array: [0, 0, 23, 0, 65, 54, 72, 99]\n",
      "New array: [0, 0, 23, 0, 65, 0, 72, 99]\n",
      "New array: [0, 0, 23, 0, 65, 0, 0, 99]\n",
      "New array: [0, 0, 23, 0, 65, 0, 0, 99]\n"
     ]
    }
   ],
   "source": [
    "//all even values to 0\n",
    "import java.util.Arrays; \n",
    " public class unit6hw {\n",
    "    public static void main(String[] args)\n",
    " {}}\n",
    "        int[] array1;\n",
    "        array1 = new int[7];\n",
    "        int array1[]  = {92, 38, 23, 90, 65, 54, 72, 99};\n",
    "        // const int size = 7;\n",
    "        // int array1[size] = { 1,2,3,4,5,6,7 };    \n",
    "        for (int i = 0; i < array1.length; i++)\n",
    "        {\n",
    "            if (array1[i] % 2 == 0)\n",
    "                array1[i] = 0;\n",
    "    System.out.println(\"New array: \"+Arrays.toString(array1)); }\n",
    "        \n",
    "    "
   ]
  }
 ],
 "metadata": {
  "kernelspec": {
   "display_name": "Java",
   "language": "java",
   "name": "java"
  },
  "language_info": {
   "codemirror_mode": "java",
   "file_extension": ".jshell",
   "mimetype": "text/x-java-source",
   "name": "Java",
   "pygments_lexer": "java",
   "version": "11.0.16+8-post-Ubuntu-0ubuntu120.04"
  },
  "orig_nbformat": 4
 },
 "nbformat": 4,
 "nbformat_minor": 2
}
