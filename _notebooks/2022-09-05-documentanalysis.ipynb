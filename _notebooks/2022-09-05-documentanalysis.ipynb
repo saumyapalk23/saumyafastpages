{
 "cells": [
  {
   "cell_type": "markdown",
   "metadata": {},
   "source": [
    "# Documentation/Analysis\n",
    "> Documentation/Analysis\n",
    "\n",
    "- toc: true \n",
    "- badges: true\n",
    "- comments: true\n",
    "- categories: [jupyter]\n",
    "- image: "
   ]
  },
  {
   "cell_type": "markdown",
   "metadata": {},
   "source": [
    "Class\n",
    "- basic building block\n",
    "- must be given keyword \"class\" in java (at the top)\n",
    "    - followed by class name\n",
    "    - followed by methods and variables\n",
    "- class declaration includes:\n",
    "   - Modifiers: A class can be public or has default access.\n",
    "   - class keyword: The class keyword is used to create a class.\n",
    "   - Class name: The name must begin with an initial letter (capitalized by convention).\n",
    "   - Superclass (if any): The name of the class's parent (superclass), if any, preceded by the keyword extends. A class can only extend (subclass) one parent.\n",
    "   - Interfaces (if any): A comma-separated list of interfaces implemented by the class, if any, preceded by the keyword implements. A class can implement more than one interface.\n",
    "   - Body: The class body surrounded by braces, { }."
   ]
  },
  {
   "cell_type": "code",
   "execution_count": 2,
   "metadata": {},
   "outputs": [],
   "source": [
    "//to create a class\n",
    "public class Main {\n",
    "    int x = 5;\n",
    "  }"
   ]
  },
  {
   "cell_type": "code",
   "execution_count": 3,
   "metadata": {},
   "outputs": [],
   "source": [
    "//multiple classes\n",
    "class Second {\n",
    "    public static void main(String[] args) {\n",
    "      Main myObj = new Main();\n",
    "      System.out.println(myObj.x);\n",
    "    }\n",
    "  }"
   ]
  },
  {
   "cell_type": "markdown",
   "metadata": {},
   "source": [
    "Instance of a Object\n",
    "- non-static variables defined outside any method, constructor, block, etc.\n",
    "- has a separate copy or instance\n",
    "- belongs to a class\n",
    "- instance variables are in the class but outside methods\n",
    "- have different defaults that are later specified\n",
    "- can only be used when an object is made\n",
    "- is destroyed with the object it's assoc. with\n",
    "- not necessary to be initialized\n",
    "- accessible in the same class that declares them\n",
    "- cannot be declared static, abstract, etc.\n",
    "  - only final and transient\n",
    "  - can be any fof the four java modifiers: private, public, protected, and default\n",
    "- include: boolean, byte, short, int, double, float, long, Object, char"
   ]
  },
  {
   "cell_type": "code",
   "execution_count": 4,
   "metadata": {},
   "outputs": [],
   "source": [
    "//to create an object\n",
    "public class Main {\n",
    "  int x = 5;\n",
    "\n",
    "  public static void main(String[] args) {\n",
    "    Main myObj = new Main();\n",
    "    System.out.println(myObj.x);\n",
    "  }\n",
    "} "
   ]
  },
  {
   "cell_type": "code",
   "execution_count": 5,
   "metadata": {},
   "outputs": [],
   "source": [
    "//multiple objects\n",
    "public class Main {\n",
    "    int x = 5;\n",
    "  \n",
    "    public static void main(String[] args) {\n",
    "      Main myObj1 = new Main();  // Object 1\n",
    "      Main myObj2 = new Main();  // Object 2\n",
    "      System.out.println(myObj1.x);\n",
    "      System.out.println(myObj2.x);\n",
    "    }\n",
    "  }"
   ]
  },
  {
   "cell_type": "markdown",
   "metadata": {},
   "source": [
    "Methods\n",
    "- a block of code only running when called\n",
    "- used to pass data, (parameters)\n",
    "- perform actions, known also as functions\n",
    "- reuse code and define the code once to use repetitively\n",
    "- in the example below:\n",
    "  - myMethod() = name of method\n",
    "  - static --> means that the method belongs to the Main class and not an object of the Main class.\n",
    "  - void --> this method doesn't return a value\n",
    "- to call a method, write the method's name w/ 2 parentheses and a semicolon"
   ]
  },
  {
   "cell_type": "code",
   "execution_count": 6,
   "metadata": {},
   "outputs": [],
   "source": [
    "//basic method syntax\n",
    "public class Main {\n",
    "    static void myMethod() {\n",
    "      // code to be executed\n",
    "    }\n",
    "  }"
   ]
  },
  {
   "cell_type": "code",
   "execution_count": 7,
   "metadata": {},
   "outputs": [],
   "source": [
    "//calling a method\n",
    "public class Main {\n",
    "    static void myMethod() {\n",
    "      System.out.println(\"I just got hired!\");\n",
    "    }\n",
    "  \n",
    "    public static void main(String[] args) {\n",
    "      myMethod();\n",
    "    }\n",
    "  }\n",
    "  \n",
    "  // Outputs \"I just got hired!\""
   ]
  },
  {
   "cell_type": "markdown",
   "metadata": {},
   "source": [
    "Object Mutation\n",
    "- faults inserted into a program that distinguish the mutant from the original program\n",
    "- certain objects are mutable vs. immutable\n",
    "- strings are immutable; will always rep. the same string\n",
    "  - but StringBuilder is mutable; it has methods to delete, insert, or replace characters\n",
    "- mutable types seem more powerful than immutable ones\n",
    " - mutable is safer from bugs than immutable\n",
    " - easier to understand than immutable"
   ]
  },
  {
   "cell_type": "markdown",
   "metadata": {},
   "source": [
    "Console vs. GUI vs. Code.org\n",
    "- console: console class in java provides methods to access character-based console device\n",
    "- GUI = graphical user interface; graphical representation where users interact w/ software/devices through clickable icons\n",
    "- CLI: console/text/character based representation where user types commands into a terminal to operate or navigate the software/devices\n",
    "- Code.org: thus is CLI; typing of commands, character-based"
   ]
  }
 ],
 "metadata": {
  "kernelspec": {
   "display_name": "Java",
   "language": "java",
   "name": "java"
  },
  "language_info": {
   "codemirror_mode": "java",
   "file_extension": ".jshell",
   "mimetype": "text/x-java-source",
   "name": "java",
   "pygments_lexer": "java",
   "version": "11.0.16+8-post-Ubuntu-0ubuntu120.04"
  },
  "orig_nbformat": 4,
  "vscode": {
   "interpreter": {
    "hash": "916dbcbb3f70747c44a77c7bcd40155683ae19c65e1c03b4aa3499c5328201f1"
   }
  }
 },
 "nbformat": 4,
 "nbformat_minor": 2
}
