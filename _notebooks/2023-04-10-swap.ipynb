{
 "cells": [
  {
   "cell_type": "code",
   "execution_count": 54,
   "metadata": {},
   "outputs": [],
   "source": [
    "import java.util.ArrayList;\n",
    "\n",
    "public static void swapConsecutive(ArrayList<Double> myList)\n",
    "{\n",
    "    for(int i = 0; i < myList.size()-1; i=i+2)\n",
    "    {\n",
    "        double temp = myList.get(i);\n",
    "        myList.set(i, myList.get(i+1));\n",
    "        myList.set(i+1, temp);\n",
    "    }\n",
    "}\n"
   ]
  },
  {
   "cell_type": "code",
   "execution_count": 18,
   "metadata": {},
   "outputs": [],
   "source": [
    "public double getAverageRating()\n",
    "{\n",
    "    int sum = 0;\n",
    "    for (i = 0; i<allReviews.length; i++)\n",
    "    {\n",
    "        sum = sum + allReviews[i]; \n",
    "      }\n",
    "return (double) sum/allReviews.length();\n",
    "    }"
   ]
  },
  {
   "cell_type": "code",
   "execution_count": 36,
   "metadata": {},
   "outputs": [
    {
     "name": "stdout",
     "output_type": "stream",
     "text": [
      "Average rating: 3.4\n"
     ]
    }
   ],
   "source": [
    "public class AwesomeClass {\n",
    "    public static void main(String[] args) {\n",
    "        int[] allReviews = {4,3,5,2,3}; // sample input\n",
    "        double averageRating = getAverageRating(allReviews);\n",
    "        System.out.println(\"Average rating: \" + averageRating);\n",
    "    }\n",
    "    \n",
    "    public static double getAverageRating(int[] allReviews) {\n",
    "        int sum = 0;\n",
    "        for (int i = 0; i < allReviews.length; i++) {\n",
    "            sum += allReviews[i];\n",
    "        }\n",
    "        return (double) sum / allReviews.length;\n",
    "    }\n",
    "}\n",
    "AwesomeClass.main(null);"
   ]
  },
  {
   "cell_type": "code",
   "execution_count": 55,
   "metadata": {},
   "outputs": [
    {
     "name": "stdout",
     "output_type": "stream",
     "text": [
      "Before swapping: [1.0, 2.0, 3.0, 4.0]\n",
      "After swapping: [2.0, 1.0, 4.0, 3.0]\n"
     ]
    }
   ],
   "source": [
    "import java.util.ArrayList;\n",
    "\n",
    "public class MyClass {\n",
    "    public static void main(String[] args) {\n",
    "        ArrayList<Double> myList = new ArrayList<>();\n",
    "        myList.add(1.0);\n",
    "        myList.add(2.0);\n",
    "        myList.add(3.0);\n",
    "        myList.add(4.0);\n",
    "\n",
    "        System.out.println(\"Before swapping: \" + myList);\n",
    "        swapConsecutive(myList);\n",
    "        System.out.println(\"After swapping: \" + myList);\n",
    "    }\n",
    "}\n",
    "\n",
    "MyClass.main(null);"
   ]
  },
  {
   "cell_type": "code",
   "execution_count": 4,
   "metadata": {},
   "outputs": [],
   "source": [
    "public static boolean recurMethod(String str)\n",
    "\n",
    "{\n",
    "\n",
    "if (str.length() <= 1)\n",
    "\n",
    "{\n",
    "\n",
    "return true;\n",
    "\n",
    "}\n",
    "\n",
    "else if (str.substring(0, 1).compareTo(str.substring(1, 2)) > 0)\n",
    "\n",
    "{\n",
    "\n",
    "return recurMethod(str.substring(1));\n",
    "\n",
    "}\n",
    "\n",
    "else\n",
    "\n",
    "{\n",
    "\n",
    "return false;\n",
    "\n",
    "}\n",
    "\n",
    "}"
   ]
  },
  {
   "cell_type": "code",
   "execution_count": 9,
   "metadata": {},
   "outputs": [
    {
     "name": "stdout",
     "output_type": "stream",
     "text": [
      "true\n"
     ]
    }
   ],
   "source": [
    "import java.util.ArrayList;\n",
    "\n",
    "public class MyClass {\n",
    "    public static void main(String[] args) {\n",
    "        System.out.println(recurMethod(\"edcba\"));\n",
    "    }\n",
    "}\n",
    "\n",
    "MyClass.main(null);"
   ]
  }
 ],
 "metadata": {
  "kernelspec": {
   "display_name": "Java",
   "language": "java",
   "name": "java"
  },
  "language_info": {
   "codemirror_mode": "java",
   "file_extension": ".jshell",
   "mimetype": "text/x-java-source",
   "name": "java",
   "pygments_lexer": "java",
   "version": "11.0.16+8-post-Ubuntu-0ubuntu120.04"
  },
  "orig_nbformat": 4
 },
 "nbformat": 4,
 "nbformat_minor": 2
}
