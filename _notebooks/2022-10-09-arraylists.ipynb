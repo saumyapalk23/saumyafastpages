{
 "cells": [
  {
   "cell_type": "markdown",
   "metadata": {},
   "source": [
    "# Arraylists\n",
    "> ArrayLists (with respect to project)\n",
    "\n",
    "- toc: true \n",
    "- badges: true\n",
    "- comments: true\n",
    "- categories: [jupyter]"
   ]
  },
  {
   "cell_type": "code",
   "execution_count": 30,
   "metadata": {
    "vscode": {
     "languageId": "java"
    }
   },
   "outputs": [],
   "source": [
    "public class Arraylistexamples {\n",
    "    public static void main(String[] args) {\n",
    "\n",
    "        ArrayList<String> betterschedulesthread = new ArrayList<>(Arrays.asList(\"yea life hasn't been easy. i'm trying to develop a routine.\", \"yo, definitely.\", \"wassup! yes, a routine is super important.\"));\n",
    "\n",
    "        //part of the dicussions panel within the website; threads/ongoing discussions b/w users\n",
    "        //get element\n",
    "        System.out.println(betterschedulesthread.get(1));\n",
    "\n",
    "        //get size\n",
    "        System.out.println(betterschedulesthread.size());\n",
    "        \n",
    "        //add element\n",
    "        betterschedulesthread.add(\"how can you incorporate exercise into your day?\");\n",
    "        System.out.println(betterschedulesthread.get(3));\n",
    "\n",
    "        //set element\n",
    "        betterschedulesthread.set(0, \"how are you guys!\");\n",
    "        System.out.println(betterschedulesthread.get(0));\n",
    "\n",
    "    }\n",
    "}"
   ]
  }
 ],
 "metadata": {
  "kernelspec": {
   "display_name": "Java",
   "language": "java",
   "name": "java"
  },
  "language_info": {
   "codemirror_mode": "java",
   "file_extension": ".jshell",
   "mimetype": "text/x-java-source",
   "name": "Java",
   "pygments_lexer": "java",
   "version": "11.0.16+8-post-Ubuntu-0ubuntu120.04"
  },
  "orig_nbformat": 4,
  "vscode": {
   "interpreter": {
    "hash": "916dbcbb3f70747c44a77c7bcd40155683ae19c65e1c03b4aa3499c5328201f1"
   }
  }
 },
 "nbformat": 4,
 "nbformat_minor": 2
}
