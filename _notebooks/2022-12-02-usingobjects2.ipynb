{
 "cells": [
  {
   "cell_type": "markdown",
   "metadata": {},
   "source": [
    "#  Vocab/OOP\n",
    "> Homework Assignments\n",
    "- toc: true \n",
    "- badges: true\n",
    "- comments: true\n",
    "- categories: [jupyter]"
   ]
  },
  {
   "cell_type": "markdown",
   "metadata": {},
   "source": [
    "## main method, tester methods\n",
    "- main method runs main code\n",
    "- tester method tests main code\n",
    "\n",
    "\n",
    "ex:\n",
    "\n",
    "![q5](images/mainteseter.png)\n"
   ]
  },
  {
   "cell_type": "markdown",
   "metadata": {},
   "source": [
    "## Subclass constructor, super Keyword\n",
    "- subclass; inheriting class\n",
    "- super: refers to parent objects; calls superclass methods"
   ]
  },
  {
   "cell_type": "markdown",
   "metadata": {},
   "source": [
    "## Overloading a method, same name different parameters\n",
    "- java feature allowing classes to have more than one method that is named the same (but it must have different parameters)\n",
    "- easier to overload one instead of having to define two identically-functioning methods"
   ]
  },
  {
   "cell_type": "markdown",
   "metadata": {},
   "source": [
    "## Overriding a method, same signature of a method\n",
    "- when a subclass has the same method has the parent class\n",
    "- implements a certain aspect of method declared by a parent class \n"
   ]
  },
  {
   "cell_type": "markdown",
   "metadata": {},
   "source": [
    "## Abstract Class, Abstract Method\n",
    "- is a method that has just the method definition but no actual implementation\n",
    "- can be subclassed, not instantiated"
   ]
  },
  {
   "cell_type": "markdown",
   "metadata": {},
   "source": [
    "## Standard methods: toString(), equals(), hashCode()\n",
    "- toString returns string\n",
    "- hashCode returns hashCode of a string"
   ]
  },
  {
   "cell_type": "code",
   "execution_count": null,
   "metadata": {
    "vscode": {
     "languageId": "java"
    }
   },
   "outputs": [
    {
     "name": "stdout",
     "output_type": "stream",
     "text": [
      "10\n",
      "90\n"
     ]
    }
   ],
   "source": [
    "public class toString\n",
    "{\n",
    "   public static void main(String[] args)\n",
    "{}}\n",
    "\n",
    "Integer x = new Integer(10);\n",
    "System.out.println(x.toString());\n",
    "System.out.println(x.toString(90));\n"
   ]
  },
  {
   "cell_type": "code",
   "execution_count": null,
   "metadata": {
    "vscode": {
     "languageId": "java"
    }
   },
   "outputs": [
    {
     "name": "stdout",
     "output_type": "stream",
     "text": [
      "3701712\n"
     ]
    }
   ],
   "source": [
    "public class hashCode\n",
    "{\n",
    "   public static void main(String[] args)\n",
    "{}}\n",
    "\n",
    "String str_New = \"yay!\";\n",
    "System.out.println(str_New.hashCode());"
   ]
  },
  {
   "cell_type": "markdown",
   "metadata": {},
   "source": [
    "## Late binding of object\n",
    "- name of method looked up at runtime\n",
    "- compiler doesn't perform argument checks and leaves it up to runtime"
   ]
  },
  {
   "cell_type": "markdown",
   "metadata": {},
   "source": [
    "## Polymorphism\n",
    "- class has different implementations of a method\n",
    "- same action performed differently\n"
   ]
  },
  {
   "cell_type": "markdown",
   "metadata": {},
   "source": [
    "## Accessor & Mutator methods\n",
    "\n",
    "- accessor methods: return private variable values\n",
    "- - access to instance variables\n",
    "- - don't take parameters\n",
    "- - return type matches type of variable they're accessing\n",
    "- - getters\n",
    "\n",
    "- mutator methods: called setters\n",
    "- - set the value\n",
    "- - void return type; no return value"
   ]
  },
  {
   "cell_type": "code",
   "execution_count": null,
   "metadata": {
    "vscode": {
     "languageId": "java"
    }
   },
   "outputs": [],
   "source": [
    "//basic example\n",
    "public class Person {\n",
    "    private String name; // private = restricted access\n",
    "  \n",
    "    // Getter\n",
    "    public String getName() {\n",
    "      return name;\n",
    "    }\n",
    "  \n",
    "    // Setter\n",
    "    public void setName(String newName) {\n",
    "      this.name = newName;\n",
    "    }\n",
    "  }\n",
    "  "
   ]
  },
  {
   "cell_type": "code",
   "execution_count": null,
   "metadata": {
    "vscode": {
     "languageId": "java"
    }
   },
   "outputs": [],
   "source": [
    "import java.util.Scanner;\n",
    "\n",
    "public class Main {\n",
    "    //static variables\n",
    "  private static String[] words = {\"words\", \"to\", \"put\", \"in\"};\n",
    "  private static String word = words[(int) (Math.random() * words.length)];\n",
    "  private static String asterisk = new String(new char[word.length()]).replace(\"\\0\",\"*\");\n",
    "  private static int count = 0;\n",
    "  \n",
    "  public static void main(String[] args) {\n",
    "    Scanner sc = new Scanner(System.in);\n",
    "    \n",
    "    //create a while loop when count is less than 7 and\n",
    "    //when asterisk contains *\n",
    "    while (count < 7 && asterisk.contains(\"*\")) {\n",
    "      //print guess any letter in the word\n",
    "      //print asterisk\n",
    "      //take in guess and scan it in (string guess and take in scan)\n",
    "      //hang(guess)\n",
    "      System.out.println(\"Guess any letter in the word\");\n",
    "      System.out.println(asterisk);\n",
    "      String guess = sc.next();\n",
    "      hang(guess);\n",
    "    }\n",
    "    sc.close();\n",
    "\n",
    "}}\n",
    "      "
   ]
  },
  {
   "cell_type": "markdown",
   "metadata": {},
   "source": [
    "## Static methods, Class methods\n",
    "- belong to class, not object\n",
    "- accessed through class"
   ]
  },
  {
   "cell_type": "code",
   "execution_count": null,
   "metadata": {
    "vscode": {
     "languageId": "java"
    }
   },
   "outputs": [],
   "source": [
    "public class friends\n",
    "{\n",
    "   // instance variables\n",
    "   private String name;\n",
    "   private String email;\n",
    "   private String phoneNumber;\n",
    "\n",
    "   // Static counter variable\n",
    "   public static int personCounter = 0;\n",
    "\n",
    "   // static method to print out counter\n",
    "   public static void printPersonCounter() {\n",
    "        System.out.println(\"Person counter: \" + personCounter);\n",
    "   }\n",
    "\n",
    "   // constructor\n",
    "   public friends(String initName, String initEmail, String initPhone)\n",
    "   {\n",
    "      name = initName;\n",
    "      email = initEmail;\n",
    "      phoneNumber = initPhone;\n",
    "      personCounter++;\n",
    "   }\n",
    "\n",
    "   // toString() method\n",
    "   public String toString()\n",
    "   {\n",
    "     return  name + \": \" + email + \" \" + phoneNumber;\n",
    "   }\n",
    "\n",
    "   // main method for testing\n",
    "   public static void main(String[] args)\n",
    "   {\n",
    "      // call the constructor to create a new person\n",
    "      friends p1 = new friends(\"Sana\", \"sana@gmail.com\", \"123-456-7890\");\n",
    "      friends p2 = new friends(\"Jean\", \"jean@gmail.com\", \"404 899-9955\");\n",
    "\n",
    "      friends.printPersonCounter();\n",
    "   }\n",
    "}\n"
   ]
  },
  {
   "cell_type": "code",
   "execution_count": null,
   "metadata": {
    "vscode": {
     "languageId": "java"
    }
   },
   "outputs": [],
   "source": [
    "//class methods\n",
    "public class Main {\n",
    "    static void myMethod() {\n",
    "      System.out.println(\"Hello World!\");\n",
    "    }\n",
    "  }  \n",
    "//methods declared within a class"
   ]
  },
  {
   "cell_type": "markdown",
   "metadata": {},
   "source": [
    "## Wrapper Classes\n"
   ]
  },
  {
   "cell_type": "markdown",
   "metadata": {},
   "source": [
    "- Why wrap int, double, etc?\n",
    "- way to use primitive data types as objects\n",
    "\n",
    "![q5](images/atable.png)\n",
    "\n",
    "- primitive type and corresponding wrapper class\n",
    "- Wrapper classes are used to convert any data type into an object. The primitive data types are not objects; they do not belong to any class; they are defined in the language itself. Sometimes, it is required to convert data types into objects in Java language.\n"
   ]
  },
  {
   "cell_type": "code",
   "execution_count": null,
   "metadata": {
    "vscode": {
     "languageId": "java"
    }
   },
   "outputs": [
    {
     "name": "stdout",
     "output_type": "stream",
     "text": [
      "10\n"
     ]
    }
   ],
   "source": [
    "public class wrappers\n",
    "{\n",
    "   public static void main(String[] args)\n",
    "{}}\n",
    "\n",
    "// int x = 10;\n",
    "// System.out.println(x.toString()); ------ doesn't work because x is a primitive data type, not a modifiable object\n",
    "Integer x = new Integer(10);\n",
    "//to get around this, you define an integer wrapper class\n",
    "System.out.println(x.toString());\n",
    "//x is now an object, not a primitive data type\n",
    "\n",
    "\n",
    "Integer x = new Integer(15);\n"
   ]
  },
  {
   "cell_type": "markdown",
   "metadata": {},
   "source": [
    "## Comparing Objects\n",
    "- use .equals() or ==\n",
    "- checks if an object is null, or if attributes are the same"
   ]
  },
  {
   "cell_type": "code",
   "execution_count": null,
   "metadata": {
    "vscode": {
     "languageId": "java"
    }
   },
   "outputs": [
    {
     "name": "stdout",
     "output_type": "stream",
     "text": [
      "Dal1 = Dal2 is false\n"
     ]
    }
   ],
   "source": [
    "class Food {\n",
    "    //attributes\n",
    "    String cuisine;\n",
    "    String name;\n",
    "    int mealsConsumed;\n",
    "\n",
    "\n",
    "    //constructor\n",
    "    Food(String cuisine, String name, int mealsConsumed)\n",
    "    {\n",
    "        this.cuisine = cuisine;\n",
    "        this.name = name;\n",
    "        this.mealsConsumed = mealsConsumed;\n",
    "    }\n",
    "}\n",
    "\n",
    "//objects\n",
    "Food Dal1 = new Food(\"Indian\", \"Mango Dal\", 10);\n",
    "Food Dal2 = new Food(\"Indian\", \"Moong Dal\", 4);\n",
    "\n",
    "System.out.println(\"Dal1 = Dal2 is \" + Dal1.equals(Dal2));\n"
   ]
  },
  {
   "cell_type": "markdown",
   "metadata": {},
   "source": [
    "# HOMEWORK\n",
    "\n"
   ]
  },
  {
   "cell_type": "code",
   "execution_count": 1,
   "metadata": {
    "vscode": {
     "languageId": "java"
    }
   },
   "outputs": [
    {
     "name": "stdout",
     "output_type": "stream",
     "text": [
      "jeffrey attacks Gunther the great!\n",
      "jeffrey hits!\n",
      "Gunther the great takes 2 damage\n",
      "Gunther the great HP: 2\n",
      "\n",
      "Gunther the great attacks jeffrey!\n",
      "Gunther the great misses...\n",
      "jeffrey HP: 12\n",
      "\n",
      "jeffrey attacks Gunther the great!\n",
      "jeffrey hits!\n",
      "Gunther the great takes 2 damage\n",
      "Gunther the great HP: 0\n",
      "\n",
      "Gunther the great attacks jeffrey!\n",
      "Gunther the great misses...\n",
      "jeffrey HP: 12\n",
      "\n",
      "Gunther the great has perished\n"
     ]
    }
   ],
   "source": [
    "//UNIT 2 HW\n",
    "//goblin hacks\n",
    "public class Goblin {\n",
    "    private String name;\n",
    "    private int HP;\n",
    "    private int DMG;\n",
    "    private double hitChance;\n",
    "\n",
    "    public String getName() {\n",
    "        return name;\n",
    "    }\n",
    "\n",
    "    public int getHP() {\n",
    "        return HP;\n",
    "    }\n",
    "\n",
    "    public int getDMG() {\n",
    "        return DMG;\n",
    "    }\n",
    "\n",
    "    public double getHitChance() {\n",
    "        return hitChance;\n",
    "    }\n",
    "\n",
    "    \n",
    "    public boolean isAlive() {\n",
    "        if (this.HP > 0) {\n",
    "            return true;\n",
    "        } else {\n",
    "            return false;\n",
    "        }\n",
    "    }\n",
    "\n",
    "    public void setName(String newName) {\n",
    "        this.name = newName;\n",
    "    }\n",
    "\n",
    "    public void setHP(int newHP) {\n",
    "        this.HP = newHP;\n",
    "    }\n",
    "\n",
    "    public void takeDMG(int takenDamage) {\n",
    "        this.HP -= takenDamage;\n",
    "    }\n",
    "\n",
    "    public void setDMG(int newDMG) {\n",
    "        this.DMG = newDMG;\n",
    "    }\n",
    "\n",
    "    public void setHitChance(double newHitChance) {\n",
    "        this.hitChance = newHitChance;\n",
    "    }\n",
    "}\n",
    "import java.lang.Math;\n",
    "\n",
    "public class Duel {\n",
    "\n",
    "    public static void attack(Goblin attackerGoblin, Goblin attackeeGoblin) {\n",
    "\n",
    "        System.out.println(attackerGoblin.getName() + \" attacks \" + attackeeGoblin.getName() + \"!\");\n",
    "        if (0.8 > attackerGoblin.getHitChance()) {\n",
    "            attackeeGoblin.takeDMG(attackerGoblin.getDMG());\n",
    "            System.out.println(attackerGoblin.getName() + \" hits!\");\n",
    "            System.out.println(attackeeGoblin.getName() + \" takes \" + attackerGoblin.getDMG() + \" damage\");\n",
    "        } else {\n",
    "            System.out.println(attackerGoblin.getName() + \" misses...\");\n",
    "        }\n",
    "\n",
    "        System.out.println(attackeeGoblin.getName() + \" HP: \" + attackeeGoblin.getHP());\n",
    "        System.out.println();\n",
    "    }\n",
    "\n",
    "    public static void fight(Goblin goblin1, Goblin goblin2) {\n",
    "        while (goblin1.isAlive() && goblin2.isAlive()) {\n",
    "            \n",
    "            attack(goblin1, goblin2);\n",
    "\n",
    "            if (!goblin1.isAlive()) {\n",
    "                System.out.println(goblin1.getName() + \" has perished\");\n",
    "                break;\n",
    "            }\n",
    "\n",
    "            attack(goblin2, goblin1);\n",
    "\n",
    "            if (!goblin2.isAlive()) {\n",
    "                System.out.println(goblin2.getName() + \" has perished\");\n",
    "                break;\n",
    "            }\n",
    "        }\n",
    "    }\n",
    "\n",
    "    public static void main(String[] args) {\n",
    "        Goblin goblin1 = new Goblin();\n",
    "        goblin1.setName(\"jeffrey\");\n",
    "        goblin1.setHP(12);\n",
    "        goblin1.setDMG(2);\n",
    "        goblin1.setHitChance(0.50);\n",
    "\n",
    "        Goblin goblin2 = new Goblin();\n",
    "        goblin2.setName(\"Gunther the great\");\n",
    "        goblin2.setHP(4);\n",
    "        goblin2.setDMG(1);\n",
    "        goblin2.setHitChance(1);\n",
    "\n",
    "        fight(goblin1, goblin2);\n",
    "    }\n",
    "}\n",
    "\n",
    "Duel.main(null);\n"
   ]
  }
 ],
 "metadata": {
  "kernelspec": {
   "display_name": "Java",
   "language": "java",
   "name": "java"
  },
  "language_info": {
   "codemirror_mode": "java",
   "file_extension": ".jshell",
   "mimetype": "text/x-java-source",
   "name": "Java",
   "pygments_lexer": "java",
   "version": "11.0.16+8-post-Ubuntu-0ubuntu120.04"
  },
  "orig_nbformat": 4,
  "vscode": {
   "interpreter": {
    "hash": "916dbcbb3f70747c44a77c7bcd40155683ae19c65e1c03b4aa3499c5328201f1"
   }
  }
 },
 "nbformat": 4,
 "nbformat_minor": 2
}
