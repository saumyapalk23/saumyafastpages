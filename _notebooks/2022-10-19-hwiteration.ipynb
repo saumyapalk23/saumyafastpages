{
 "cells": [
  {
   "cell_type": "code",
   "execution_count": 1,
   "metadata": {},
   "outputs": [],
   "source": [
    "import java.util.Scanner;\n",
    "\n",
    "public class Checker \n",
    "{\n",
    "    public static void main(String[] args) \n",
    "    {\n",
    "        int number;  \n",
    "\t\n",
    "        // Create a Scanner object for keyboard input.  \n",
    "        Scanner keyboard = new Scanner(System.in);  \n",
    "             \n",
    "        // Get a number from the user.  \n",
    "        System.out.print(\"Enter a number in the range of 1 through 100: \");  \n",
    "        number = keyboard.nextInt();  \n",
    "\n",
    "        while (number>100)\n",
    "        {  \n",
    "           System.out.print(\"Invalid input. Enter a number in the range \" +  \n",
    "                            \"of 1 through 100: \");  \n",
    "           number = keyboard.nextInt();  \n",
    "        } \n",
    "    }\n",
    "}\n"
   ]
  },
  {
   "cell_type": "code",
   "execution_count": null,
   "metadata": {},
   "outputs": [],
   "source": [
    "public class LoopConversion \n",
    "{\n",
    "    public static void main(String[] args) \n",
    "    {\n",
    "        int count = 0;\n",
    "        //convert to for loop\n",
    "        while (count < 5)\n",
    "        {\n",
    "            System.out.println(\"count is \" + count);\n",
    "            count++;\n",
    "        }\n",
    "    }\n",
    "}"
   ]
  },
  {
   "cell_type": "code",
   "execution_count": null,
   "metadata": {},
   "outputs": [],
   "source": [
    "int i=0;\n",
    "while (i<5)\n",
    "System.out.println(i);\n",
    "i++;"
   ]
  }
 ],
 "metadata": {
  "kernelspec": {
   "display_name": "Java",
   "language": "java",
   "name": "java"
  },
  "language_info": {
   "codemirror_mode": "java",
   "file_extension": ".jshell",
   "mimetype": "text/x-java-source",
   "name": "java",
   "pygments_lexer": "java",
   "version": "11.0.16+8-post-Ubuntu-0ubuntu120.04"
  },
  "orig_nbformat": 4
 },
 "nbformat": 4,
 "nbformat_minor": 2
}
