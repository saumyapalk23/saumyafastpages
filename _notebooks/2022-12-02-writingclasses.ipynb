{
 "cells": [
  {
   "cell_type": "markdown",
   "metadata": {},
   "source": [
    "#  Vocab/Classes\n",
    "> Homework Assignments\n",
    "- toc: true \n",
    "- badges: true\n",
    "- comments: true\n",
    "- categories: [jupyter]"
   ]
  },
  {
   "cell_type": "markdown",
   "metadata": {},
   "source": [
    "## Writing Classes"
   ]
  },
  {
   "cell_type": "code",
   "execution_count": null,
   "metadata": {},
   "outputs": [
    {
     "name": "stdout",
     "output_type": "stream",
     "text": [
      "Dal\n"
     ]
    }
   ],
   "source": [
    "class Food {\n",
    "    //attributes\n",
    "    private String cuisine;\n",
    "    private String name;\n",
    "    private int mealsConsumed;\n",
    "//instance variables\n",
    "\n",
    "    //constructor\n",
    "    Food(String cuisine, String name, int mealsConsumed)\n",
    "    {\n",
    "        this.cuisine = cuisine;\n",
    "        this.name = name;\n",
    "        this.mealsConsumed = mealsConsumed;\n",
    "    }\n",
    "    public String getName(){\n",
    "        return name;\n",
    "    }\n",
    "}\n",
    "\n",
    "public class Foodmain {\n",
    "    public static void main(String[] args) {\n",
    "        Food newFood = new Food(\"Indian\", \"Dal\", 20);\n",
    "        System.out.println(newFood.getName());\n",
    "        \n",
    "    }\n",
    "}\n",
    "Foodmain.main(null)"
   ]
  },
  {
   "cell_type": "code",
   "execution_count": null,
   "metadata": {},
   "outputs": [
    {
     "name": "stdout",
     "output_type": "stream",
     "text": [
      "Input 1st number: 2\n",
      "Input 2nd number: 20\n",
      "The average of those numbers are 11\n"
     ]
    }
   ],
   "source": [
    "import java.util.Scanner; //allows scanners to be in program\n",
    "\n",
    "public class averages {\n",
    "  public static void main(String[] args) {\n",
    "    \n",
    "}}\n",
    "Scanner in = new Scanner(System.in); //creates a scanner\n",
    "\n",
    "System.out.print(\"Input 1st number: \"); //asks user for input\n",
    "int num1 = in.nextInt(); //saves number and goes to next int\n",
    "System.out.println(num1);\n",
    "System.out.print(\"Input 2nd number: \"); //same as above\n",
    "int num2 = in.nextInt();\n",
    "System.out.println(num2);\n",
    "System.out.println(\"The average of those numbers are \" + (num1 + num2)/(2));\n",
    "\n",
    "//prints out\n",
    "//num you want to divide is however many numbers you want to average out\n",
    "\n",
    "averages.main(null)"
   ]
  },
  {
   "cell_type": "markdown",
   "metadata": {},
   "source": [
    "## Constructors\n",
    "- no return b/c not directly called\n",
    "- called for object creation\n",
    "- initialize and set values for objects"
   ]
  },
  {
   "cell_type": "code",
   "execution_count": null,
   "metadata": {},
   "outputs": [
    {
     "name": "stdout",
     "output_type": "stream",
     "text": [
      "1969 Mustang\n"
     ]
    }
   ],
   "source": [
    "public class Main {//main class\n",
    "    int modelYear;\n",
    "    String modelName;//attributes\n",
    "  \n",
    "    public Main(int year, String name) {//constructor\n",
    "      modelYear = year;\n",
    "      modelName = name;\n",
    "    }\n",
    "  \n",
    "    public static void main(String[] args) {\n",
    "      Main myCar = new Main(1969, \"Mustang\");//objects\n",
    "      System.out.println(myCar.modelYear + \" \" + myCar.modelName);\n",
    "    }\n",
    "  }\n",
    "  \n",
    "// Outputs 1969 Mustang\n",
    "Main.main(null);\n",
    "  "
   ]
  },
  {
   "cell_type": "markdown",
   "metadata": {},
   "source": [
    "## Public, Private, Protected; Access Modifiers\n",
    "- private; only accessed within class\n",
    "- protected; within/outside package, accessible only through child class\n",
    "- public - open access"
   ]
  },
  {
   "cell_type": "code",
   "execution_count": null,
   "metadata": {},
   "outputs": [],
   "source": [
    "//public\n",
    "\n",
    "\n",
    "//Exercise 1: \n",
    "//Write a program to reverse the words in a sentence\n",
    "//example: the strawberry cake\n",
    "//becomes: cake strawberry the\n",
    "\n",
    "//hints: use scanner to take in words\n",
    "//use split to break apart words to reverse them\n",
    "\n",
    "import java.util.*; //import scanner\n",
    "public class Main {\n",
    "  public static String reverse_str_order(String input_sentence) { //\n",
    "    if (input_sentence == null) {\n",
    "      throw new IllegalArgumentException(\"Null\"); //no empty strings\n",
    "    }\n",
    "    StringBuilder stringBuilder = new StringBuilder();\n",
    "    String[] words = input_sentence.split(\" \");\n",
    "    for (int i = words.length - 1; i >= 0; i--) {\n",
    "      stringBuilder.append(words[i]); //place words in order\n",
    "      if (i != 0) { //keep going until no more words are left\n",
    "        stringBuilder.append(\" \");\n",
    "      }\n",
    "    }\n",
    "    return stringBuilder.toString();\n",
    "  }\n",
    "}\n",
    "public static void main(String[] args) { //prepares for scanning\n",
    "  Scanner scanner = new Scanner(System.in);\n",
    "  System.out.print(\"Input string: \"); //asks for user input\n",
    "  String input = scanner.nextLine(); //takes in next line\n",
    "  System.out.println(\"\\nResult: \" + reverse_str_word(input));\n",
    "}\n"
   ]
  },
  {
   "cell_type": "code",
   "execution_count": null,
   "metadata": {},
   "outputs": [],
   "source": [
    "//private\n",
    "\n",
    "\n",
    "//Exercise 1: \n",
    "//Write a program to reverse the words in a sentence\n",
    "//example: the strawberry cake\n",
    "//becomes: cake strawberry the\n",
    "\n",
    "//hints: use scanner to take in words\n",
    "//use split to break apart words to reverse them\n",
    "\n",
    "import java.util.*; //import scanner\n",
    "public class Main {\n",
    "  private static String reverse_str_order(String input_sentence) { //\n",
    "    if (input_sentence == null) {\n",
    "      throw new IllegalArgumentException(\"Null\"); //no empty strings\n",
    "    }\n",
    "    StringBuilder stringBuilder = new StringBuilder();\n",
    "    String[] words = input_sentence.split(\" \");\n",
    "    for (int i = words.length - 1; i >= 0; i--) {\n",
    "      stringBuilder.append(words[i]); //place words in order\n",
    "      if (i != 0) { //keep going until no more words are left\n",
    "        stringBuilder.append(\" \");\n",
    "      }\n",
    "    }\n",
    "    return stringBuilder.toString();\n",
    "  }\n",
    "}\n",
    "public static void main(String[] args) { //prepares for scanning\n",
    "  Scanner scanner = new Scanner(System.in);\n",
    "  System.out.print(\"Input string: \"); //asks for user input\n",
    "  String input = scanner.nextLine(); //takes in next line\n",
    "  System.out.println(\"\\nResult: \" + reverse_str_word(input));\n",
    "}\n"
   ]
  },
  {
   "cell_type": "code",
   "execution_count": null,
   "metadata": {},
   "outputs": [],
   "source": [
    "//protected\n",
    "\n",
    "\n",
    "//Exercise 1: \n",
    "//Write a program to reverse the words in a sentence\n",
    "//example: the strawberry cake\n",
    "//becomes: cake strawberry the\n",
    "\n",
    "//hints: use scanner to take in words\n",
    "//use split to break apart words to reverse them\n",
    "\n",
    "import java.util.*; //import scanner\n",
    "public class Main {\n",
    "  protected static String reverse_str_order(String input_sentence) { //\n",
    "    if (input_sentence == null) {\n",
    "      throw new IllegalArgumentException(\"Null\"); //no empty strings\n",
    "    }\n",
    "    StringBuilder stringBuilder = new StringBuilder();\n",
    "    String[] words = input_sentence.split(\" \");\n",
    "    for (int i = words.length - 1; i >= 0; i--) {\n",
    "      stringBuilder.append(words[i]); //place words in order\n",
    "      if (i != 0) { //keep going until no more words are left\n",
    "        stringBuilder.append(\" \");\n",
    "      }\n",
    "    }\n",
    "    return stringBuilder.toString();\n",
    "  }\n",
    "}\n",
    "public static void main(String[] args) { //prepares for scanning\n",
    "  Scanner scanner = new Scanner(System.in);\n",
    "  System.out.print(\"Input string: \"); //asks for user input\n",
    "  String input = scanner.nextLine(); //takes in next line\n",
    "  System.out.println(\"\\nResult: \" + reverse_str_word(input));\n",
    "}"
   ]
  },
  {
   "cell_type": "markdown",
   "metadata": {},
   "source": [
    "## this Keyword\n",
    "- current object in method/constructor\n",
    "- eliminates confusion b/w attributes/parameters w/ the same name"
   ]
  },
  {
   "cell_type": "code",
   "execution_count": null,
   "metadata": {},
   "outputs": [],
   "source": [
    "//ex\n",
    "public class Main {\n",
    "    int x;\n",
    "  \n",
    "    // Constructor with a parameter\n",
    "    public Main(int x) {\n",
    "      this.x = x;\n",
    "    }\n",
    "  //this used to \n",
    "    // Call the constructor\n",
    "    public static void main(String[] args) {\n",
    "      Main myObj = new Main(5);\n",
    "      System.out.println(\"Value of x = \" + myObj.x);\n",
    "    }\n",
    "  }"
   ]
  },
  {
   "cell_type": "markdown",
   "metadata": {},
   "source": [
    "## Inheritance, extends\n",
    "- extends: extends a class, inherits information from another class\n",
    "- subclass; class inherits from another class\n",
    "- superclass; parent class being inherited from\n"
   ]
  },
  {
   "cell_type": "markdown",
   "metadata": {},
   "source": [
    "## Big O notation for Hash map, Binary Search, Single loop, Nested Loop\n",
    "- language for runtime length\n",
    "- related to efficiency\n",
    "\n",
    "- hashmap: single operation to obtain position of a searched element\n",
    "- - O(1)\n",
    "\n",
    "- binary search\n",
    "- - O(1)\n",
    "- - eliminates half the elements each time\n",
    "\n",
    "- single loop\n",
    "- - O(n)\n",
    "- - The next loop executes N times, if we assume the statement inside the loop is O(1), then the total time for the loop is N*O(1), which equals O(N) also known as linear time\n",
    "\n",
    "- nested loop\n",
    "- - O(N*N)\n",
    "- - the first loop may execute N times, but for how many first loop executes, the inner loop executes N times\n",
    "\n"
   ]
  },
  {
   "cell_type": "markdown",
   "metadata": {},
   "source": [
    "# HOMEWORK\n",
    "\n"
   ]
  },
  {
   "cell_type": "code",
   "execution_count": null,
   "metadata": {},
   "outputs": [],
   "source": [
    "//2021 FRQ 1A 3A\n",
    "\n",
    "//unit 5\n",
    "//1a\n",
    "public int scoreGuess( String guess ) {\n",
    "    int val = 0;\n",
    "    int len = guess.length();\n",
    "    for( int i = 0; i <= secret.length()-len; i+=1){\n",
    "    String ck = secret.substring( i, i+len );\n",
    "    \n",
    "    if( ck.equals(guess) ){\n",
    "        val++;\n",
    "    }\n",
    "    }\n",
    "    return val*len*len;\n",
    "    }\n",
    "//3a\n",
    "    public void addMembers(\n",
    "    String[] names, int gradYear ){\n",
    "        \n",
    "    for( String n : names ){\n",
    "    memberList.add(new MemberInfo( n, gradYear, true) );\n",
    "    }\n",
    "    }"
   ]
  }
 ],
 "metadata": {
  "kernelspec": {
   "display_name": "Java",
   "language": "java",
   "name": "java"
  },
  "language_info": {
   "name": "java",
   "version": "3.8.10"
  },
  "orig_nbformat": 4,
  "vscode": {
   "interpreter": {
    "hash": "916dbcbb3f70747c44a77c7bcd40155683ae19c65e1c03b4aa3499c5328201f1"
   }
  }
 },
 "nbformat": 4,
 "nbformat_minor": 2
}
