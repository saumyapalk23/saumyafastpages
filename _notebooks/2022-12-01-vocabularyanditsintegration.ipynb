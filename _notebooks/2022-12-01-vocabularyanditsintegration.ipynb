{
 "cells": [
  {
   "cell_type": "markdown",
   "metadata": {},
   "source": [
    "#  Vocabulary and its Integration\n",
    "> Homework Assignments\n",
    "- toc: true \n",
    "- badges: true\n",
    "- comments: true\n",
    "- categories: [jupyter]"
   ]
  },
  {
   "cell_type": "markdown",
   "metadata": {},
   "source": [
    "## Type Casting in Java\n",
    "- when you assign a value of one primitive data type to another type.\n",
    "\n",
    "- two types of casting in Java:\n",
    "\n",
    "             - Widening Casting (automatically) - converting a smaller type to a larger type size\n",
    "                   byte -> short -> char -> int -> long -> float -> double\n",
    "\n",
    "             - Narrowing Casting (manually) - converting a larger type to a smaller size type\n",
    "                   double -> float -> long -> int -> char -> short -> byte\n"
   ]
  },
  {
   "cell_type": "markdown",
   "metadata": {},
   "source": [
    "## Casting, specifically for Division\n"
   ]
  },
  {
   "cell_type": "markdown",
   "metadata": {},
   "source": [
    "- integer and integer resulting in integer \n",
    "- if you want it to become a decimal, make it into a double\n",
    "- type promotion (with an integer and a double value) makes it more complicated, resulting in the decimal"
   ]
  },
  {
   "cell_type": "code",
   "execution_count": 8,
   "metadata": {
    "vscode": {
     "languageId": "java"
    }
   },
   "outputs": [
    {
     "name": "stdout",
     "output_type": "stream",
     "text": [
      "0.6666666666666666\n"
     ]
    }
   ],
   "source": [
    "//example\n",
    "public class Variables {\n",
    "    public static void main (String[] args) {    \n",
    "\n",
    "    }\n",
    "}\n",
    "System.out.println(10.0/15);\n"
   ]
  },
  {
   "cell_type": "code",
   "execution_count": 35,
   "metadata": {
    "vscode": {
     "languageId": "java"
    }
   },
   "outputs": [
    {
     "name": "stdout",
     "output_type": "stream",
     "text": [
      "0\n",
      "0.3333333333333333\n",
      "0.3333333333333333\n",
      "0.6666666666666666\n"
     ]
    }
   ],
   "source": [
    "public class Variables\n",
    "{\n",
    "   public static void main(String[] args)\n",
    "   {\n",
    "   }\n",
    "}\n",
    "\n",
    "int x=10;\n",
    "int y=15;\n",
    "System.out.println(1 / 3);\n",
    "System.out.println(1.0 / 3);\n",
    "System.out.println(1 / 3.0);\n",
    "System.out.println((double) x / y);\n",
    "//type promote; produces decimal answer\n",
    "\n"
   ]
  },
  {
   "cell_type": "code",
   "execution_count": 37,
   "metadata": {
    "vscode": {
     "languageId": "java"
    }
   },
   "outputs": [
    {
     "name": "stdout",
     "output_type": "stream",
     "text": [
      "5\n"
     ]
    }
   ],
   "source": [
    "//modulus\n",
    "public class Variables\n",
    "{\n",
    "   public static void main(String[] args)\n",
    "   {\n",
    "   }}\n",
    "\n",
    "System.out.println(15%10);"
   ]
  },
  {
   "cell_type": "markdown",
   "metadata": {},
   "source": [
    "## Casting, specifically for Truncating or Rounding"
   ]
  },
  {
   "cell_type": "markdown",
   "metadata": {},
   "source": [
    "- truncation vs. rounding\n",
    "- Rounding a number in the range [2.5, 3.5) returns the number 3\n",
    "- Truncating a number in the range [3.0, 4.0) returns the number 3\n",
    "- - Where a square bracket '[' denotes inclusion in the range, and a parenthesis '(' denotes non-inclusion in the range -- ie. [3.0, 4.0) is the range of all numbers between 3 and 4, including 3 but not including 4.\n",
    "- truncation; chops off decimal portion\n",
    "\n"
   ]
  },
  {
   "cell_type": "code",
   "execution_count": 49,
   "metadata": {
    "vscode": {
     "languageId": "java"
    }
   },
   "outputs": [
    {
     "name": "stdout",
     "output_type": "stream",
     "text": [
      "c is: 7\n"
     ]
    }
   ],
   "source": [
    "//truncation\n",
    "public class truncation\n",
    "{\n",
    "   public static void main(String[] args)\n",
    "{}}\n",
    "//example\n",
    "int a, b, c;\n",
    "double d, e;\n",
    "\n",
    "//declare variables\n",
    "a = 5;\n",
    "b = -13;\n",
    "d = 2.8;\n",
    "\n",
    "c = a + (int)d; //typecasting\n",
    "//truncation, cut off decimal\n",
    "//d became 2 instead of 2.8, so 2 + 5 = 7\n",
    "\n",
    "System.out.println(\"c is: \" + c); \n",
    "\n"
   ]
  },
  {
   "cell_type": "code",
   "execution_count": 53,
   "metadata": {
    "vscode": {
     "languageId": "java"
    }
   },
   "outputs": [
    {
     "name": "stdout",
     "output_type": "stream",
     "text": [
      "before rounding: 2.8\n",
      "after rounding: 3.0\n",
      "before rounding: 2.4\n",
      "after rounding: 2.0\n"
     ]
    }
   ],
   "source": [
    "//rounding\n",
    "public class rounding\n",
    "{\n",
    "   public static void main(String[] args)\n",
    "{}}\n",
    "\n",
    "double number = 2.8;\n",
    "System.out.println( \"before rounding: \" + number ); \n",
    "\n",
    "number = Math.round(number);\n",
    "System.out.println( \"after rounding: \" + number ); \n",
    "\n",
    "double number = 2.4;\n",
    "System.out.println( \"before rounding: \" + number ); \n",
    "\n",
    "number = Math.round(number);\n",
    "System.out.println( \"after rounding: \" + number ); \n",
    "\n"
   ]
  },
  {
   "cell_type": "markdown",
   "metadata": {},
   "source": [
    "## Wrapper Classes\n"
   ]
  },
  {
   "cell_type": "markdown",
   "metadata": {},
   "source": [
    "- Why wrap int, double, etc?\n",
    "- way to use primitive data types as objects\n",
    "\n",
    "![q5](images/atable.png)\n",
    "\n",
    "- primitive type and corresponding wrapper class\n",
    "- Wrapper classes are used to convert any data type into an object. The primitive data types are not objects; they do not belong to any class; they are defined in the language itself. Sometimes, it is required to convert data types into objects in Java language.\n"
   ]
  },
  {
   "cell_type": "code",
   "execution_count": 63,
   "metadata": {
    "vscode": {
     "languageId": "java"
    }
   },
   "outputs": [
    {
     "name": "stdout",
     "output_type": "stream",
     "text": [
      "10\n"
     ]
    }
   ],
   "source": [
    "public class wrappers\n",
    "{\n",
    "   public static void main(String[] args)\n",
    "{}}\n",
    "\n",
    "// int x = 10;\n",
    "// System.out.println(x.toString()); ------ doesn't work because x is a primitive data type, not a modifiable object\n",
    "Integer x = new Integer(10);\n",
    "//to get around this, you define an integer wrapper class\n",
    "System.out.println(x.toString());\n",
    "//x is now an object, not a primitive data type\n",
    "\n",
    "\n",
    "Integer x = new Integer(15);\n"
   ]
  },
  {
   "cell_type": "markdown",
   "metadata": {},
   "source": [
    "## Concatenation\n",
    "- appendage of strings"
   ]
  },
  {
   "cell_type": "code",
   "execution_count": 64,
   "metadata": {
    "vscode": {
     "languageId": "java"
    }
   },
   "outputs": [
    {
     "name": "stdout",
     "output_type": "stream",
     "text": [
      "John Doe\n"
     ]
    }
   ],
   "source": [
    "//ex\n",
    "String firstName = \"John \";\n",
    "String lastName = \"Doe\";\n",
    "System.out.println(firstName.concat(lastName));\n",
    "\n"
   ]
  },
  {
   "cell_type": "code",
   "execution_count": 78,
   "metadata": {
    "vscode": {
     "languageId": "java"
    }
   },
   "outputs": [
    {
     "name": "stdout",
     "output_type": "stream",
     "text": [
      "hello to you too\n",
      " to you too\n",
      "Folklore is a great album.\n",
      "This statement is true\n",
      "Folklore is a bad album.\n",
      "This statement is false\n"
     ]
    }
   ],
   "source": [
    "class concatenation\n",
    "{\n",
    "    public static void main(String arg[])\n",
    "    {\n",
    "        }\n",
    "}\n",
    "\n",
    "String str1 = \"hello\", str2 = \" to you\", str3 = \" too\";\n",
    "str1 = str1 + str2 + str3; // LINE A\n",
    "System.out.println(str1);\n",
    "//line a is '+' operator\n",
    "\n",
    "str2 = str2.concat(str3);\n",
    "System.out.println(str2); //line B\n",
    "//concat() method\n",
    "\n",
    "boolean folklore = true;\n",
    "boolean evermore = false;\n",
    "System.out.println(\"Folklore is a great album.\" + \"\\nThis statement is \" + folklore); // LINE C\n",
    "System.out.println(\"Folklore is a bad album.\" + \"\\nThis statement is \" + evermore);\n",
    "//concatenation of a boolean to a string\n"
   ]
  },
  {
   "cell_type": "markdown",
   "metadata": {},
   "source": [
    "## Math Classes (Random Usage)\n"
   ]
  },
  {
   "cell_type": "markdown",
   "metadata": {},
   "source": [
    "- methods to perform math tasks on numbers\n",
    "- random() returns a random number between 0 (inclusive) and 1\n",
    "- public static double random^\n"
   ]
  },
  {
   "cell_type": "code",
   "execution_count": 85,
   "metadata": {
    "vscode": {
     "languageId": "java"
    }
   },
   "outputs": [
    {
     "name": "stdout",
     "output_type": "stream",
     "text": [
      "Random Number:0.7941694146696837\n"
     ]
    }
   ],
   "source": [
    "import java.lang.Math;\n",
    " \n",
    "//java.lang.Math.random()\n",
    "class random {\n",
    " \n",
    "    // driver code\n",
    "    public static void main(String args[])\n",
    "    {\n",
    "    }\n",
    "}\n",
    "double rand = Math.random();\n",
    "System.out.println(\"Random Number:\" + rand);\n",
    "\n"
   ]
  },
  {
   "cell_type": "markdown",
   "metadata": {},
   "source": [
    "## Compound Boolean Expressions\n"
   ]
  },
  {
   "cell_type": "markdown",
   "metadata": {},
   "source": [
    "- test two things to be true before body of conditional is executed\n",
    "- '&&' used as logical operator and to join 2 booleans"
   ]
  },
  {
   "cell_type": "code",
   "execution_count": 195,
   "metadata": {
    "vscode": {
     "languageId": "java"
    }
   },
   "outputs": [],
   "source": [
    "//ex\n",
    "//want to play video games, but parents only let you if you've finished your homework and taken a shower\n",
    "\n",
    "public class compoundBooleans\n",
    "{\n",
    "   public static void main(String[] args)\n",
    "   {\n",
    "     boolean didHomework = true;\n",
    "     boolean tookShower = false;\n",
    "     if (tookShower && didHomework)\n",
    "     {\n",
    "         System.out.println(\"You can play\");\n",
    "     }\n",
    "     else\n",
    "     {\n",
    "         System.out.println(\"No, you can't play\");\n",
    "     }\n",
    "   }\n",
    "}\n",
    "\n"
   ]
  },
  {
   "cell_type": "markdown",
   "metadata": {},
   "source": [
    "## Truth Tables and De Morgan's Law\n",
    "- simplification of booleans through truth tables\n",
    "- organized way to define a boolean function\n",
    "- De Morgan's law: De Morgan's first law states that the complement of the union of two sets A and B is equal to the intersection of the complement of the sets A and B.\n",
    "\n",
    "![q5](images/pq.png)\n",
    "![q5](images/truthtble.png)\n",
    "\n",
    "\n"
   ]
  },
  {
   "cell_type": "code",
   "execution_count": 89,
   "metadata": {
    "vscode": {
     "languageId": "java"
    }
   },
   "outputs": [],
   "source": [
    "//demorgans law\n",
    "//has to be back home before 10, and has to walk the dog \n",
    "\n",
    "public class demorgans\n",
    "{\n",
    "   public static void main(String[] args)\n",
    "   {\n",
    "     boolean backby10 = true;\n",
    "     boolean walkedDog = false;\n",
    "     if (!(backby10 && walkedDog))\n",
    "     //means not A OR not B\n",
    "     {\n",
    "         System.out.println(\"True. You were back by 10 but didn't walk the dog\");\n",
    "     }\n",
    "     else\n",
    "     {\n",
    "         System.out.println(\"You were back in time and walked the dog\");\n",
    "     }}}\n"
   ]
  },
  {
   "cell_type": "code",
   "execution_count": 91,
   "metadata": {
    "vscode": {
     "languageId": "java"
    }
   },
   "outputs": [],
   "source": [
    "public class demorgans\n",
    "{\n",
    "   public static void main(String[] args)\n",
    "   {\n",
    "     boolean backby10 = true;\n",
    "     boolean walkedDog = false;\n",
    "\n",
    "    if (!(backby10 || walkedDog))\n",
    "//means not A AND not B\n",
    "{ \n",
    "System.out.println(\"False. You were back by 10 but didn't walk the dog\");\n",
    "}\n",
    "else\n",
    "{\n",
    " System.out.println(\"You were back in time and walked the dog\");\n",
    "\n",
    "\n",
    "}\n",
    "}\n",
    "}\n"
   ]
  },
  {
   "cell_type": "markdown",
   "metadata": {},
   "source": [
    "## Comparing Numbers\n",
    "- use == or compareTo() method\n"
   ]
  },
  {
   "cell_type": "code",
   "execution_count": 100,
   "metadata": {
    "vscode": {
     "languageId": "java"
    }
   },
   "outputs": [
    {
     "name": "stdout",
     "output_type": "stream",
     "text": [
      "x and y are not equal\n"
     ]
    }
   ],
   "source": [
    "//comparing numbers\n",
    "public class wrappers\n",
    "{\n",
    "   public static void main(String[] args)\n",
    "{}}\n",
    "\n",
    "    int x = 10;\n",
    "    int y = 14;\n",
    "    if(x==(y)) {\n",
    "        System.out.println(\"Both x and y are equal\");\n",
    "}else {\n",
    "        System.out.println(\"x and y are not equal\");\n",
    "}\n"
   ]
  },
  {
   "cell_type": "code",
   "execution_count": 93,
   "metadata": {
    "vscode": {
     "languageId": "java"
    }
   },
   "outputs": [
    {
     "name": "stdout",
     "output_type": "stream",
     "text": [
      "-1\n",
      "1\n"
     ]
    }
   ],
   "source": [
    "public class wrappers\n",
    "{\n",
    "   public static void main(String[] args)\n",
    "{}}\n",
    "\n",
    "// int x = 10;\n",
    "// System.out.println(x.toString()); ------ doesn't work because x is a primitive data type, not a modifiable object\n",
    "Integer x = new Integer(10);\n",
    "//to get around this, you define an integer wrapper class\n",
    "System.out.println(x.compareTo(15));\n",
    "//x is now an object, not a primitive data type\n",
    "System.out.println(x.compareTo(5));\n",
    "//-1 is b/c 10 is less than 15\n",
    "//1 is because 5 is less than 10\n"
   ]
  },
  {
   "cell_type": "code",
   "execution_count": 102,
   "metadata": {
    "vscode": {
     "languageId": "java"
    }
   },
   "outputs": [
    {
     "name": "stdout",
     "output_type": "stream",
     "text": [
      "x is greater than y\n"
     ]
    }
   ],
   "source": [
    "int xy = 83;\n",
    "int yz = 20;\n",
    "\n",
    "int compare = Integer.compare(xy, yz);\n",
    "\n",
    "if(compare>0) {\n",
    "    System.out.println(\"xy is greater than yz\");\n",
    "}else if (compare<0){\n",
    "    System.out.println(\"xy is less than yz\");\n",
    "}else{\n",
    "     System.out.println(\"xy and yz are equal\");\n",
    "}"
   ]
  },
  {
   "cell_type": "markdown",
   "metadata": {},
   "source": [
    "## Comparing Strings\n",
    "- use .equals() or ==\n",
    "- equals() used to check if 2 strings contain the same content"
   ]
  },
  {
   "cell_type": "code",
   "execution_count": 108,
   "metadata": {
    "vscode": {
     "languageId": "java"
    }
   },
   "outputs": [
    {
     "name": "stdout",
     "output_type": "stream",
     "text": [
      "true\n",
      "false\n",
      "true\n",
      "false\n"
     ]
    }
   ],
   "source": [
    "class comparingStrings{ \n",
    "\n",
    "    public static void main(String args[]){  \n",
    "    }  \n",
    "   }  \n",
    "   String s1=\"hello\";  \n",
    "   String s2=\"goodbye\";  \n",
    "   String s3=new String(\"hello\");  \n",
    "   String s4=\"you're a good friend\"; \n",
    "   String s5=\"goodbye\";\n",
    "\n",
    "   if (s2 == s5){\n",
    "    System.out.println(\"true\");\n",
    "   }\n",
    "   System.out.println(s1.equals(s2));  \n",
    "   System.out.println(s1.equals(s3));  \n",
    "   System.out.println(s1.equals(s4));  \n"
   ]
  },
  {
   "cell_type": "markdown",
   "metadata": {},
   "source": [
    "## Comparing Objects\n",
    "- use .equals() or ==\n",
    "- checks if an object is null, or if attributes are the same"
   ]
  },
  {
   "cell_type": "code",
   "execution_count": 109,
   "metadata": {
    "vscode": {
     "languageId": "java"
    }
   },
   "outputs": [
    {
     "name": "stdout",
     "output_type": "stream",
     "text": [
      "Dal1 = Dal2 is false\n"
     ]
    }
   ],
   "source": [
    "class Food {\n",
    "    //attributes\n",
    "    String cuisine;\n",
    "    String name;\n",
    "    int mealsConsumed;\n",
    "\n",
    "\n",
    "    //constructor\n",
    "    Food(String cuisine, String name, int mealsConsumed)\n",
    "    {\n",
    "        this.cuisine = cuisine;\n",
    "        this.name = name;\n",
    "        this.mealsConsumed = mealsConsumed;\n",
    "    }\n",
    "}\n",
    "\n",
    "//objects\n",
    "Food Dal1 = new Food(\"Indian\", \"Mango Dal\", 10);\n",
    "Food Dal2 = new Food(\"Indian\", \"Moong Dal\", 4);\n",
    "\n",
    "System.out.println(\"Dal1 = Dal2 is \" + Dal1.equals(Dal2));\n"
   ]
  },
  {
   "cell_type": "markdown",
   "metadata": {},
   "source": [
    "## For, While, Nested Loops\n",
    "- while loop\n",
    "- - executed while something is happening\n",
    "- - iterates over elements\n",
    "- - can be infinite if boolean is always true\n",
    "\n",
    "- do-while loop\n",
    "- - condition is checked after executed statements\n",
    "\n",
    "- for loop\n",
    "- - certain amt of loops thru code block\n",
    "\n",
    "- nested loop: loop w/in loop\n",
    "\n",
    "- for-each loop\n",
    "- - traverses an array in java\n",
    "\n",
    "\n"
   ]
  },
  {
   "cell_type": "markdown",
   "metadata": {},
   "source": [
    "### While Loop"
   ]
  },
  {
   "cell_type": "code",
   "execution_count": 110,
   "metadata": {
    "vscode": {
     "languageId": "java"
    }
   },
   "outputs": [],
   "source": [
    "int x = 10;\n",
    "\n",
    "while (i<10) {\n",
    "    System.out.println(i);\n",
    "\n",
    "    i++;\n",
    "}"
   ]
  },
  {
   "cell_type": "code",
   "execution_count": 124,
   "metadata": {
    "vscode": {
     "languageId": "java"
    }
   },
   "outputs": [],
   "source": [
    "public class arrays\n",
    "{\n",
    "   public static void main(String[] args)\n",
    "   {\n",
    "   }}\n",
    "   public static void main(String[] args) {\n",
    "    int[] numbers = {2, 4, 6, 8, 10};\n",
    "    int i = 0;\n",
    "    while (i < numbers.length) {\n",
    "        System.out.println(numbers[i]);\n",
    "        i++;\n",
    "\n",
    "    }}\n",
    "        \n"
   ]
  },
  {
   "cell_type": "markdown",
   "metadata": {},
   "source": [
    "### Do-While Loop"
   ]
  },
  {
   "cell_type": "code",
   "execution_count": 194,
   "metadata": {
    "vscode": {
     "languageId": "java"
    }
   },
   "outputs": [
    {
     "name": "stdout",
     "output_type": "stream",
     "text": [
      "0\n",
      "1\n",
      "2\n",
      "3\n",
      "4\n"
     ]
    }
   ],
   "source": [
    "int i = 0;\n",
    "do {\n",
    "  System.out.println(i);\n",
    "  i++;\n",
    "}\n",
    "while (i < 5);\n",
    "\n"
   ]
  },
  {
   "cell_type": "markdown",
   "metadata": {},
   "source": [
    "### For/For-Each Loop"
   ]
  },
  {
   "cell_type": "code",
   "execution_count": 129,
   "metadata": {
    "vscode": {
     "languageId": "java"
    }
   },
   "outputs": [
    {
     "name": "stdout",
     "output_type": "stream",
     "text": [
      "5\n",
      "6\n",
      "7\n",
      "8\n",
      "9\n",
      "10\n",
      "11\n",
      "12\n",
      "13\n",
      "1\n",
      "2\n",
      "3\n"
     ]
    }
   ],
   "source": [
    "for (int i = 5; i < 14; i++) {\n",
    "    System.out.println(i);\n",
    "  }\n",
    "\n",
    "  for (int j = 1; j <= 3; j++) {\n",
    "    System.out.println(j);\n",
    "}//nested loop\n",
    "\n",
    "\n",
    "\n"
   ]
  },
  {
   "cell_type": "code",
   "execution_count": 128,
   "metadata": {
    "vscode": {
     "languageId": "java"
    }
   },
   "outputs": [
    {
     "name": "stdout",
     "output_type": "stream",
     "text": [
      "10\n",
      "20\n",
      "30\n",
      "40\n",
      "50\n"
     ]
    }
   ],
   "source": [
    "//for-each loop\n",
    "int arr[]={10,20,30,40,50};  \n",
    "for(int j:arr){  \n",
    "  System.out.println(j);  \n",
    "}"
   ]
  },
  {
   "cell_type": "markdown",
   "metadata": {},
   "source": [
    "## Writing Classes"
   ]
  },
  {
   "cell_type": "markdown",
   "metadata": {},
   "source": [
    "- blueprint for objects\n",
    "- has constructors, methods, variables, attributes\n",
    "- objects are instances of a class\n",
    "- attributes are components\n",
    "- methods are object actions\n",
    "- public/private -- accessible/not accessible outside the class\n",
    "- constructors initialize instance variables when objects are created\n",
    "- Naming Conventions: CamelCase (simple, descriptive, straightforward)\n",
    "\n"
   ]
  },
  {
   "cell_type": "code",
   "execution_count": 138,
   "metadata": {
    "vscode": {
     "languageId": "java"
    }
   },
   "outputs": [
    {
     "name": "stdout",
     "output_type": "stream",
     "text": [
      "Dal\n"
     ]
    }
   ],
   "source": [
    "class Food {\n",
    "    //attributes\n",
    "    private String cuisine;\n",
    "    private String name;\n",
    "    private int mealsConsumed;\n",
    "//instance variables\n",
    "\n",
    "    //constructor\n",
    "    Food(String cuisine, String name, int mealsConsumed)\n",
    "    {\n",
    "        this.cuisine = cuisine;\n",
    "        this.name = name;\n",
    "        this.mealsConsumed = mealsConsumed;\n",
    "    }\n",
    "    public String getName(){\n",
    "        return name;\n",
    "    }\n",
    "}\n",
    "\n",
    "public class Foodmain {\n",
    "    public static void main(String[] args) {\n",
    "        Food newFood = new Food(\"Indian\", \"Dal\", 20);\n",
    "        System.out.println(newFood.getName());\n",
    "        \n",
    "    }\n",
    "}\n",
    "Foodmain.main(null)"
   ]
  },
  {
   "cell_type": "code",
   "execution_count": 193,
   "metadata": {
    "vscode": {
     "languageId": "java"
    }
   },
   "outputs": [
    {
     "name": "stdout",
     "output_type": "stream",
     "text": [
      "Input 1st number: 2\n",
      "Input 2nd number: 20\n",
      "The average of those numbers are 11\n"
     ]
    }
   ],
   "source": [
    "import java.util.Scanner; //allows scanners to be in program\n",
    "\n",
    "public class averages {\n",
    "  public static void main(String[] args) {\n",
    "    \n",
    "}}\n",
    "Scanner in = new Scanner(System.in); //creates a scanner\n",
    "\n",
    "System.out.print(\"Input 1st number: \"); //asks user for input\n",
    "int num1 = in.nextInt(); //saves number and goes to next int\n",
    "System.out.println(num1);\n",
    "System.out.print(\"Input 2nd number: \"); //same as above\n",
    "int num2 = in.nextInt();\n",
    "System.out.println(num2);\n",
    "System.out.println(\"The average of those numbers are \" + (num1 + num2)/(2));\n",
    "\n",
    "//prints out\n",
    "//num you want to divide is however many numbers you want to average out\n",
    "\n",
    "averages.main(null)"
   ]
  },
  {
   "cell_type": "markdown",
   "metadata": {},
   "source": [
    "## Constructors\n",
    "- no return b/c not directly called\n",
    "- called for object creation\n",
    "- initialize and set values for objects"
   ]
  },
  {
   "cell_type": "code",
   "execution_count": 144,
   "metadata": {
    "vscode": {
     "languageId": "java"
    }
   },
   "outputs": [
    {
     "name": "stdout",
     "output_type": "stream",
     "text": [
      "1969 Mustang\n"
     ]
    }
   ],
   "source": [
    "public class Main {//main class\n",
    "    int modelYear;\n",
    "    String modelName;//attributes\n",
    "  \n",
    "    public Main(int year, String name) {//constructor\n",
    "      modelYear = year;\n",
    "      modelName = name;\n",
    "    }\n",
    "  \n",
    "    public static void main(String[] args) {\n",
    "      Main myCar = new Main(1969, \"Mustang\");//objects\n",
    "      System.out.println(myCar.modelYear + \" \" + myCar.modelName);\n",
    "    }\n",
    "  }\n",
    "  \n",
    "// Outputs 1969 Mustang\n",
    "Main.main(null);\n",
    "  "
   ]
  },
  {
   "cell_type": "markdown",
   "metadata": {},
   "source": [
    "## Accessor & Mutator methods\n",
    "\n",
    "- accessor methods: return private variable values\n",
    "- - access to instance variables\n",
    "- - don't take parameters\n",
    "- - return type matches type of variable they're accessing\n",
    "- - getters\n",
    "\n",
    "- mutator methods: called setters\n",
    "- - set the value\n",
    "- - void return type; no return value"
   ]
  },
  {
   "cell_type": "code",
   "execution_count": null,
   "metadata": {
    "vscode": {
     "languageId": "java"
    }
   },
   "outputs": [],
   "source": [
    "//basic example\n",
    "public class Person {\n",
    "    private String name; // private = restricted access\n",
    "  \n",
    "    // Getter\n",
    "    public String getName() {\n",
    "      return name;\n",
    "    }\n",
    "  \n",
    "    // Setter\n",
    "    public void setName(String newName) {\n",
    "      this.name = newName;\n",
    "    }\n",
    "  }\n",
    "  "
   ]
  },
  {
   "cell_type": "markdown",
   "metadata": {},
   "source": [
    "## Static/Class Variables\n",
    "- static variables: common property of all objects; not unique\n",
    "- - gets memory only once\n",
    "- - makes memory efficient"
   ]
  },
  {
   "cell_type": "code",
   "execution_count": 150,
   "metadata": {
    "vscode": {
     "languageId": "java"
    }
   },
   "outputs": [],
   "source": [
    "import java.util.Scanner;\n",
    "\n",
    "public class Main {\n",
    "    //static variables\n",
    "  private static String[] words = {\"words\", \"to\", \"put\", \"in\"};\n",
    "  private static String word = words[(int) (Math.random() * words.length)];\n",
    "  private static String asterisk = new String(new char[word.length()]).replace(\"\\0\",\"*\");\n",
    "  private static int count = 0;\n",
    "  \n",
    "  public static void main(String[] args) {\n",
    "    Scanner sc = new Scanner(System.in);\n",
    "    \n",
    "    //create a while loop when count is less than 7 and\n",
    "    //when asterisk contains *\n",
    "    while (count < 7 && asterisk.contains(\"*\")) {\n",
    "      //print guess any letter in the word\n",
    "      //print asterisk\n",
    "      //take in guess and scan it in (string guess and take in scan)\n",
    "      //hang(guess)\n",
    "      System.out.println(\"Guess any letter in the word\");\n",
    "      System.out.println(asterisk);\n",
    "      String guess = sc.next();\n",
    "      hang(guess);\n",
    "    }\n",
    "    sc.close();\n",
    "\n",
    "}}\n",
    "      "
   ]
  },
  {
   "cell_type": "markdown",
   "metadata": {},
   "source": [
    "### Public, Private, Protected; Access Modifiers\n",
    "- private; only accessed within class\n",
    "- protected; within/outside package, accessible only through child class\n",
    "- public - open access"
   ]
  },
  {
   "cell_type": "code",
   "execution_count": 149,
   "metadata": {
    "vscode": {
     "languageId": "java"
    }
   },
   "outputs": [],
   "source": [
    "//public\n",
    "\n",
    "\n",
    "//Exercise 1: \n",
    "//Write a program to reverse the words in a sentence\n",
    "//example: the strawberry cake\n",
    "//becomes: cake strawberry the\n",
    "\n",
    "//hints: use scanner to take in words\n",
    "//use split to break apart words to reverse them\n",
    "\n",
    "import java.util.*; //import scanner\n",
    "public class Main {\n",
    "  public static String reverse_str_order(String input_sentence) { //\n",
    "    if (input_sentence == null) {\n",
    "      throw new IllegalArgumentException(\"Null\"); //no empty strings\n",
    "    }\n",
    "    StringBuilder stringBuilder = new StringBuilder();\n",
    "    String[] words = input_sentence.split(\" \");\n",
    "    for (int i = words.length - 1; i >= 0; i--) {\n",
    "      stringBuilder.append(words[i]); //place words in order\n",
    "      if (i != 0) { //keep going until no more words are left\n",
    "        stringBuilder.append(\" \");\n",
    "      }\n",
    "    }\n",
    "    return stringBuilder.toString();\n",
    "  }\n",
    "}\n",
    "public static void main(String[] args) { //prepares for scanning\n",
    "  Scanner scanner = new Scanner(System.in);\n",
    "  System.out.print(\"Input string: \"); //asks for user input\n",
    "  String input = scanner.nextLine(); //takes in next line\n",
    "  System.out.println(\"\\nResult: \" + reverse_str_word(input));\n",
    "}\n"
   ]
  },
  {
   "cell_type": "code",
   "execution_count": null,
   "metadata": {
    "vscode": {
     "languageId": "java"
    }
   },
   "outputs": [],
   "source": [
    "//private\n",
    "\n",
    "\n",
    "//Exercise 1: \n",
    "//Write a program to reverse the words in a sentence\n",
    "//example: the strawberry cake\n",
    "//becomes: cake strawberry the\n",
    "\n",
    "//hints: use scanner to take in words\n",
    "//use split to break apart words to reverse them\n",
    "\n",
    "import java.util.*; //import scanner\n",
    "public class Main {\n",
    "  private static String reverse_str_order(String input_sentence) { //\n",
    "    if (input_sentence == null) {\n",
    "      throw new IllegalArgumentException(\"Null\"); //no empty strings\n",
    "    }\n",
    "    StringBuilder stringBuilder = new StringBuilder();\n",
    "    String[] words = input_sentence.split(\" \");\n",
    "    for (int i = words.length - 1; i >= 0; i--) {\n",
    "      stringBuilder.append(words[i]); //place words in order\n",
    "      if (i != 0) { //keep going until no more words are left\n",
    "        stringBuilder.append(\" \");\n",
    "      }\n",
    "    }\n",
    "    return stringBuilder.toString();\n",
    "  }\n",
    "}\n",
    "public static void main(String[] args) { //prepares for scanning\n",
    "  Scanner scanner = new Scanner(System.in);\n",
    "  System.out.print(\"Input string: \"); //asks for user input\n",
    "  String input = scanner.nextLine(); //takes in next line\n",
    "  System.out.println(\"\\nResult: \" + reverse_str_word(input));\n",
    "}\n"
   ]
  },
  {
   "cell_type": "code",
   "execution_count": 171,
   "metadata": {
    "vscode": {
     "languageId": "java"
    }
   },
   "outputs": [],
   "source": [
    "//protected\n",
    "\n",
    "\n",
    "//Exercise 1: \n",
    "//Write a program to reverse the words in a sentence\n",
    "//example: the strawberry cake\n",
    "//becomes: cake strawberry the\n",
    "\n",
    "//hints: use scanner to take in words\n",
    "//use split to break apart words to reverse them\n",
    "\n",
    "import java.util.*; //import scanner\n",
    "public class Main {\n",
    "  protected static String reverse_str_order(String input_sentence) { //\n",
    "    if (input_sentence == null) {\n",
    "      throw new IllegalArgumentException(\"Null\"); //no empty strings\n",
    "    }\n",
    "    StringBuilder stringBuilder = new StringBuilder();\n",
    "    String[] words = input_sentence.split(\" \");\n",
    "    for (int i = words.length - 1; i >= 0; i--) {\n",
    "      stringBuilder.append(words[i]); //place words in order\n",
    "      if (i != 0) { //keep going until no more words are left\n",
    "        stringBuilder.append(\" \");\n",
    "      }\n",
    "    }\n",
    "    return stringBuilder.toString();\n",
    "  }\n",
    "}\n",
    "public static void main(String[] args) { //prepares for scanning\n",
    "  Scanner scanner = new Scanner(System.in);\n",
    "  System.out.print(\"Input string: \"); //asks for user input\n",
    "  String input = scanner.nextLine(); //takes in next line\n",
    "  System.out.println(\"\\nResult: \" + reverse_str_word(input));\n",
    "}"
   ]
  },
  {
   "cell_type": "markdown",
   "metadata": {},
   "source": [
    "### Static methods, Class methods\n",
    "- belong to class, not object\n",
    "- accessed through class"
   ]
  },
  {
   "cell_type": "code",
   "execution_count": 172,
   "metadata": {
    "vscode": {
     "languageId": "java"
    }
   },
   "outputs": [],
   "source": [
    "public class friends\n",
    "{\n",
    "   // instance variables\n",
    "   private String name;\n",
    "   private String email;\n",
    "   private String phoneNumber;\n",
    "\n",
    "   // Static counter variable\n",
    "   public static int personCounter = 0;\n",
    "\n",
    "   // static method to print out counter\n",
    "   public static void printPersonCounter() {\n",
    "        System.out.println(\"Person counter: \" + personCounter);\n",
    "   }\n",
    "\n",
    "   // constructor\n",
    "   public friends(String initName, String initEmail, String initPhone)\n",
    "   {\n",
    "      name = initName;\n",
    "      email = initEmail;\n",
    "      phoneNumber = initPhone;\n",
    "      personCounter++;\n",
    "   }\n",
    "\n",
    "   // toString() method\n",
    "   public String toString()\n",
    "   {\n",
    "     return  name + \": \" + email + \" \" + phoneNumber;\n",
    "   }\n",
    "\n",
    "   // main method for testing\n",
    "   public static void main(String[] args)\n",
    "   {\n",
    "      // call the constructor to create a new person\n",
    "      friends p1 = new friends(\"Sana\", \"sana@gmail.com\", \"123-456-7890\");\n",
    "      friends p2 = new friends(\"Jean\", \"jean@gmail.com\", \"404 899-9955\");\n",
    "\n",
    "      friends.printPersonCounter();\n",
    "   }\n",
    "}\n"
   ]
  },
  {
   "cell_type": "code",
   "execution_count": 192,
   "metadata": {
    "vscode": {
     "languageId": "java"
    }
   },
   "outputs": [],
   "source": [
    "//class methods\n",
    "public class Main {\n",
    "    static void myMethod() {\n",
    "      System.out.println(\"Hello World!\");\n",
    "    }\n",
    "  }  \n",
    "//methods declared within a class"
   ]
  },
  {
   "cell_type": "markdown",
   "metadata": {},
   "source": [
    "### this Keyword\n",
    "- current object in method/constructor\n",
    "- eliminates confusion b/w attributes/parameters w/ the same name"
   ]
  },
  {
   "cell_type": "code",
   "execution_count": 191,
   "metadata": {
    "vscode": {
     "languageId": "java"
    }
   },
   "outputs": [],
   "source": [
    "//ex\n",
    "public class Main {\n",
    "    int x;\n",
    "  \n",
    "    // Constructor with a parameter\n",
    "    public Main(int x) {\n",
    "      this.x = x;\n",
    "    }\n",
    "  //this used to \n",
    "    // Call the constructor\n",
    "    public static void main(String[] args) {\n",
    "      Main myObj = new Main(5);\n",
    "      System.out.println(\"Value of x = \" + myObj.x);\n",
    "    }\n",
    "  }"
   ]
  },
  {
   "cell_type": "markdown",
   "metadata": {},
   "source": [
    "### main method, tester methods\n",
    "- main method runs main code\n",
    "- tester method tests main code\n",
    "\n",
    "\n",
    "ex:\n",
    "\n",
    "![q5](images/mainteseter.png)\n"
   ]
  },
  {
   "cell_type": "markdown",
   "metadata": {},
   "source": [
    "### Inheritance, extends\n",
    "- extends: extends a class, inherits information from another class\n",
    "- subclass; class inherits from another class\n",
    "- superclass; parent class being inherited from\n"
   ]
  },
  {
   "cell_type": "code",
   "execution_count": 190,
   "metadata": {
    "vscode": {
     "languageId": "java"
    }
   },
   "outputs": [],
   "source": [
    "//ex\n",
    "class school {\n",
    "    protected String brand = \"work\";         //  attribute\n",
    "    public void pencil() {                     // method\n",
    "      System.out.println(\"write, write!\");\n",
    "    }\n",
    "  }\n",
    "  \n",
    "  class classwork extends school {\n",
    "    private String modelName = \"google doc\";    // attribute\n",
    "    public static void main(String[] args) {\n",
    "  \n",
    "      // Create a new school object\n",
    "      School mySchool = new School();\n",
    "  \n",
    "      // Call the pencil() method (from the school class) on the work object\n",
    "      mySchool.pencil();\n",
    "  \n",
    "      // Display the value of the brand attribute (from the Vehicle class) and the value of the modelName from the Car class\n",
    "      System.out.println(mySchool.brand + \" \" + mySchool.modelName);\n",
    "    }\n",
    "  }\n",
    "  \n",
    "  "
   ]
  },
  {
   "cell_type": "markdown",
   "metadata": {},
   "source": [
    "### Subclass constructor, super Keyword\n",
    "- subclass; inheriting class\n",
    "- super: refers to parent objects; calls superclass methods"
   ]
  },
  {
   "cell_type": "markdown",
   "metadata": {},
   "source": [
    "### Overloading a method, same name different parameters\n",
    "- java feature allowing classes to have more than one method that is named the same (but it must have different parameters)\n",
    "- easier to overload one instead of having to define two identically-functioning methods"
   ]
  },
  {
   "cell_type": "markdown",
   "metadata": {},
   "source": [
    "### Overriding a method, same signature of a method\n",
    "- when a subclass has the same method has the parent class\n",
    "- implements a certain aspect of method declared by a parent class \n"
   ]
  },
  {
   "cell_type": "markdown",
   "metadata": {},
   "source": [
    "### Abstract Class, Abstract Method\n",
    "- is a method that has just the method definition but no actual implementation\n",
    "- can be subclassed, not instantiated"
   ]
  },
  {
   "cell_type": "markdown",
   "metadata": {},
   "source": [
    "### Standard methods: toString(), equals(), hashCode()\n",
    "- toString returns string\n",
    "- hashCode returns hashCode of a string"
   ]
  },
  {
   "cell_type": "code",
   "execution_count": 188,
   "metadata": {
    "vscode": {
     "languageId": "java"
    }
   },
   "outputs": [
    {
     "name": "stdout",
     "output_type": "stream",
     "text": [
      "10\n",
      "90\n"
     ]
    }
   ],
   "source": [
    "public class toString\n",
    "{\n",
    "   public static void main(String[] args)\n",
    "{}}\n",
    "\n",
    "Integer x = new Integer(10);\n",
    "System.out.println(x.toString());\n",
    "System.out.println(x.toString(90));\n"
   ]
  },
  {
   "cell_type": "code",
   "execution_count": 187,
   "metadata": {
    "vscode": {
     "languageId": "java"
    }
   },
   "outputs": [
    {
     "name": "stdout",
     "output_type": "stream",
     "text": [
      "3701712\n"
     ]
    }
   ],
   "source": [
    "public class hashCode\n",
    "{\n",
    "   public static void main(String[] args)\n",
    "{}}\n",
    "\n",
    "String str_New = \"yay!\";\n",
    "System.out.println(str_New.hashCode());"
   ]
  },
  {
   "cell_type": "markdown",
   "metadata": {},
   "source": [
    "### Late binding of object\n",
    "- name of method looked up at runtime\n",
    "- compiler doesn't perform argument checks and leaves it up to runtime"
   ]
  },
  {
   "cell_type": "markdown",
   "metadata": {},
   "source": [
    "### Polymorphism\n",
    "- class has different implementations of a method\n",
    "- same action performed differently\n"
   ]
  },
  {
   "cell_type": "markdown",
   "metadata": {},
   "source": [
    "### Big O notation for Hash map, Binary Search, Single loop, Nested Loop\n",
    "- language for runtime length\n",
    "- related to efficiency\n",
    "\n",
    "- hashmap: single operation to obtain position of a searched element\n",
    "- - O(1)\n",
    "\n",
    "- binary search\n",
    "- - O(1)\n",
    "- - eliminates half the elements each time\n",
    "\n",
    "- single loop\n",
    "- - O(n)\n",
    "- - The next loop executes N times, if we assume the statement inside the loop is O(1), then the total time for the loop is N*O(1), which equals O(N) also known as linear time\n",
    "\n",
    "- nested loop\n",
    "- - O(N*N)\n",
    "- - the first loop may execute N times, but for how many first loop executes, the inner loop executes N times\n",
    "\n"
   ]
  }
 ],
 "metadata": {
  "kernelspec": {
   "display_name": "Java",
   "language": "java",
   "name": "java"
  },
  "language_info": {
   "codemirror_mode": "java",
   "file_extension": ".jshell",
   "mimetype": "text/x-java-source",
   "name": "Java",
   "pygments_lexer": "java",
   "version": "11.0.16+8-post-Ubuntu-0ubuntu120.04"
  },
  "orig_nbformat": 4
 },
 "nbformat": 4,
 "nbformat_minor": 2
}
