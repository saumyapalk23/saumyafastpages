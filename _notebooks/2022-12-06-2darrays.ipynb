{
 "cells": [
  {
   "cell_type": "markdown",
   "metadata": {},
   "source": [
    "# 2D ARRAYS\n",
    "> Arrays HW\n",
    "- toc: true \n",
    "- badges: true\n",
    "- comments: true\n",
    "- categories: [jupyter]"
   ]
  },
  {
   "cell_type": "code",
   "execution_count": 12,
   "metadata": {
    "vscode": {
     "languageId": "java"
    }
   },
   "outputs": [],
   "source": [
    "int[][]sums = new int [10][10]; //creating 2D Array\n",
    "for(int i = 0;i<sums.length;i++){\n",
    "    for(int j = 0; j < sums[i].length;j++){ \n",
    "        sums[i][j] = i+j; //initializing values for array\n",
    "    }\n",
    "}"
   ]
  },
  {
   "cell_type": "code",
   "execution_count": 11,
   "metadata": {
    "vscode": {
     "languageId": "java"
    }
   },
   "outputs": [
    {
     "ename": "CompilationException",
     "evalue": "",
     "output_type": "error",
     "traceback": [
      "\u001b[1m\u001b[30m|   \u001b[1m\u001b[30m                System.out.println(\"int[\" + i + \"][\" + j + \"] = \" + int[\u001b[0m\u001b[1m\u001b[30m\u001b[41m\u001b[0m\u001b[1m\u001b[30mi][j]);\u001b[0m",
      "\u001b[1m\u001b[31m']' expected\u001b[0m",
      "",
      "\u001b[1m\u001b[30m|   \u001b[1m\u001b[30m                System.out.println(\"int[\" + i + \"][\" + j + \"] = \" + int[i\u001b[0m\u001b[1m\u001b[30m\u001b[41m\u001b[0m\u001b[1m\u001b[30m][j]);\u001b[0m",
      "\u001b[1m\u001b[31m';' expected\u001b[0m",
      "",
      "\u001b[1m\u001b[30m|   \u001b[1m\u001b[30m                System.out.println(\"int[\" + i + \"][\" + j + \"] = \" + int[i][\u001b[0m\u001b[1m\u001b[30m\u001b[41mj\u001b[0m\u001b[1m\u001b[30m]);\u001b[0m",
      "\u001b[1m\u001b[31mnot a statement\u001b[0m",
      "",
      "\u001b[1m\u001b[30m|   \u001b[1m\u001b[30m                System.out.println(\"int[\" + i + \"][\" + j + \"] = \" + int[i][j\u001b[0m\u001b[1m\u001b[30m\u001b[41m\u001b[0m\u001b[1m\u001b[30m]);\u001b[0m",
      "\u001b[1m\u001b[31m';' expected\u001b[0m",
      ""
     ]
    }
   ],
   "source": [
    "public class unit8hw {\n",
    "    public static void main(String[] args)\n",
    " {\n",
    "\n",
    "    int[][] sums = new int [90][40]; //creating 2D Array\n",
    "    for(int i = 0;i<sums.length;i++){\n",
    "        for(int j = 0; j < sums[i].length;j++){ \n",
    "            sums[i][j] = i+j; //initializing values for array\n",
    "                System.out.println(\"int[\" + i + \"][\" + j + \"] = \" + int[i][j]);\n",
    "        }\n",
    "    }\n",
    "unit8hw.main(null);\n",
    " }\n",
    "}\n"
   ]
  }
 ],
 "metadata": {
  "kernelspec": {
   "display_name": "Java",
   "language": "java",
   "name": "java"
  },
  "language_info": {
   "codemirror_mode": "java",
   "file_extension": ".jshell",
   "mimetype": "text/x-java-source",
   "name": "Java",
   "pygments_lexer": "java",
   "version": "11.0.16+8-post-Ubuntu-0ubuntu120.04"
  },
  "orig_nbformat": 4,
  "vscode": {
   "interpreter": {
    "hash": "916dbcbb3f70747c44a77c7bcd40155683ae19c65e1c03b4aa3499c5328201f1"
   }
  }
 },
 "nbformat": 4,
 "nbformat_minor": 2
}
