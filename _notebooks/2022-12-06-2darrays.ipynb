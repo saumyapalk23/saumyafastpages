{
 "cells": [
  {
   "attachments": {},
   "cell_type": "markdown",
   "metadata": {},
   "source": [
    "# 2D ARRAYS Unit 8\n",
    "> Arrays HW\n",
    "- toc: true \n",
    "- badges: true\n",
    "- comments: true\n",
    "- categories: [jupyter]"
   ]
  },
  {
   "cell_type": "code",
   "execution_count": 241,
   "metadata": {
    "vscode": {
     "languageId": "java"
    }
   },
   "outputs": [],
   "source": [
    "import java.util.Scanner;\n",
    "\n",
    "//Create a class for 2D array learning\n",
    "public class Array{\n",
    "\n",
    "    public int[][] numbers = {{1,3,5},{7,9,11},{13,15,18},{21,23,25}};\n",
    "\n",
    "    //method1\n",
    "    public void numArray() {\n",
    "        System.out.println(\"\\nArray: \");\n",
    "        int[][] numbers = {{1,3,5},{7,9,11},{13,15,18},{21,23,25}};\n",
    "            for(int i = 0;i<numbers.length;i++){\n",
    "                for(int j = 0; j < numbers[i].length;j++){ \n",
    "                    System.out.print(numbers[i][j]+\" \");\n",
    "            }\n",
    "            System.out.println();\n",
    "\n",
    "    }\n",
    "}\n",
    "    public void reversedArray(){\n",
    "        System.out.println(\"\\nReversed 2dArray: \");\n",
    "        for(int i=numbers.length-1;i>=0;i--){\n",
    "            for(int j = 0; j <numbers[i].length;j++){ \n",
    "                System.out.print(numbers[i][j]+\" \");\n",
    "        }\n",
    "        System.out.println();\n",
    "        }\n",
    "    }\n",
    "\n",
    "    public void inputValue(){\n",
    "        int[][] numbers = {{1,3,5},{7,9,11},{13,15,18},{21,23,25}};\n",
    "        System.out.println(\"\\n\");\n",
    "        Scanner scanner = new Scanner(System.in); {\n",
    "\n",
    "        System.out.print(\"Row: \");\n",
    "        int inputRow = scanner.nextInt();\n",
    "        System.out.println(inputRow);\n",
    "\n",
    "        System.out.print(\"Column: \");\n",
    "        int inputColumn = scanner.nextInt();\n",
    "        System.out.println(inputColumn);\n",
    "    \n",
    "        System.out.println(\"Row, Column: \" + inputRow + \", \" + inputColumn);\n",
    "        \n",
    "        // System.out.println(\"\\n\");\n",
    "        System.out.println(numbers[inputRow][inputColumn]);\n",
    "    }\n",
    "    System.out.println();\n",
    "    }\n",
    "    public void findProd(){\n",
    "        int[][] numbers = {{1,3,5},{7,9,11},{13,15,18},{21,23,25}};\n",
    "        // System.out.println(\"\\n\");\n",
    "        int sumofProd = 0;\n",
    "        for(int i = 0; i<numbers.length; i++) {\n",
    "            int product = 1; \n",
    "            for(int j = 0; j < numbers[i].length; j++) {\n",
    "                product = product * numbers[i][j];\n",
    "            sumofProd += product; \n",
    "        }\n",
    "    }\n",
    "    System.out.println(\"product sum: \" + sumofProd);\n",
    "    }\n",
    "}\n"
   ]
  },
  {
   "cell_type": "code",
   "execution_count": 242,
   "metadata": {
    "vscode": {
     "languageId": "java"
    }
   },
   "outputs": [
    {
     "name": "stdout",
     "output_type": "stream",
     "text": [
      "\n",
      "Array: \n",
      "1 3 5 \n",
      "7 9 11 \n",
      "13 15 18 \n",
      "21 23 25 \n",
      "\n",
      "Reversed 2dArray: \n",
      "21 23 25 \n",
      "13 15 18 \n",
      "7 9 11 \n",
      "1 3 5 \n",
      "\n",
      "\n",
      "Row: 1\n",
      "Column: 2\n",
      "Row, Column: 1, 2\n",
      "11\n",
      "\n",
      "product sum: 17079\n"
     ]
    }
   ],
   "source": [
    "Array twoD = new Array(); \n",
    "twoD.numArray();\n",
    "twoD.reversedArray(); \n",
    "twoD.inputValue(); \n",
    "twoD.findProd(); "
   ]
  },
  {
   "attachments": {},
   "cell_type": "markdown",
   "metadata": {},
   "source": [
    "## VOCAB IMPLEMENTATION"
   ]
  },
  {
   "attachments": {},
   "cell_type": "markdown",
   "metadata": {},
   "source": [
    "\n",
    "## The following are examples of some of the items that can be found in 2D arrays:\n",
    "\n",
    "Casting, specifically for division: In a 2D array, you can use casting to convert the elements in the array from one data type to another. For example, if you have a 2D array of double values, you can use casting to convert them to int values and then perform integer division on the elements.\n",
    "\n",
    "Wrapper classes: Wrapper classes, such as Integer and Double, are used to store primitive data types (such as int and double) as objects. This can be useful in a \n",
    "2D array when you want to store elements of different data types in the same array.\n",
    "\n",
    "Concatenation: Concatenation is the process of combining two or more strings into a single string. In a 2D array, you can use concatenation to combine the elements of the array into a single string. For example, if you have a 2D array of strings, you can use concatenation to create a single string that contains all the elements of the array.\n",
    "\n",
    "Math class: The Math class in Java provides a variety of methods for performing mathematical operations, such as trigonometric functions, logarithms, and random number generation. In a 2D array, you can use the Math class to generate random numbers and perform other mathematical operations on the elements of the array.\n",
    "\n",
    "Compound boolean expressions: A compound boolean expression is a logical expression that consists of two or more sub-expressions joined by logical operators, such as AND and OR. In a 2D array, you can use compound boolean expressions to perform complex operations on the elements of the array, such as searching for a specific element or sorting the array.\n",
    "\n",
    "Truth tables: A truth table is a mathematical table that shows the truth values of a logical expression for all possible combinations of its variables. In a 2D array, you can use truth tables to evaluate the truth values of complex expressions involving the elements of the array.\n",
    "\n",
    "Comparing numbers: In a 2D array, you can use comparison operators, such as >, <, and ==, to compare the elements of the array to each other or to a specified value. For example, you can use a for loop to iterate over the elements of the array and compare each element to a specified threshold value to determine whether it is greater than, less than, or equal to the threshold.\n",
    "\n",
    "Comparing strings: In a 2D array, you can use the equals() method to compare the elements of the array to each other or to a specified string. For example, you can use a for loop to iterate over the elements of the array and compare each element to a specified search string to determine whether they are equal.\n",
    "\n",
    "Comparing objects: In a 2D array, you can use the compareTo() method to compare the elements of the array to each other or to a specified object. For example, you can use a for loop to iterate over the elements of the array and compare each element to a specified target object to determine whether they are equal or whether one is greater than or less than the other.\n",
    "\n",
    "for loops: In a 2D array, you can use a for loop to iterate over the elements of the array and perform operations on them. For example, you can use a for loop to search for a specific element in the array or to sort the elements of the array in ascending or descending order.\n",
    "\n",
    "while loops: In a 2D array, you can use a while loop to iterate over the elements of the array and perform operations on them. For example, you can use a while loop to search for a specific element in the array or to sort the elements of the array in ascending or descending order.\n",
    "\n",
    "Nested loops: In a 2D array, you can use nested loops to iterate over the elements of the array and perform operations on them. For example, you can use a nested loop to search for a specific element in the array or to sort the elements of the array in ascending or descending order.\n",
    "\n",
    "Classes: In a 2D array, you can use a class to define the data type of the elements of the array. For example, you can create a Point class to represent a point in 2D space, and then create a 2D array of Point objects to store a set of points.\n",
    "\n",
    "De Morgan's law: In a 2D array, you can use De Morgan's law to manipulate logical expressions involving the elements of the array. For example, if you have a 2D array of boolean values, you can use De Morgan's law to convert an expression involving the AND and OR operators into an equivalent expression involving the NOT and XOR operators.\n",
    "\n"
   ]
  },
  {
   "cell_type": "code",
   "execution_count": 20,
   "metadata": {
    "vscode": {
     "languageId": "java"
    }
   },
   "outputs": [],
   "source": [
    "public class DeMorganExample {\n",
    "  public static void main(String[] args) {\n",
    "    // Create a 2D array of boolean values\n",
    "    boolean[][] array = new boolean[][] {\n",
    "      {true, false, true},\n",
    "      {false, true, false},\n",
    "      {true, false, true}\n",
    "    };\n",
    "  \n",
    "\n",
    "// Use De Morgan's law to convert an expression involving the AND and OR operators\n",
    "// into an equivalent expression involving the NOT and XOR operators\n",
    "    for (int i = 0; i < array.length; i++) {\n",
    "      for (int j = 0; j < array[i].length; j++) {\n",
    "        boolean a = array[i][j];\n",
    "        boolean b = array[i][j + 1];\n",
    "        boolean c = array[i + 1][j];\n",
    "        boolean d = array[i + 1][j + 1];\n",
    "        boolean e = !(a || b) && !(c || d);\n",
    "  }\n",
    "}\n",
    "  }\n",
    "}\n",
    "\n"
   ]
  },
  {
   "cell_type": "code",
   "execution_count": 9,
   "metadata": {
    "vscode": {
     "languageId": "java"
    }
   },
   "outputs": [],
   "source": [
    "public class Example {\n",
    "  public static void main(String[] args) {\n",
    "    // Create a 2D array of strings\n",
    "    String[][] array = new String[][] {\n",
    "      {\"cat\", \"dog\", \"bird\"},\n",
    "      {\"apple\", \"banana\", \"cherry\"},\n",
    "      {\"red\", \"green\", \"blue\"}\n",
    "    };\n",
    "\n",
    "    // Call the tester method\n",
    "    test(array);\n",
    "  }\n",
    "\n",
    "  // Tester method that generates output\n",
    "  public static void test(String[][] array) {\n",
    "    // Use a for loop to iterate over the elements of the array\n",
    "    for (int i = 0; i < array.length; i++) {\n",
    "      for (int j = 0; j < array[i].length; j++) {\n",
    "        // Compare the current element to a specified string\n",
    "        if (array[i][j].equals(\"cat\")) {\n",
    "          // Use De Morgan's law to convert an expression involving the AND and OR operators\n",
    "          // into an equivalent expression involving the NOT and XOR operators\n",
    "          boolean a = !array[i][j].equals(\"dog\");\n",
    "          boolean b = !array[i][j].equals(\"bird\");\n",
    "          boolean c = !(a || b);\n",
    "\n",
    "          // Use concatenation to combine the elements of the array into a single string\n",
    "          String s = array[i][0] + \", \" + array[i][1] + \", \" + array[i][2];\n",
    "\n",
    "          // Create a Point class to represent a point in 2D space\n",
    "          class Point {\n",
    "            int x;\n",
    "            int y;\n",
    "\n",
    "            public Point(int x, int y) {\n",
    "              this.x = x;\n",
    "              this.y = y;\n",
    "            }\n",
    "\n",
    "            @Override\n",
    "            public String toString() {\n",
    "              return \"(\" + x + \", \" + y + \")\";\n",
    "            }\n",
    "          }\n",
    "\n",
    "          // Create a Point object using the current indices of the array\n",
    "          Point p = new Point(i, j);\n",
    "\n",
    "          // Print the resulting values\n",
    "          System.out.println(\"Element: \" + array[i][j]);\n",
    "          System.out.println(\"De Morgan's law: \" + c);\n",
    "          System.out.println(\"Concatenated string: \" + s);\n",
    "          System.out.println(\"Point: \" + p);\n",
    "        }\n",
    "      }\n",
    "    }\n",
    "  }\n",
    "}\n"
   ]
  }
 ],
 "metadata": {
  "kernelspec": {
   "display_name": "Java",
   "language": "java",
   "name": "java"
  },
  "language_info": {
   "codemirror_mode": "java",
   "file_extension": ".jshell",
   "mimetype": "text/x-java-source",
   "name": "Java",
   "pygments_lexer": "java",
   "version": "11.0.16+8-post-Ubuntu-0ubuntu120.04"
  },
  "orig_nbformat": 4,
  "vscode": {
   "interpreter": {
    "hash": "916dbcbb3f70747c44a77c7bcd40155683ae19c65e1c03b4aa3499c5328201f1"
   }
  }
 },
 "nbformat": 4,
 "nbformat_minor": 2
}
