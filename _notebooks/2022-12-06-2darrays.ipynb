{
 "cells": [
  {
   "cell_type": "markdown",
   "metadata": {},
   "source": [
    "# 2D ARRAYS\n",
    "> Arrays HW\n",
    "- toc: true \n",
    "- badges: true\n",
    "- comments: true\n",
    "- categories: [jupyter]"
   ]
  },
  {
   "cell_type": "code",
   "execution_count": 241,
   "metadata": {
    "vscode": {
     "languageId": "java"
    }
   },
   "outputs": [],
   "source": [
    "import java.util.Scanner;\n",
    "\n",
    "//Create a class for 2D array learning\n",
    "public class Array{\n",
    "\n",
    "    public int[][] numbers = {{1,3,5},{7,9,11},{13,15,18},{21,23,25}};\n",
    "\n",
    "    //method1\n",
    "    public void numArray() {\n",
    "        System.out.println(\"\\nArray: \");\n",
    "        int[][] numbers = {{1,3,5},{7,9,11},{13,15,18},{21,23,25}};\n",
    "            for(int i = 0;i<numbers.length;i++){\n",
    "                for(int j = 0; j < numbers[i].length;j++){ \n",
    "                    System.out.print(numbers[i][j]+\" \");\n",
    "            }\n",
    "            System.out.println();\n",
    "\n",
    "    }\n",
    "}\n",
    "    public void reversedArray(){\n",
    "        System.out.println(\"\\nReversed 2dArray: \");\n",
    "        for(int i=numbers.length-1;i>=0;i--){\n",
    "            for(int j = 0; j <numbers[i].length;j++){ \n",
    "                System.out.print(numbers[i][j]+\" \");\n",
    "        }\n",
    "        System.out.println();\n",
    "        }\n",
    "    }\n",
    "\n",
    "    public void inputValue(){\n",
    "        int[][] numbers = {{1,3,5},{7,9,11},{13,15,18},{21,23,25}};\n",
    "        System.out.println(\"\\n\");\n",
    "        Scanner scanner = new Scanner(System.in); {\n",
    "\n",
    "        System.out.print(\"Row: \");\n",
    "        int inputRow = scanner.nextInt();\n",
    "        System.out.println(inputRow);\n",
    "\n",
    "        System.out.print(\"Column: \");\n",
    "        int inputColumn = scanner.nextInt();\n",
    "        System.out.println(inputColumn);\n",
    "    \n",
    "        System.out.println(\"Row, Column: \" + inputRow + \", \" + inputColumn);\n",
    "        \n",
    "        // System.out.println(\"\\n\");\n",
    "        System.out.println(numbers[inputRow][inputColumn]);\n",
    "    }\n",
    "    System.out.println();\n",
    "    }\n",
    "    public void findProd(){\n",
    "        int[][] numbers = {{1,3,5},{7,9,11},{13,15,18},{21,23,25}};\n",
    "        // System.out.println(\"\\n\");\n",
    "        int sumofProd = 0;\n",
    "        for(int i = 0; i<numbers.length; i++) {\n",
    "            int product = 1; \n",
    "            for(int j = 0; j < numbers[i].length; j++) {\n",
    "                product = product * numbers[i][j];\n",
    "            sumofProd += product; \n",
    "        }\n",
    "    }\n",
    "    System.out.println(\"product sum: \" + sumofProd);\n",
    "    }\n",
    "}\n"
   ]
  },
  {
   "cell_type": "code",
   "execution_count": 242,
   "metadata": {
    "vscode": {
     "languageId": "java"
    }
   },
   "outputs": [
    {
     "name": "stdout",
     "output_type": "stream",
     "text": [
      "\n",
      "Array: \n",
      "1 3 5 \n",
      "7 9 11 \n",
      "13 15 18 \n",
      "21 23 25 \n",
      "\n",
      "Reversed 2dArray: \n",
      "21 23 25 \n",
      "13 15 18 \n",
      "7 9 11 \n",
      "1 3 5 \n",
      "\n",
      "\n",
      "Row: 1\n",
      "Column: 2\n",
      "Row, Column: 1, 2\n",
      "11\n",
      "\n",
      "product sum: 17079\n"
     ]
    }
   ],
   "source": [
    "Array twoD = new Array(); \n",
    "twoD.numArray();\n",
    "twoD.reversedArray(); \n",
    "twoD.inputValue(); \n",
    "twoD.findProd(); "
   ]
  }
 ],
 "metadata": {
  "kernelspec": {
   "display_name": "Java",
   "language": "java",
   "name": "java"
  },
  "language_info": {
   "codemirror_mode": "java",
   "file_extension": ".jshell",
   "mimetype": "text/x-java-source",
   "name": "Java",
   "pygments_lexer": "java",
   "version": "11.0.16+8-post-Ubuntu-0ubuntu120.04"
  },
  "orig_nbformat": 4,
  "vscode": {
   "interpreter": {
    "hash": "916dbcbb3f70747c44a77c7bcd40155683ae19c65e1c03b4aa3499c5328201f1"
   }
  }
 },
 "nbformat": 4,
 "nbformat_minor": 2
}
