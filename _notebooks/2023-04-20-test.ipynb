{
 "cells": [
  {
   "cell_type": "markdown",
   "metadata": {},
   "source": [
    "# Super Cool Random Test!\n",
    "> So Awesome!\n",
    "\n",
    "- toc: true \n",
    "- badges: true\n",
    "- comments: true\n",
    "- categories: [jupyter]\n"
   ]
  },
  {
   "cell_type": "code",
   "execution_count": 372,
   "metadata": {
    "vscode": {
     "languageId": "java"
    }
   },
   "outputs": [],
   "source": [
    "public class Book {\n",
    "    private String title;\n",
    "    private int id;\n",
    "    private static int bookCount;\n",
    "    private long time;\n",
    "    private int checkOuts;\n",
    "    // private long currentTimeMillis;\n",
    "\n",
    "    public Book(String title)\n",
    "    {\n",
    "        this.title = title;\n",
    "        this.id = (int)(Math.random()*100);\n",
    "        bookCount = bookCount;\n",
    "        time = System.currentTimeMillis();\n",
    "        this.checkOuts = checkOuts;\n",
    "    }\n",
    "    public String getTitle(){\n",
    "        return title;\n",
    "    }\n",
    "    public static int getBookCount(){\n",
    "        return bookCount;\n",
    "    }\n",
    "    public static void setBookCount(int bookCount){\n",
    "        bookCount++;\n",
    "    }\n",
    "\n",
    "    public int getBookID(){\n",
    "        return id;\n",
    "    }\n",
    "\n",
    "    public long shelfLife() {\n",
    "        return (System.currentTimeMillis() - time)/1000;\n",
    "    }\n",
    "\n",
    "    public boolean isExpired() {\n",
    "        if(shelfLife()/1000 >= 3) {\n",
    "            return true;\n",
    "        }\n",
    "        return false;\n",
    "    }\n",
    "\n",
    "    public String toString() {\n",
    "        return (\"Books: \" + \"ID: \" + id + \", Title: \" + title + \", \" +\"Shelf Life:  \" + shelfLife() + \" year(s)\" +  \", \" + \"Expired? \" + isExpired());\n",
    "    }}"
   ]
  },
  {
   "cell_type": "code",
   "execution_count": 378,
   "metadata": {
    "vscode": {
     "languageId": "java"
    }
   },
   "outputs": [],
   "source": [
    "public class Textbook extends Book{\n",
    "    private String author;\n",
    "    private double price;\n",
    "    private String publication;\n",
    "    private int edition;\n",
    "    private long time;\n",
    "\n",
    "    public Textbook(String title, String publication, double price, int edition)\n",
    "    {\n",
    "        super(title);\n",
    "        this.price = price;\n",
    "        this.publication = publication;\n",
    "        this.edition = edition;\n",
    "        this.time = System.currentTimeMillis();\n",
    "    }\n",
    "\n",
    "    public double getPrice(){\n",
    "        return price;\n",
    "    \n",
    "    }    \n",
    "\n",
    "    public long shelfLife() {\n",
    "        return (System.currentTimeMillis() - time)/1000;\n",
    "    }\n",
    "\n",
    "    public String getPublication() {\n",
    "        return publication;\n",
    "    }\n",
    "\n",
    "    public boolean isExpired() {\n",
    "        if(shelfLife()/1000 >= 3) {\n",
    "            return true;\n",
    "        }\n",
    "        return false;\n",
    "    }\n",
    "\n",
    "    public int getEdition(){\n",
    "        return edition;\n",
    "    }\n",
    "\n",
    "    \n",
    "    public String toString()\n",
    "    {\n",
    "        return (\"Textbooks: \" + \"ID: \" + super.getBookID() + \", Title: \" + super.getTitle() + \", \" + shelfLife() + \" years\"  + \", \" + \"Expired? \" + isExpired() + \", \" + \"price: \" + price + \", \" + \"publication: \" + getPublication() + \", \" + \"edition: \"+ edition);\n",
    "    }\n",
    "\n",
    "}"
   ]
  },
  {
   "cell_type": "code",
   "execution_count": 374,
   "metadata": {
    "vscode": {
     "languageId": "java"
    }
   },
   "outputs": [],
   "source": [
    "public class Novel extends Book{\n",
    "    private double price;\n",
    "    private int shelfLife;\n",
    "    private int checkOuts;\n",
    "    private long time;\n",
    "\n",
    "    public Novel(int checkOuts, String title, String author, double price)\n",
    "    {\n",
    "        super(title);\n",
    "        this.price = price;\n",
    "        this.shelfLife = 1;\n",
    "        this.checkOuts = checkOuts;\n",
    "        this.time = System.currentTimeMillis();\n",
    "    }\n",
    "\n",
    "    public long shelfLife() {\n",
    "        return (System.currentTimeMillis() - time)/1000;\n",
    "    }\n",
    "\n",
    "    public long checkPopularity(int checkOuts) {\n",
    "        if (checkOuts > 10) {\n",
    "            return this.shelfLife + (System.currentTimeMillis() - time) / 1000;\n",
    "        }//adds 1yr to shelflife\n",
    "        return this.shelfLife;\n",
    "    }\n",
    "\n",
    "    public boolean isExpired() {\n",
    "        if(shelfLife()/1000 >= 3) {\n",
    "            return true;\n",
    "        }\n",
    "        return false;\n",
    "    }\n",
    "    public double getPrice(){\n",
    "        return price;\n",
    "    }    \n",
    "\n",
    "    public String toString()\n",
    "    {\n",
    "        return (\"Novels: \" + \"ID: \" + super.getBookID() + \", Title: \" + super.getTitle() + \", \" + checkPopularity(checkOuts) + \" years\"  + \", \" + \"Expired? \" + isExpired() + \", \" + \"price: \" + price);\n",
    "    }\n",
    "}"
   ]
  },
  {
   "cell_type": "code",
   "execution_count": 379,
   "metadata": {
    "vscode": {
     "languageId": "java"
    }
   },
   "outputs": [
    {
     "name": "stdout",
     "output_type": "stream",
     "text": [
      "Books: ID: 98, Title: The Great Gatsby, Shelf Life:  3 year(s), Expired? false\n",
      "Books: ID: 49, Title: Candide, Shelf Life:  3 year(s), Expired? false\n",
      "Books: ID: 2, Title: Lolita, Shelf Life:  3 year(s), Expired? false\n",
      "Books: ID: 59, Title: To Kill a Mockingbird, Shelf Life:  3 year(s), Expired? false\n",
      "Books: ID: 36, Title: 1984, Shelf Life:  3 year(s), Expired? false\n",
      "Textbooks: ID: 46, Title: Myers 8th Edition Psychology, 3 years, Expired? false, price: 90.0, publication: Myers, edition: 8\n",
      "Textbooks: ID: 87, Title: Animal Farm, 4 years, Expired? false, price: 200.0\n",
      "Total # of books: 7\n"
     ]
    }
   ],
   "source": [
    "public class myClass{\n",
    "    public static void main(String[] args ) {\n",
    "        // create an object    \n",
    "    ArrayList<Book> books = new ArrayList<>();\n",
    "    Book Book1 = new Book(\"The Great Gatsby\");\n",
    "    Book Book2 = new Book(\"Candide\");\n",
    "    Book Book3 = new Book(\"Lolita\");\n",
    "    Book Book4 = new Book(\"To Kill a Mockingbird\");\n",
    "    Book Book5 = new Book(\"1984\");\n",
    "    Textbook Textbook1 = new Textbook(\"Myers 8th Edition Psychology\", \"Myers\", 90, 8);\n",
    "    Novel novel1 = new Novel(47, \"Animal Farm\", \"Orwell\", 200.0);\n",
    "    \n",
    "    try {\n",
    "        Thread.sleep(3000); //waits 3s\n",
    "    } catch (InterruptedException e) { //handle any exceptions that \n",
    "        //may be thrown if the sleep is interrupted before it completes.\n",
    "        e.printStackTrace(); //used to print the stack trace of an exception\n",
    "        //When an exception occurs, shows the sequence of method calls that led up to the exception\n",
    "    }\n",
    "    books.add(Book1);\n",
    "    books.add(Book2);\n",
    "    books.add(Book3);\n",
    "    books.add(Book4);\n",
    "    books.add(Book5);\n",
    "    books.add(Textbook1);\n",
    "    books.add(novel1);\n",
    "    int bookCount = 0;\n",
    "    for(int i = 0; i <books.size(); i++){\n",
    "        bookCount++;\n",
    "        System.out.println(books.get(i).toString());\n",
    "        \n",
    "         // Thread.sleep() method can throw an InterruptedException if the thread is interrupted while it is sleeping or waiting\n",
    "        //pauses execution of thread for 1000 milliseconds\n",
    "\n",
    "    }\n",
    "    System.out.println(\"Total # of books: \" + bookCount);\n",
    "    }}\n",
    "    \n",
    "myClass.main(null);\n"
   ]
  }
 ],
 "metadata": {
  "kernelspec": {
   "display_name": "Java",
   "language": "java",
   "name": "java"
  },
  "language_info": {
   "codemirror_mode": "java",
   "file_extension": ".jshell",
   "mimetype": "text/x-java-source",
   "name": "Java",
   "pygments_lexer": "java",
   "version": "11.0.16+8-post-Ubuntu-0ubuntu120.04"
  },
  "orig_nbformat": 4
 },
 "nbformat": 4,
 "nbformat_minor": 2
}
