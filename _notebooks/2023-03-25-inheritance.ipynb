{
 "cells": [
  {
   "cell_type": "markdown",
   "metadata": {},
   "source": [
    "# Inheritance w/ Super\n",
    "> Examples of Inheritance w/ Explanations\n",
    "- toc: true \n",
    "- badges: true\n",
    "- comments: true\n",
    "- categories: [jupyter]"
   ]
  },
  {
   "cell_type": "code",
   "execution_count": 1,
   "metadata": {
    "vscode": {
     "languageId": "java"
    }
   },
   "outputs": [],
   "source": [
    "public class Vehicle {\n",
    "        private int maxPassengers;\n",
    "        public Vehicle()\n",
    "        {\n",
    "    maxPassengers=5;\n",
    "        }\n",
    "        public Vehicle(int x)\n",
    "        {\n",
    "    maxPassengers=x;\n",
    "        }\n",
    "        public int maxPassengers()\n",
    "        {\n",
    "    return maxPassengers;\n",
    "        }\n",
    "}\n",
    "public class Motorcycle extends Vehicle {\n",
    "    public Motorcycle()\n",
    "    {\n",
    "    super(2);\n",
    "    }\n",
    "}"
   ]
  },
  {
   "attachments": {},
   "cell_type": "markdown",
   "metadata": {},
   "source": [
    "This code defines two classes: Vehicle and Motorcycle.\n",
    "\n",
    "The Vehicle class has one private instance variable maxPassengers which stores the maximum number of passengers that the vehicle can carry. It has two constructors, one with no arguments which sets maxPassengers to 5, and another with an integer argument x which sets maxPassengers to the value of x. It also has a method called maxPassengers() which returns the value of maxPassengers.\n",
    "\n",
    "The Motorcycle class is a subclass of Vehicle. It has a default constructor which calls the Vehicle class constructor with an argument of 2 using the super() method. This sets the maxPassengers variable to 2, which indicates that the motorcycle can carry a maximum of two passengers.\n",
    "\n",
    "So, the Motorcycle class inherits the maxPassengers() method from the Vehicle class and sets the maxPassengers variable to 2 using the super() method."
   ]
  },
  {
   "cell_type": "code",
   "execution_count": 26,
   "metadata": {
    "vscode": {
     "languageId": "java"
    }
   },
   "outputs": [
    {
     "name": "stdout",
     "output_type": "stream",
     "text": [
      "write, write!\n",
      "work\n",
      "google doc\n"
     ]
    }
   ],
   "source": [
    "//ex\n",
    "public class School {\n",
    "    protected String brand = \"work\";         //  attribute\n",
    "    public void pencil() {                     // method\n",
    "      System.out.println(\"write, write!\");\n",
    "    }\n",
    "  }\n",
    "  \n",
    "  public class classwork extends School {\n",
    "    private String modelName = \"google doc\";    // attribute\n",
    "    public static void main(String[] args) {\n",
    "    \n",
    "    School mySchool = new School();\n",
    "    // Call the pencil() method (from the School class) on the School object\n",
    "    mySchool.pencil();\n",
    "    // Display the value of the brand attribute (from the School class)\n",
    "    System.out.println(mySchool.brand);\n",
    "\n",
    "      // Create a new school object\n",
    "    classwork myClasswork = new classwork();\n",
    "      // Display the value of the brand attribute (from the Vehicle class) and the value of the modelName from the Car class\n",
    "    System.out.println(myClasswork.modelName);\n",
    "    }\n",
    "  }\n",
    "\n",
    "classwork.main(null);"
   ]
  },
  {
   "attachments": {},
   "cell_type": "markdown",
   "metadata": {},
   "source": [
    "This code defines two classes: School and classwork.\n",
    "\n",
    "The School class has an attribute brand that is a string with the value \"work\", and a method pencil() that prints \"write, write!\" to the console.\n",
    "\n",
    "The classwork class extends the School class and has its own attribute modelName that is a string with the value \"google doc\". It also has a main() method which creates a School object and calls its pencil() method, and then displays the value of the brand attribute. Then, it creates a classwork object and displays the value of its modelName attribute.\n",
    "\n",
    "Finally, the code executes the main() method of the classwork class by calling classwork.main(null), which runs the code in the main() method of classwork."
   ]
  }
 ],
 "metadata": {
  "kernelspec": {
   "display_name": "Java",
   "language": "java",
   "name": "java"
  },
  "language_info": {
   "codemirror_mode": "java",
   "file_extension": ".jshell",
   "mimetype": "text/x-java-source",
   "name": "Java",
   "pygments_lexer": "java",
   "version": "11.0.16+8-post-Ubuntu-0ubuntu120.04"
  },
  "orig_nbformat": 4
 },
 "nbformat": 4,
 "nbformat_minor": 2
}
