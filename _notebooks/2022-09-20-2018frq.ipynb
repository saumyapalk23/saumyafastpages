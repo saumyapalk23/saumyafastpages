{
 "cells": [
  {
   "cell_type": "markdown",
   "metadata": {},
   "source": [
    "# 2018 Frq"
   ]
  },
  {
   "cell_type": "markdown",
   "metadata": {},
   "source": [
    "## Question\n",
    "The prompt is essentially a simulation of a frog hopping. The frog can jump back and forth and it is considered a success if it makes it to the goal in the amount of jumps given. \n"
   ]
  },
  {
   "cell_type": "code",
   "execution_count": null,
   "metadata": {},
   "outputs": [],
   "source": [
    "public class FrogSimulation {\n",
    "    private int goalDistance;\n",
    "    private int maxHops;\n",
    "\n",
    "    public FrogSimulation(int dist, int numHops){\n",
    "        goalDistance=dist;\n",
    "        maxHops=numHops;\n",
    "    }\n",
    "\n",
    "    private int hopDistance(){}\n",
    "    public boolean simulate(){}\n",
    "    public double runSimulations(int num){}\n",
    "}"
   ]
  },
  {
   "cell_type": "markdown",
   "metadata": {},
   "source": [
    "## Part A\n",
    "The distance away from the goal is defined as dist while the number of jumps given is defined as numHops so if we call the method FrogSimulation using FrogSimulation sim= new FrogSimulation(24,5);. The simulation would have a goal at a distance of 24 inches and a maximum amount of 5 jumps. If the frog makes it to or past the goal sim.simulate will return true and if it is negative or has just not made it to the goal but is not a negative value then it will return false   \n",
    "### Requirements\n",
    "- Complete method simulate.\n",
    "- Requirement: must use hopDistance\n",
    "- Return true if frog successfully reaches or goes past the goal "
   ]
  },
  {
   "cell_type": "markdown",
   "metadata": {},
   "source": [
    "### Solution\n",
    "First we define location to be at zero, our starting point. Then we use a for loop so that i will continue to increase until it reaches the max number of hops and so that for as long as this happens, the frog will hop (ie. location= location+hopDistance, which means that the distance the frog jumps will be added to location every time the frog jumps in order to have the final location of the frog). After the frog has finished jumping, we used an if loop so that if the frog is at or beyond the goal then it will be true and if it is at a negative value or behind the starting value then it will return false. If the frog has used up all its jumps but has not made it to the goal or at a negative value then it will return false regardless which is done by a return false outside of the for loop.  \n"
   ]
  },
  {
   "cell_type": "code",
   "execution_count": null,
   "metadata": {},
   "outputs": [],
   "source": [
    "public boolean simulate(){\n",
    "    int location=0; \n",
    "    for (int i=0; i<numHops; i++ ){\n",
    "        location +=hopDistance();\n",
    "        if(dist<=location){\n",
    "            return true;\n",
    "        } else if (location<0){\n",
    "            return false;\n",
    "        }\n",
    "    }\n",
    "    return false;\n",
    "}"
   ]
  },
  {
   "cell_type": "markdown",
   "metadata": {},
   "source": [
    "## Part B\n",
    "We can then use the values given by the method simulate in order to finish the simulation of the frog. Prompt B is asking for us to finish the simulation and declare whether or not the frog has won the game ie made it to the goal, which we can find using the boolean values given by simulate, and then find the proportion of wins overall after a certain number of runs.\n",
    "### Requirements\n",
    "- Complete runSimulations method to do a certain amount of runs and then output the proportion of simulations where the frog reaches the goal "
   ]
  },
  {
   "cell_type": "markdown",
   "metadata": {},
   "source": [
    "### Solution \n",
    "This is a method called runSimulations and basically if we call this method such as FrogSimulation run = new FrogSimulation(23); it should run the simulation 23 times and count the number of successes- which will eventually be changed into a decimal of successes/tries. We do this by setting the number of successes to zero to begin with and then we use a for loop, with basically the same idea as part a, so that the code will run for as many times as directed. Then inside of that for loop, we have an if loop so that for as long as simulate runs true then the success counter will increase and the proportion of successes/tries will be returned"
   ]
  },
  {
   "cell_type": "code",
   "execution_count": null,
   "metadata": {},
   "outputs": [],
   "source": [
    "public double runSimulations(int num){\n",
    "    int success=0;\n",
    "    for(int i=0; i<num; i++ ){\n",
    "        if(simulate()){\n",
    "            success++\n",
    "        }\n",
    "        return success/num;\n",
    "    }\n",
    "}"
   ]
  }
 ],
 "metadata": {
  "kernelspec": {
   "display_name": "Java",
   "language": "java",
   "name": "java"
  },
  "language_info": {
   "name": "java",
   "version": "3.9.6"
  },
  "orig_nbformat": 4,
  "vscode": {
   "interpreter": {
    "hash": "31f2aee4e71d21fbe5cf8b01ff0e069b9275f58929596ceb00d14d90e3e16cd6"
   }
  }
 },
 "nbformat": 4,
 "nbformat_minor": 2
}
