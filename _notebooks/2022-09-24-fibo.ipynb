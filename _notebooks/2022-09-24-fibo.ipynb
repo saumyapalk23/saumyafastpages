{
 "cells": [
  {
   "cell_type": "markdown",
   "metadata": {},
   "source": [
    "# Week of 9/20\n",
    "> Fibo, Java, and Project Design\n",
    "\n",
    "- toc: true \n",
    "- badges: true\n",
    "- comments: true\n",
    "- categories: [jupyter]\n",
    "- image: images/chart-preview.png"
   ]
  },
  {
   "cell_type": "markdown",
   "metadata": {},
   "source": [
    "## Initial Code with Fibo Class"
   ]
  },
  {
   "cell_type": "code",
   "execution_count": 5,
   "metadata": {},
   "outputs": [
    {
     "name": "stdout",
     "output_type": "stream",
     "text": [
      "Init method = Stream\n",
      "fibonacci Number 20 = 4181\n",
      "fibonacci List = [0, 1, 1, 2, 3, 5, 8, 13, 21, 34, 55, 89, 144, 233, 377, 610, 987, 1597, 2584, 4181]\n",
      "fibonacci Hashmap = {0=[0], 1=[0, 1], 2=[0, 1, 1], 3=[0, 1, 1, 2], 4=[0, 1, 1, 2, 3], 5=[0, 1, 1, 2, 3, 5], 6=[0, 1, 1, 2, 3, 5, 8], 7=[0, 1, 1, 2, 3, 5, 8, 13], 8=[0, 1, 1, 2, 3, 5, 8, 13, 21], 9=[0, 1, 1, 2, 3, 5, 8, 13, 21, 34], 10=[0, 1, 1, 2, 3, 5, 8, 13, 21, 34, 55], 11=[0, 1, 1, 2, 3, 5, 8, 13, 21, 34, 55, 89], 12=[0, 1, 1, 2, 3, 5, 8, 13, 21, 34, 55, 89, 144], 13=[0, 1, 1, 2, 3, 5, 8, 13, 21, 34, 55, 89, 144, 233], 14=[0, 1, 1, 2, 3, 5, 8, 13, 21, 34, 55, 89, 144, 233, 377], 15=[0, 1, 1, 2, 3, 5, 8, 13, 21, 34, 55, 89, 144, 233, 377, 610], 16=[0, 1, 1, 2, 3, 5, 8, 13, 21, 34, 55, 89, 144, 233, 377, 610, 987], 17=[0, 1, 1, 2, 3, 5, 8, 13, 21, 34, 55, 89, 144, 233, 377, 610, 987, 1597], 18=[0, 1, 1, 2, 3, 5, 8, 13, 21, 34, 55, 89, 144, 233, 377, 610, 987, 1597, 2584], 19=[0, 1, 1, 2, 3, 5, 8, 13, 21, 34, 55, 89, 144, 233, 377, 610, 987, 1597, 2584, 4181]}\n",
      "fibonacci Sequence 1 = [0]\n",
      "fibonacci Sequence 2 = [0, 1]\n",
      "fibonacci Sequence 3 = [0, 1, 1]\n",
      "fibonacci Sequence 4 = [0, 1, 1, 2]\n",
      "fibonacci Sequence 5 = [0, 1, 1, 2, 3]\n",
      "fibonacci Sequence 6 = [0, 1, 1, 2, 3, 5]\n",
      "fibonacci Sequence 7 = [0, 1, 1, 2, 3, 5, 8]\n",
      "fibonacci Sequence 8 = [0, 1, 1, 2, 3, 5, 8, 13]\n",
      "fibonacci Sequence 9 = [0, 1, 1, 2, 3, 5, 8, 13, 21]\n",
      "fibonacci Sequence 10 = [0, 1, 1, 2, 3, 5, 8, 13, 21, 34]\n",
      "fibonacci Sequence 11 = [0, 1, 1, 2, 3, 5, 8, 13, 21, 34, 55]\n",
      "fibonacci Sequence 12 = [0, 1, 1, 2, 3, 5, 8, 13, 21, 34, 55, 89]\n",
      "fibonacci Sequence 13 = [0, 1, 1, 2, 3, 5, 8, 13, 21, 34, 55, 89, 144]\n",
      "fibonacci Sequence 14 = [0, 1, 1, 2, 3, 5, 8, 13, 21, 34, 55, 89, 144, 233]\n",
      "fibonacci Sequence 15 = [0, 1, 1, 2, 3, 5, 8, 13, 21, 34, 55, 89, 144, 233, 377]\n",
      "fibonacci Sequence 16 = [0, 1, 1, 2, 3, 5, 8, 13, 21, 34, 55, 89, 144, 233, 377, 610]\n",
      "fibonacci Sequence 17 = [0, 1, 1, 2, 3, 5, 8, 13, 21, 34, 55, 89, 144, 233, 377, 610, 987]\n",
      "fibonacci Sequence 18 = [0, 1, 1, 2, 3, 5, 8, 13, 21, 34, 55, 89, 144, 233, 377, 610, 987, 1597]\n",
      "fibonacci Sequence 19 = [0, 1, 1, 2, 3, 5, 8, 13, 21, 34, 55, 89, 144, 233, 377, 610, 987, 1597, 2584]\n",
      "fibonacci Sequence 20 = [0, 1, 1, 2, 3, 5, 8, 13, 21, 34, 55, 89, 144, 233, 377, 610, 987, 1597, 2584, 4181]\n"
     ]
    }
   ],
   "source": [
    "/*\n",
    " * Creator: Nighthawk Coding Society\n",
    " * Mini Lab Name: Fibonacci sequence, featuring a Stream Algorithm\n",
    " * \n",
    " */\n",
    "\n",
    "import java.util.ArrayList;  \n",
    "import java.util.HashMap;\n",
    "import java.util.stream.Stream;\n",
    "\n",
    "/* Objective will require changing to abstract class with one or more abstract methods below */\n",
    "public class Fibo {\n",
    "    String name;  // name or title of method\n",
    "    int size;  // nth sequence\n",
    "    int hashID;  // counter for hashIDs in hash map\n",
    "    ArrayList<Long> list;   // captures current Fibonacci sequence\n",
    "    HashMap<Integer, Object> hash;  // captures each sequence leading to final result\n",
    "\n",
    "    /*\n",
    "     Zero parameter constructor uses Telescoping technique to allow setting of the required value nth\n",
    "     @param: none\n",
    "     */\n",
    "    public Fibo() {\n",
    "        this(20); // telescope to avoid code duplication, using default as 20\n",
    "    }\n",
    "\n",
    "    /*\n",
    "     Construct the nth fibonacci number\n",
    "     @param: nth number, the value is constrained to 92 because of overflow in a long\n",
    "     */\n",
    "    public Fibo(int nth) {\n",
    "        this.size = nth;\n",
    "        this.list = new ArrayList<>();\n",
    "        this.hashID = 0;\n",
    "        this.hash = new HashMap<>();\n",
    "        //initialize fibonacci and time mvc\n",
    "        this.init();\n",
    "    }\n",
    "\n",
    "    /*\n",
    "     This Method should be \"abstract\"\n",
    "     Leave method as protected, as it is only authorized to extender of the class\n",
    "     Make new class that extends and defines init()\n",
    "     Inside references within this class would change from this to super\n",
    "     Repeat process using for, while, recursion\n",
    "     */\n",
    "    protected void init() {\n",
    "        this.name = \"Stream\";\n",
    "        Stream.iterate(new long[]{0, 1}, f -> new long[]{f[1], f[0] + f[1]})\n",
    "            .limit(this.size)\n",
    "            .forEach(f -> this.setData(f[0]) );\n",
    "    }\n",
    "\n",
    "    /*\n",
    "     Number is added to fibonacci sequence, current state of \"list\" is added to hash for hashID \"num\"\n",
    "     */\n",
    "    public void setData(long num) {\n",
    "        list.add(num);\n",
    "        hash.put(this.hashID++, list.clone());\n",
    "    }\n",
    "\n",
    "    /*\n",
    "     Custom Getter to return last element in fibonacci sequence\n",
    "     */\n",
    "    public long getNth() {\n",
    "        return list.get(this.size - 1);\n",
    "    }\n",
    "\n",
    "    /*\n",
    "     Custom Getter to return last fibonacci sequence in HashMap\n",
    "     */\n",
    "    public Object getNthSeq(int i) {\n",
    "        return hash.get(i);\n",
    "    }\n",
    "\n",
    "    /*\n",
    "     Console/Terminal supported print method\n",
    "     */\n",
    "    public void print() {\n",
    "        System.out.println(\"Init method = \" + this.name);\n",
    "        System.out.println(\"fibonacci Number \" + this.size + \" = \" + this.getNth());\n",
    "        System.out.println(\"fibonacci List = \" + this.list);\n",
    "        System.out.println(\"fibonacci Hashmap = \" + this.hash);\n",
    "        for (int i=0 ; i<this.size; i++ ) {\n",
    "            System.out.println(\"fibonacci Sequence \" + (i+1) + \" = \" + this.getNthSeq(i));\n",
    "        }\n",
    "    }\n",
    "\n",
    "    /*\n",
    "    Tester class method.  If this becomes abstract you will not be able to test it directly ...\n",
    "    Change this method to  call \"main\" class of each of the extended classes\n",
    "     */\n",
    "    static public void main(String[] args) {\n",
    "        Fibo fib = new Fibo();\n",
    "        fib.print();\n",
    "    }\n",
    "}\n",
    "Fibo.main(null);"
   ]
  },
  {
   "cell_type": "markdown",
   "metadata": {},
   "source": [
    "## Fibo in a For Loop Format\n",
    "\n",
    "We used a for loop to loop through and create a fibonacci sequence. A for loop will loop through a program for as many times listed in the initial condition."
   ]
  },
  {
   "cell_type": "code",
   "execution_count": 10,
   "metadata": {},
   "outputs": [
    {
     "name": "stdout",
     "output_type": "stream",
     "text": [
      "Fibonacci Series: 0 1 1 2 3 5 8 13 21 34 Init method = Stream\n",
      "fibonacci Number 20 = 4181\n",
      "fibonacci List = [0, 1, 1, 2, 3, 5, 8, 13, 21, 34, 55, 89, 144, 233, 377, 610, 987, 1597, 2584, 4181]\n",
      "fibonacci Hashmap = {0=[0], 1=[0, 1], 2=[0, 1, 1], 3=[0, 1, 1, 2], 4=[0, 1, 1, 2, 3], 5=[0, 1, 1, 2, 3, 5], 6=[0, 1, 1, 2, 3, 5, 8], 7=[0, 1, 1, 2, 3, 5, 8, 13], 8=[0, 1, 1, 2, 3, 5, 8, 13, 21], 9=[0, 1, 1, 2, 3, 5, 8, 13, 21, 34], 10=[0, 1, 1, 2, 3, 5, 8, 13, 21, 34, 55], 11=[0, 1, 1, 2, 3, 5, 8, 13, 21, 34, 55, 89], 12=[0, 1, 1, 2, 3, 5, 8, 13, 21, 34, 55, 89, 144], 13=[0, 1, 1, 2, 3, 5, 8, 13, 21, 34, 55, 89, 144, 233], 14=[0, 1, 1, 2, 3, 5, 8, 13, 21, 34, 55, 89, 144, 233, 377], 15=[0, 1, 1, 2, 3, 5, 8, 13, 21, 34, 55, 89, 144, 233, 377, 610], 16=[0, 1, 1, 2, 3, 5, 8, 13, 21, 34, 55, 89, 144, 233, 377, 610, 987], 17=[0, 1, 1, 2, 3, 5, 8, 13, 21, 34, 55, 89, 144, 233, 377, 610, 987, 1597], 18=[0, 1, 1, 2, 3, 5, 8, 13, 21, 34, 55, 89, 144, 233, 377, 610, 987, 1597, 2584], 19=[0, 1, 1, 2, 3, 5, 8, 13, 21, 34, 55, 89, 144, 233, 377, 610, 987, 1597, 2584, 4181]}\n",
      "fibonacci Sequence 1 = [0]\n",
      "fibonacci Sequence 2 = [0, 1]\n",
      "fibonacci Sequence 3 = [0, 1, 1]\n",
      "fibonacci Sequence 4 = [0, 1, 1, 2]\n",
      "fibonacci Sequence 5 = [0, 1, 1, 2, 3]\n",
      "fibonacci Sequence 6 = [0, 1, 1, 2, 3, 5]\n",
      "fibonacci Sequence 7 = [0, 1, 1, 2, 3, 5, 8]\n",
      "fibonacci Sequence 8 = [0, 1, 1, 2, 3, 5, 8, 13]\n",
      "fibonacci Sequence 9 = [0, 1, 1, 2, 3, 5, 8, 13, 21]\n",
      "fibonacci Sequence 10 = [0, 1, 1, 2, 3, 5, 8, 13, 21, 34]\n",
      "fibonacci Sequence 11 = [0, 1, 1, 2, 3, 5, 8, 13, 21, 34, 55]\n",
      "fibonacci Sequence 12 = [0, 1, 1, 2, 3, 5, 8, 13, 21, 34, 55, 89]\n",
      "fibonacci Sequence 13 = [0, 1, 1, 2, 3, 5, 8, 13, 21, 34, 55, 89, 144]\n",
      "fibonacci Sequence 14 = [0, 1, 1, 2, 3, 5, 8, 13, 21, 34, 55, 89, 144, 233]\n",
      "fibonacci Sequence 15 = [0, 1, 1, 2, 3, 5, 8, 13, 21, 34, 55, 89, 144, 233, 377]\n",
      "fibonacci Sequence 16 = [0, 1, 1, 2, 3, 5, 8, 13, 21, 34, 55, 89, 144, 233, 377, 610]\n",
      "fibonacci Sequence 17 = [0, 1, 1, 2, 3, 5, 8, 13, 21, 34, 55, 89, 144, 233, 377, 610, 987]\n",
      "fibonacci Sequence 18 = [0, 1, 1, 2, 3, 5, 8, 13, 21, 34, 55, 89, 144, 233, 377, 610, 987, 1597]\n",
      "fibonacci Sequence 19 = [0, 1, 1, 2, 3, 5, 8, 13, 21, 34, 55, 89, 144, 233, 377, 610, 987, 1597, 2584]\n",
      "fibonacci Sequence 20 = [0, 1, 1, 2, 3, 5, 8, 13, 21, 34, 55, 89, 144, 233, 377, 610, 987, 1597, 2584, 4181]\n"
     ]
    }
   ],
   "source": [
    "//Using For Loop\n",
    "public class FibonacciFor extends Fibo {\n",
    "\tpublic static void main(String[] args) \n",
    "\t{\n",
    "\t\t// Set it to the number of elements you want in the Fibonacci Series\n",
    "\t\t int tries = 10; \n",
    "\t\t int num1 = 0;\n",
    "\t\t int num2 = 1;\n",
    "\t\t \n",
    "\t        System.out.print(\"Fibonacci Series: \");\n",
    " \n",
    "\t        for (int i = 1; i <= tries; i++)  //looping through the numbers until i <= to 10\n",
    "\t        {\n",
    "\t            System.out.print(num1+\" \");\n",
    "\t            /* On each iteration, we are assigning second number\n",
    "\t             * to the first number and assigning the sum of last two\n",
    "\t             * numbers to the second number\n",
    "\t             */\n",
    " \n",
    "\t      \n",
    "\t            int total = num1 + num2; //Actual Fibo program, adding last and first number together\n",
    "\t            num1 = num2;\n",
    "\t            num2 = total;\n",
    "\t        }\n",
    "\t\t\t\tFibo fib = new FibonacciFor(); //Printing code from initial fibo \n",
    "\t\t\t\tfib.print();\n",
    "\t}\n",
    "\t\n",
    " \n",
    "}\n",
    "FibonacciFor.main(null);"
   ]
  },
  {
   "cell_type": "markdown",
   "metadata": {},
   "source": [
    "## Fibonacci in a While Loop Format\n",
    "\n",
    "We extended Fibo to create a while loop to loop through and create a fibonacci sequence. The while loop will keep looping as long as a certain boolean value is met."
   ]
  },
  {
   "cell_type": "code",
   "execution_count": 17,
   "metadata": {},
   "outputs": [
    {
     "name": "stdout",
     "output_type": "stream",
     "text": [
      "Fibonacci Series: 0 1 1 2 3 5 8 13 21 34 Init method = Stream\n",
      "fibonacci Number 20 = 4181\n",
      "fibonacci List = [0, 1, 1, 2, 3, 5, 8, 13, 21, 34, 55, 89, 144, 233, 377, 610, 987, 1597, 2584, 4181]\n",
      "fibonacci Hashmap = {0=[0], 1=[0, 1], 2=[0, 1, 1], 3=[0, 1, 1, 2], 4=[0, 1, 1, 2, 3], 5=[0, 1, 1, 2, 3, 5], 6=[0, 1, 1, 2, 3, 5, 8], 7=[0, 1, 1, 2, 3, 5, 8, 13], 8=[0, 1, 1, 2, 3, 5, 8, 13, 21], 9=[0, 1, 1, 2, 3, 5, 8, 13, 21, 34], 10=[0, 1, 1, 2, 3, 5, 8, 13, 21, 34, 55], 11=[0, 1, 1, 2, 3, 5, 8, 13, 21, 34, 55, 89], 12=[0, 1, 1, 2, 3, 5, 8, 13, 21, 34, 55, 89, 144], 13=[0, 1, 1, 2, 3, 5, 8, 13, 21, 34, 55, 89, 144, 233], 14=[0, 1, 1, 2, 3, 5, 8, 13, 21, 34, 55, 89, 144, 233, 377], 15=[0, 1, 1, 2, 3, 5, 8, 13, 21, 34, 55, 89, 144, 233, 377, 610], 16=[0, 1, 1, 2, 3, 5, 8, 13, 21, 34, 55, 89, 144, 233, 377, 610, 987], 17=[0, 1, 1, 2, 3, 5, 8, 13, 21, 34, 55, 89, 144, 233, 377, 610, 987, 1597], 18=[0, 1, 1, 2, 3, 5, 8, 13, 21, 34, 55, 89, 144, 233, 377, 610, 987, 1597, 2584], 19=[0, 1, 1, 2, 3, 5, 8, 13, 21, 34, 55, 89, 144, 233, 377, 610, 987, 1597, 2584, 4181]}\n",
      "fibonacci Sequence 1 = [0]\n",
      "fibonacci Sequence 2 = [0, 1]\n",
      "fibonacci Sequence 3 = [0, 1, 1]\n",
      "fibonacci Sequence 4 = [0, 1, 1, 2]\n",
      "fibonacci Sequence 5 = [0, 1, 1, 2, 3]\n",
      "fibonacci Sequence 6 = [0, 1, 1, 2, 3, 5]\n",
      "fibonacci Sequence 7 = [0, 1, 1, 2, 3, 5, 8]\n",
      "fibonacci Sequence 8 = [0, 1, 1, 2, 3, 5, 8, 13]\n",
      "fibonacci Sequence 9 = [0, 1, 1, 2, 3, 5, 8, 13, 21]\n",
      "fibonacci Sequence 10 = [0, 1, 1, 2, 3, 5, 8, 13, 21, 34]\n",
      "fibonacci Sequence 11 = [0, 1, 1, 2, 3, 5, 8, 13, 21, 34, 55]\n",
      "fibonacci Sequence 12 = [0, 1, 1, 2, 3, 5, 8, 13, 21, 34, 55, 89]\n",
      "fibonacci Sequence 13 = [0, 1, 1, 2, 3, 5, 8, 13, 21, 34, 55, 89, 144]\n",
      "fibonacci Sequence 14 = [0, 1, 1, 2, 3, 5, 8, 13, 21, 34, 55, 89, 144, 233]\n",
      "fibonacci Sequence 15 = [0, 1, 1, 2, 3, 5, 8, 13, 21, 34, 55, 89, 144, 233, 377]\n",
      "fibonacci Sequence 16 = [0, 1, 1, 2, 3, 5, 8, 13, 21, 34, 55, 89, 144, 233, 377, 610]\n",
      "fibonacci Sequence 17 = [0, 1, 1, 2, 3, 5, 8, 13, 21, 34, 55, 89, 144, 233, 377, 610, 987]\n",
      "fibonacci Sequence 18 = [0, 1, 1, 2, 3, 5, 8, 13, 21, 34, 55, 89, 144, 233, 377, 610, 987, 1597]\n",
      "fibonacci Sequence 19 = [0, 1, 1, 2, 3, 5, 8, 13, 21, 34, 55, 89, 144, 233, 377, 610, 987, 1597, 2584]\n",
      "fibonacci Sequence 20 = [0, 1, 1, 2, 3, 5, 8, 13, 21, 34, 55, 89, 144, 233, 377, 610, 987, 1597, 2584, 4181]\n"
     ]
    }
   ],
   "source": [
    "//Using  While Loop\n",
    "public class FibonacciWhile extends Fibo {\n",
    "    public static void main(String[] args) \n",
    "\t{\n",
    "\t\t int tries = 10;\n",
    "\t\t int num1 = 0;\n",
    "\t\t int num2 = 1;\n",
    "\t        System.out.print(\"Fibonacci Series: \"); //Initial line, basically saying number of numbers\n",
    " \n",
    "\t        int i=1;\n",
    "\t        while(i <= tries)\n",
    "\t        {\n",
    "\t            System.out.print(num1+\" \");\n",
    "\t            int total = num1 + num2;\n",
    "\t            num1 = num2;\n",
    "\t            num2 = total;\n",
    "\t            i++;\n",
    "\t        }\n",
    "\t\t\tFibo fib = new FibonacciWhile();\n",
    "\t\t\tfib.print();\n",
    "\t}\n",
    "}\n",
    "FibonacciWhile.main(null);"
   ]
  },
  {
   "cell_type": "markdown",
   "metadata": {},
   "source": [
    "## Fibonacci Series using Recursion\n",
    "\n",
    "After extending Fibo, we used recursion to loop through and create a fibonacci sequence. A recursion loop divides an overarching program into mini-programs that can be used to create some kind of output."
   ]
  },
  {
   "cell_type": "code",
   "execution_count": 19,
   "metadata": {},
   "outputs": [
    {
     "name": "stdout",
     "output_type": "stream",
     "text": [
      "Fibonacci Series of 10 numbers: 0 1 1 2 3 5 8 13 21 34 Init method = Stream\n",
      "fibonacci Number 20 = 4181\n",
      "fibonacci List = [0, 1, 1, 2, 3, 5, 8, 13, 21, 34, 55, 89, 144, 233, 377, 610, 987, 1597, 2584, 4181]\n",
      "fibonacci Hashmap = {0=[0], 1=[0, 1], 2=[0, 1, 1], 3=[0, 1, 1, 2], 4=[0, 1, 1, 2, 3], 5=[0, 1, 1, 2, 3, 5], 6=[0, 1, 1, 2, 3, 5, 8], 7=[0, 1, 1, 2, 3, 5, 8, 13], 8=[0, 1, 1, 2, 3, 5, 8, 13, 21], 9=[0, 1, 1, 2, 3, 5, 8, 13, 21, 34], 10=[0, 1, 1, 2, 3, 5, 8, 13, 21, 34, 55], 11=[0, 1, 1, 2, 3, 5, 8, 13, 21, 34, 55, 89], 12=[0, 1, 1, 2, 3, 5, 8, 13, 21, 34, 55, 89, 144], 13=[0, 1, 1, 2, 3, 5, 8, 13, 21, 34, 55, 89, 144, 233], 14=[0, 1, 1, 2, 3, 5, 8, 13, 21, 34, 55, 89, 144, 233, 377], 15=[0, 1, 1, 2, 3, 5, 8, 13, 21, 34, 55, 89, 144, 233, 377, 610], 16=[0, 1, 1, 2, 3, 5, 8, 13, 21, 34, 55, 89, 144, 233, 377, 610, 987], 17=[0, 1, 1, 2, 3, 5, 8, 13, 21, 34, 55, 89, 144, 233, 377, 610, 987, 1597], 18=[0, 1, 1, 2, 3, 5, 8, 13, 21, 34, 55, 89, 144, 233, 377, 610, 987, 1597, 2584], 19=[0, 1, 1, 2, 3, 5, 8, 13, 21, 34, 55, 89, 144, 233, 377, 610, 987, 1597, 2584, 4181]}\n",
      "fibonacci Sequence 1 = [0]\n",
      "fibonacci Sequence 2 = [0, 1]\n",
      "fibonacci Sequence 3 = [0, 1, 1]\n",
      "fibonacci Sequence 4 = [0, 1, 1, 2]\n",
      "fibonacci Sequence 5 = [0, 1, 1, 2, 3]\n",
      "fibonacci Sequence 6 = [0, 1, 1, 2, 3, 5]\n",
      "fibonacci Sequence 7 = [0, 1, 1, 2, 3, 5, 8]\n",
      "fibonacci Sequence 8 = [0, 1, 1, 2, 3, 5, 8, 13]\n",
      "fibonacci Sequence 9 = [0, 1, 1, 2, 3, 5, 8, 13, 21]\n",
      "fibonacci Sequence 10 = [0, 1, 1, 2, 3, 5, 8, 13, 21, 34]\n",
      "fibonacci Sequence 11 = [0, 1, 1, 2, 3, 5, 8, 13, 21, 34, 55]\n",
      "fibonacci Sequence 12 = [0, 1, 1, 2, 3, 5, 8, 13, 21, 34, 55, 89]\n",
      "fibonacci Sequence 13 = [0, 1, 1, 2, 3, 5, 8, 13, 21, 34, 55, 89, 144]\n",
      "fibonacci Sequence 14 = [0, 1, 1, 2, 3, 5, 8, 13, 21, 34, 55, 89, 144, 233]\n",
      "fibonacci Sequence 15 = [0, 1, 1, 2, 3, 5, 8, 13, 21, 34, 55, 89, 144, 233, 377]\n",
      "fibonacci Sequence 16 = [0, 1, 1, 2, 3, 5, 8, 13, 21, 34, 55, 89, 144, 233, 377, 610]\n",
      "fibonacci Sequence 17 = [0, 1, 1, 2, 3, 5, 8, 13, 21, 34, 55, 89, 144, 233, 377, 610, 987]\n",
      "fibonacci Sequence 18 = [0, 1, 1, 2, 3, 5, 8, 13, 21, 34, 55, 89, 144, 233, 377, 610, 987, 1597]\n",
      "fibonacci Sequence 19 = [0, 1, 1, 2, 3, 5, 8, 13, 21, 34, 55, 89, 144, 233, 377, 610, 987, 1597, 2584]\n",
      "fibonacci Sequence 20 = [0, 1, 1, 2, 3, 5, 8, 13, 21, 34, 55, 89, 144, 233, 377, 610, 987, 1597, 2584, 4181]\n"
     ]
    }
   ],
   "source": [
    "//Using Recursion\n",
    "public class FibonacciRecursion extends Fibo {\n",
    "    public static int fibonacciRecursion(int a){\n",
    "        if(a == 0){\n",
    "            return 0;\n",
    "        }\n",
    "        if(a == 1 ){\n",
    "                return 1;\n",
    "            }\n",
    "        if( a == 2){\n",
    "            return 1;\n",
    "        }\n",
    "        return fibonacciRecursion(a-2) + fibonacciRecursion(a-1);\n",
    "        }\n",
    "        public static void main(String args[]) {\n",
    "        int tries = 10;\n",
    "        System.out.print(\"Fibonacci Series of \"+tries+\" numbers: \");\n",
    "        for(int i = 0; i < tries; i++){\n",
    "                System.out.print(fibonacciRecursion(i) +\" \");\n",
    "            }\n",
    "        \n",
    "            Fibo fib = new FibonacciRecursion();\n",
    "            fib.print();\n",
    "        }\n",
    "}\n",
    "FibonacciRecursion.main(null);"
   ]
  },
  {
   "cell_type": "markdown",
   "metadata": {},
   "source": [
    "## Project Idea\n",
    "\n",
    "Site dedicated to helping Del Norte students manage their mental health better. "
   ]
  },
  {
   "cell_type": "code",
   "execution_count": 8,
   "metadata": {},
   "outputs": [
    {
     "name": "stdout",
     "output_type": "stream",
     "text": [
      "Welcome to Health.ly!\n"
     ]
    }
   ],
   "source": [
    "// Java program to print greeting\n",
    "class greet {\n",
    "\tpublic static void main(String[] args)\n",
    "\t{\n",
    "\n",
    "\t\tSystem.out.println(\"Welcome to Health.ly!\"); // line that we are printing\n",
    "\n",
    "\t}\n",
    "}\n",
    "greet.main(null); // calling the class to use"
   ]
  },
  {
   "cell_type": "markdown",
   "metadata": {},
   "source": [
    "## Meet our team!\n",
    "\n",
    "Using an array to print members of the team and their jobs on the team."
   ]
  },
  {
   "cell_type": "code",
   "execution_count": 9,
   "metadata": {},
   "outputs": [
    {
     "name": "stdout",
     "output_type": "stream",
     "text": [
      "[[Saumya, Scrum Leader], [Serafina, Deployment], [Armaan, Frontend], [Prisha, Backend]]\n"
     ]
    }
   ],
   "source": [
    "// Array with list of members and positions\n",
    "String[][] positions = {{\"Saumya\", \"Scrum Leader\"},{\"Serafina\", \"Deployment\"}, {\"Armaan\", \"Frontend\"}, {\"Prisha\", \"Backend\"}};\n",
    "\n",
    "// Printing out the array values side by side\n",
    "System.out.println(Arrays.deepToString(positions));"
   ]
  }
 ],
 "metadata": {
  "kernelspec": {
   "display_name": "Java",
   "language": "java",
   "name": "java"
  },
  "language_info": {
   "codemirror_mode": "java",
   "file_extension": ".jshell",
   "mimetype": "text/x-java-source",
   "name": "java",
   "pygments_lexer": "java",
   "version": "11.0.16+8-post-Ubuntu-0ubuntu120.04"
  },
  "orig_nbformat": 4,
  "vscode": {
   "interpreter": {
    "hash": "916dbcbb3f70747c44a77c7bcd40155683ae19c65e1c03b4aa3499c5328201f1"
   }
  }
 },
 "nbformat": 4,
 "nbformat_minor": 2
}
