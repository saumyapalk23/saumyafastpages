{
 "cells": [
  {
   "cell_type": "markdown",
   "metadata": {},
   "source": [
    "#  REFLECTION OF FINAL Exercise\n",
    "- toc: true \n",
    "- badges: true\n",
    "- comments: true\n",
    "- categories: [jupyter]"
   ]
  },
  {
   "cell_type": "markdown",
   "metadata": {},
   "source": [
    "Reflection: I did not get  great score. I think this is because of poor planning and studying methods, and I didn't take the final until late at night, which hindered my ability to get a great score. I also think that I didn't study enough and did not put enough time into getting the content. I think will do test corrections moving forward to ensure a better score and I hope to do better than my first attempt.\n",
    "My most missed type of question were ones with arrays, where they gave me a segment of code and asked me to analyze it to answer a question.\n",
    "An example could me number 31, where the answer isn't the \"nothing is printed because an ArrayIndexOutOfBoundsException is thrown during the execution of method mystery\", but the answer is: \n",
    "Incorrect. Since the loop terminates when k is data.length – 1 no ArrayIndexOutOfBoundsException is thrown. The values of k that cause the loop to execute are 0, 1, 2 and 3. Since k + 1 is also used as an index in the loop body, indices 0, 1, 2, 3 and 4 are accessed, all of which are valid indices in data.\n"
   ]
  }
 ],
 "metadata": {
  "kernelspec": {
   "display_name": "Python 3.8.10 64-bit",
   "language": "python",
   "name": "python3"
  },
  "language_info": {
   "name": "python",
   "version": "3.8.10"
  },
  "orig_nbformat": 4,
  "vscode": {
   "interpreter": {
    "hash": "916dbcbb3f70747c44a77c7bcd40155683ae19c65e1c03b4aa3499c5328201f1"
   }
  }
 },
 "nbformat": 4,
 "nbformat_minor": 2
}
