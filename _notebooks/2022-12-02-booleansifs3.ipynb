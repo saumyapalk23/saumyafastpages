{
 "cells": [
  {
   "cell_type": "markdown",
   "metadata": {},
   "source": [
    "#  Vocab/Booleans\n",
    "> Homework Assignments\n",
    "- toc: true \n",
    "- badges: true\n",
    "- comments: true\n",
    "- categories: [jupyter]"
   ]
  },
  {
   "cell_type": "markdown",
   "metadata": {},
   "source": [
    "## Compound Boolean Expressions\n"
   ]
  },
  {
   "cell_type": "markdown",
   "metadata": {},
   "source": [
    "- test two things to be true before body of conditional is executed\n",
    "- '&&' used as logical operator and to join 2 booleans"
   ]
  },
  {
   "cell_type": "code",
   "execution_count": null,
   "metadata": {},
   "outputs": [],
   "source": [
    "//ex\n",
    "//want to play video games, but parents only let you if you've finished your homework and taken a shower\n",
    "\n",
    "public class compoundBooleans\n",
    "{\n",
    "   public static void main(String[] args)\n",
    "   {\n",
    "     boolean didHomework = true;\n",
    "     boolean tookShower = false;\n",
    "     if (tookShower && didHomework)\n",
    "     {\n",
    "         System.out.println(\"You can play\");\n",
    "     }\n",
    "     else\n",
    "     {\n",
    "         System.out.println(\"No, you can't play\");\n",
    "     }\n",
    "   }\n",
    "}\n",
    "\n"
   ]
  },
  {
   "cell_type": "markdown",
   "metadata": {},
   "source": [
    "## Truth Tables and De Morgan's Law\n",
    "- simplification of booleans through truth tables\n",
    "- organized way to define a boolean function\n",
    "- De Morgan's law: De Morgan's first law states that the complement of the union of two sets A and B is equal to the intersection of the complement of the sets A and B.\n",
    "\n",
    "![q5](images/pq.png)\n",
    "![q5](images/truthtble.png)\n",
    "\n",
    "\n"
   ]
  },
  {
   "cell_type": "code",
   "execution_count": null,
   "metadata": {},
   "outputs": [],
   "source": [
    "//demorgans law\n",
    "//has to be back home before 10, and has to walk the dog \n",
    "\n",
    "public class demorgans\n",
    "{\n",
    "   public static void main(String[] args)\n",
    "   {\n",
    "     boolean backby10 = true;\n",
    "     boolean walkedDog = false;\n",
    "     if (!(backby10 && walkedDog))\n",
    "     //means not A OR not B\n",
    "     {\n",
    "         System.out.println(\"True. You were back by 10 but didn't walk the dog\");\n",
    "     }\n",
    "     else\n",
    "     {\n",
    "         System.out.println(\"You were back in time and walked the dog\");\n",
    "     }}}\n"
   ]
  },
  {
   "cell_type": "code",
   "execution_count": null,
   "metadata": {},
   "outputs": [],
   "source": [
    "public class demorgans\n",
    "{\n",
    "   public static void main(String[] args)\n",
    "   {\n",
    "     boolean backby10 = true;\n",
    "     boolean walkedDog = false;\n",
    "\n",
    "    if (!(backby10 || walkedDog))\n",
    "//means not A AND not B\n",
    "{ \n",
    "System.out.println(\"False. You were back by 10 but didn't walk the dog\");\n",
    "}\n",
    "else\n",
    "{\n",
    " System.out.println(\"You were back in time and walked the dog\");\n",
    "\n",
    "\n",
    "}\n",
    "}\n",
    "}\n"
   ]
  },
  {
   "cell_type": "markdown",
   "metadata": {},
   "source": [
    "## Comparing Numbers\n",
    "- use == or compareTo() method\n"
   ]
  },
  {
   "cell_type": "code",
   "execution_count": null,
   "metadata": {},
   "outputs": [
    {
     "name": "stdout",
     "output_type": "stream",
     "text": [
      "x and y are not equal\n"
     ]
    }
   ],
   "source": [
    "//comparing numbers\n",
    "public class wrappers\n",
    "{\n",
    "   public static void main(String[] args)\n",
    "{}}\n",
    "\n",
    "    int x = 10;\n",
    "    int y = 14;\n",
    "    if(x==(y)) {\n",
    "        System.out.println(\"Both x and y are equal\");\n",
    "}else {\n",
    "        System.out.println(\"x and y are not equal\");\n",
    "}\n"
   ]
  },
  {
   "cell_type": "code",
   "execution_count": null,
   "metadata": {},
   "outputs": [
    {
     "name": "stdout",
     "output_type": "stream",
     "text": [
      "-1\n",
      "1\n"
     ]
    }
   ],
   "source": [
    "public class wrappers\n",
    "{\n",
    "   public static void main(String[] args)\n",
    "{}}\n",
    "\n",
    "// int x = 10;\n",
    "// System.out.println(x.toString()); ------ doesn't work because x is a primitive data type, not a modifiable object\n",
    "Integer x = new Integer(10);\n",
    "//to get around this, you define an integer wrapper class\n",
    "System.out.println(x.compareTo(15));\n",
    "//x is now an object, not a primitive data type\n",
    "System.out.println(x.compareTo(5));\n",
    "//-1 is b/c 10 is less than 15\n",
    "//1 is because 5 is less than 10\n"
   ]
  },
  {
   "cell_type": "code",
   "execution_count": null,
   "metadata": {},
   "outputs": [
    {
     "name": "stdout",
     "output_type": "stream",
     "text": [
      "x is greater than y\n"
     ]
    }
   ],
   "source": [
    "int xy = 83;\n",
    "int yz = 20;\n",
    "\n",
    "int compare = Integer.compare(xy, yz);\n",
    "\n",
    "if(compare>0) {\n",
    "    System.out.println(\"xy is greater than yz\");\n",
    "}else if (compare<0){\n",
    "    System.out.println(\"xy is less than yz\");\n",
    "}else{\n",
    "     System.out.println(\"xy and yz are equal\");\n",
    "}"
   ]
  },
  {
   "cell_type": "markdown",
   "metadata": {},
   "source": [
    "## Comparing Strings\n",
    "- use .equals() or ==\n",
    "- equals() used to check if 2 strings contain the same content"
   ]
  },
  {
   "cell_type": "code",
   "execution_count": null,
   "metadata": {},
   "outputs": [
    {
     "name": "stdout",
     "output_type": "stream",
     "text": [
      "true\n",
      "false\n",
      "true\n",
      "false\n"
     ]
    }
   ],
   "source": [
    "class comparingStrings{ \n",
    "\n",
    "    public static void main(String args[]){  \n",
    "    }  \n",
    "   }  \n",
    "   String s1=\"hello\";  \n",
    "   String s2=\"goodbye\";  \n",
    "   String s3=new String(\"hello\");  \n",
    "   String s4=\"you're a good friend\"; \n",
    "   String s5=\"goodbye\";\n",
    "\n",
    "   if (s2 == s5){\n",
    "    System.out.println(\"true\");\n",
    "   }\n",
    "   System.out.println(s1.equals(s2));  \n",
    "   System.out.println(s1.equals(s3));  \n",
    "   System.out.println(s1.equals(s4));  \n"
   ]
  },
  {
   "cell_type": "markdown",
   "metadata": {},
   "source": [
    "# HOMEWORK\n",
    "\n"
   ]
  },
  {
   "cell_type": "code",
   "execution_count": null,
   "metadata": {},
   "outputs": [],
   "source": [
    "//UNIT 3\n",
    "//2009 3b\n",
    "public int getChargeStartTime(int chargeTime)\n",
    "{\n",
    "  int lowestPrice = 0;\n",
    "  for(int i = 1; i < rateTable.length; i++)\n",
    "    if(getChargingCost(startHour, chargeTime) <\n",
    "          getChargingCost(i, chargeTime))\n",
    "      i = startHour;\n",
    "  return i;\n",
    "}\n",
    "//2017 1b\n",
    "    public boolean isStrictlyIncreasing() {\n",
    "        boolean increase = true;\n",
    "        for (int i = 0; i < digitList.size() - 1; i++) {\n",
    "            if (digitList.get(i).intValue() >= digitList.get(i + 1).intValue()) {\n",
    "                increase = false;\n",
    "        return true;\n",
    "    }\n",
    "//2019 3b\n",
    "public boolean isBalanced(ArrayList<String> delimiters) {\n",
    "    int openDels = 0;\n",
    "    int closeDels = 0;\n",
    "    for (String del : delimiters) {\n",
    "        if (del.equals(openDels)) {\n",
    "            openDels++;\n",
    "        } else {\n",
    "            closeDels++;\n",
    "        if (closeDels > openDels) {\n",
    "            return false;\n",
    "        }\n",
    "    }\n",
    "    return openDels == closeDels;\n",
    "}\n"
   ]
  }
 ],
 "metadata": {
  "kernelspec": {
   "display_name": "Java",
   "language": "java",
   "name": "java"
  },
  "language_info": {
   "name": "java",
   "version": "3.8.10"
  },
  "orig_nbformat": 4,
  "vscode": {
   "interpreter": {
    "hash": "916dbcbb3f70747c44a77c7bcd40155683ae19c65e1c03b4aa3499c5328201f1"
   }
  }
 },
 "nbformat": 4,
 "nbformat_minor": 2
}
