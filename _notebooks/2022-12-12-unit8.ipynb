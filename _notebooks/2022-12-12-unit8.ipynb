{
 "cells": [
  {
   "cell_type": "code",
   "execution_count": 110,
   "metadata": {
    "vscode": {
     "languageId": "java"
    }
   },
   "outputs": [],
   "source": [
    "// package com.nighthawk.spring_portfolio.mvc.lightboard;\n",
    "\n",
    "// import lombok.Data;\n",
    "import java.lang.Math;\n",
    "\n",
    "// @Data  // Annotations to simplify writing code (ie constructors, setters)\n",
    "public class LightBoard {\n",
    "    // private Light[][] lights;\n",
    "\n",
    "    private boolean [][] lights;\n",
    "\n",
    "    //part a\n",
    "    /* Initialize LightBoard and Lights */\n",
    "    public LightBoard(int numRows, int numCols) {\n",
    "        lights = new boolean [numRows][numCols];   \n",
    "         // 2D array nested loops, used for initialization\n",
    "        for (int r = 0; r < lights.length; r++) {\n",
    "            for (int c = 0; c < lights[r].length; c++) {\n",
    "                if (Math.random() <0.4){\n",
    "                    lights[r][c]=true; \n",
    "                }\n",
    "                else{\n",
    "                    lights[r][c]=false;\n",
    "                }\n",
    "            }\n",
    "        }\n",
    "    }\n",
    "}\n",
    "  \n",
    "    public boolean evaluateLight(int row, int col)\n",
    "    {\n",
    "        //check light is turned on\n",
    "        int lightOn =0;\n",
    "        \n",
    "        if (lights[row][col]==true)\n",
    "            for(int r=0; r<lights.length;r++)\n",
    "            {\n",
    "                if(lights[r][col]==true)\n",
    "                {\n",
    "                    lightOn++;\n",
    "                }\n",
    "            }\n",
    "            if (lightOn % 2 == 0){\n",
    "                if(lights[row][col]==0){\n",
    "                    return false;\n",
    "                }            \n",
    "            }\n",
    "            else{\n",
    "                return true;\n",
    "        }\n",
    "\n",
    "        if (lightOn % 3 == 0) {\n",
    "            return true;\n",
    "        }\n",
    "        else {\n",
    "            return false;\n",
    "        }\n",
    "    // return lights[row][col];\n",
    "    \n",
    "}\n",
    "//off for false\n",
    "        // create and display LightBoard\n"
   ]
  }
 ],
 "metadata": {
  "kernelspec": {
   "display_name": "Java",
   "language": "java",
   "name": "java"
  },
  "language_info": {
   "codemirror_mode": "java",
   "file_extension": ".jshell",
   "mimetype": "text/x-java-source",
   "name": "Java",
   "pygments_lexer": "java",
   "version": "11.0.16+8-post-Ubuntu-0ubuntu120.04"
  },
  "orig_nbformat": 4
 },
 "nbformat": 4,
 "nbformat_minor": 2
}
