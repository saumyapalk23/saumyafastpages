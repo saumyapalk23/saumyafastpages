{
 "cells": [
  {
   "attachments": {},
   "cell_type": "markdown",
   "metadata": {},
   "source": [
    "#  frq4\n",
    "> frq4\n",
    "- toc: true \n",
    "- badges: true\n",
    "- comments: true\n",
    "- categories: [jupyter]"
   ]
  },
  {
   "cell_type": "code",
   "execution_count": 36,
   "metadata": {
    "vscode": {
     "languageId": "java"
    }
   },
   "outputs": [],
   "source": [
    "// package com.nighthawk.spring_portfolio.mvc.lightboard;\n",
    "\n",
    "// import lombok.Data;\n",
    "import java.lang.Math;\n",
    "\n",
    "// @Data  // Annotations to simplify writing code (ie constructors, setters)\n",
    "public class LightBoard {\n",
    "    // private Light[][] lights;\n",
    "\n",
    "    private boolean [][] lights;\n",
    "\n",
    "    //part a\n",
    "    /* Initialize LightBoard and Lights */\n",
    "    public LightBoard(int numRows, int numCols) {\n",
    "        lights = new boolean [numRows][numCols];   \n",
    "         // 2D array nested loops, used for initialization\n",
    "        for (int r = 0; r < lights.length; r++) {\n",
    "            for (int c = 0; c < lights[r].length; c++) {\n",
    "                if (Math.random() <0.4){\n",
    "                    lights[r][c]=true; \n",
    "                }\n",
    "                else{\n",
    "                    lights[r][c]=false;\n",
    "                }\n",
    "            }\n",
    "        }\n",
    "    }\n",
    "}\n",
    "  \n",
    "    public boolean evaluateLight(int row, int col)\n",
    "    {\n",
    "        //check light is turned on\n",
    "        int lightOn =0;\n",
    "        \n",
    "        if (lights[row][col]==true)\n",
    "            for(int r=0; r<lights.length;r++)\n",
    "            {\n",
    "                if(lights[r][col]==true)\n",
    "                {\n",
    "                    lightOn++;\n",
    "                }\n",
    "            }\n",
    "            if (lightOn % 2 == 0){\n",
    "                if(lights[row][col]==0){\n",
    "                    return false;\n",
    "                }            \n",
    "            }\n",
    "            else{\n",
    "                return true;\n",
    "        }\n",
    "\n",
    "        if (lightOn % 3 == 0) {\n",
    "            return true;\n",
    "        }\n",
    "        else {\n",
    "            return false;\n",
    "        }\n",
    "    // return lights[row][col];\n",
    "    \n",
    "}\n",
    "//off for false\n",
    "        // create and display LightBoard\n",
    "\n",
    "public void tester()\n",
    "{\n",
    "lights[0][0]=true; lights[0][1]=true; lights[0][2]=false;lights[0][3]=true; lights[0][4]=true;\n",
    "lights[1][0]=true; lights[1][1]=false;lights[1][2]=false;lights[1][3]=true; lights[1][4]=false;\n",
    "lights[2][0]=true; lights[2][1]=false;lights[2][2]=false;lights[2][3]=true; lights[2][4]=true;\n",
    "lights[3][0]=true; lights[3][1]=false;lights[3][2]=false;lights[3][3]=false;lights[3][4]=true;\n",
    "lights[4][0]=true; lights[4][1]=false;lights[4][2]=false;lights[4][3]=false;lights[4][4]=true;\n",
    "lights[5][0]=true; lights[5][1]=true; lights[5][2]=false;lights[5][3]=true; lights[5][4]=true;\n",
    "lights[6][0]=false;lights[6][1]=false;lights[6][2]=false;lights[6][3]=false;lights[6][4]=false;\n",
    "}\n"
   ]
  },
  {
   "cell_type": "code",
   "execution_count": 43,
   "metadata": {
    "vscode": {
     "languageId": "java"
    }
   },
   "outputs": [
    {
     "name": "stdout",
     "output_type": "stream",
     "text": [
      "true\n",
      "true\n",
      "false\n"
     ]
    }
   ],
   "source": [
    "LightBoard lightboard = new LightBoard(5, 5);\n",
    "System.out.println(lightboard.evaluateLight(0,1));\n",
    "System.out.println(lightboard.evaluateLight(3,1));\n",
    "System.out.println(lightboard.evaluateLight(0,2));\n"
   ]
  }
 ],
 "metadata": {
  "kernelspec": {
   "display_name": "Java",
   "language": "java",
   "name": "java"
  },
  "language_info": {
   "codemirror_mode": "java",
   "file_extension": ".jshell",
   "mimetype": "text/x-java-source",
   "name": "Java",
   "pygments_lexer": "java",
   "version": "11.0.16+8-post-Ubuntu-0ubuntu120.04"
  },
  "orig_nbformat": 4
 },
 "nbformat": 4,
 "nbformat_minor": 2
}
