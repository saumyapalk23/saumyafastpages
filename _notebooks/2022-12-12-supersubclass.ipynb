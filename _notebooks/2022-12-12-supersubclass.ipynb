{
 "cells": [
  {
   "attachments": {},
   "cell_type": "markdown",
   "metadata": {},
   "source": [
    "#  Unit 9 HW\n",
    "> inheritance HW\n",
    "- toc: true \n",
    "- badges: true\n",
    "- comments: true\n",
    "- categories: [jupyter]"
   ]
  },
  {
   "cell_type": "code",
   "execution_count": 11,
   "metadata": {
    "vscode": {
     "languageId": "java"
    }
   },
   "outputs": [],
   "source": [
    "public class ihopetheteamurrootingforloseshahahalolsukcsgetrekt{\n",
    "    private String game;\n",
    "    private String team1;\n",
    "\n",
    "    public void action() {\n",
    "        System.out.println(\"Basketball\");\n",
    "    }\n",
    "    \n",
    "    public ihopetheteamurrootingforloseshahahalolsukcsgetrekt (String game, String team1){\n",
    "        this.game = game;\n",
    "        this.team1=team1;\n",
    "    }\n",
    "    public String getTeam1(){\n",
    "        return team1;\n",
    "}\n",
    "\n",
    "public class WorldCup extends ihopetheteamurrootingforloseshahahalolsukcsgetrekt{\n",
    "    private int score;\n",
    "    \n",
    "    public WorldCup(String game, String team1, int score){\n",
    "        super(game, team1);\n",
    "        this.score=score;\n",
    "    }\n",
    "    public int getScore(){\n",
    "        return score;\n",
    "    }\n",
    "}\n",
    "//variables: dbl time, dbl speed, String location\n",
    "public class team2 extends ihopetheteamurrootingforloseshahahalolsukcsgetrekt{\n",
    "    public void action() {\n",
    "        System.out.println(\"Basketball\");\n",
    "    }\n",
    "\n",
    "\n",
    "\n",
    "}"
   ]
  }
 ],
 "metadata": {
  "kernelspec": {
   "display_name": "Java",
   "language": "java",
   "name": "java"
  },
  "language_info": {
   "codemirror_mode": "java",
   "file_extension": ".jshell",
   "mimetype": "text/x-java-source",
   "name": "Java",
   "pygments_lexer": "java",
   "version": "11.0.16+8-post-Ubuntu-0ubuntu120.04"
  },
  "orig_nbformat": 4
 },
 "nbformat": 4,
 "nbformat_minor": 2
}
