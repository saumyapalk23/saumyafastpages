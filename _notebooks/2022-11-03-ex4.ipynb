{
 "cells": [
  {
   "cell_type": "markdown",
   "metadata": {},
   "source": [
    "#  Words Reverse Exercise\n",
    "> Additional Exercises\n",
    "- toc: true \n",
    "- badges: true\n",
    "- comments: true\n",
    "- categories: [jupyter]\n",
    "- image: "
   ]
  },
  {
   "cell_type": "code",
   "execution_count": 23,
   "metadata": {},
   "outputs": [],
   "source": [
    "// # October 29, 2022\n",
    "\n",
    "//Exercise 1: \n",
    "//Write a program to reverse the words in a sentence\n",
    "//example: the strawberry cake\n",
    "//becomes: cake strawberry the\n",
    "\n",
    "//hints: use scanner to take in words\n",
    "//use split to break apart words to reverse them\n",
    "//when ready, or want to go over type in chat/tell me\n",
    "\n",
    "import java.util.*; //import scanner\n",
    "public class Main {\n",
    "  public static String reverse_str_order(String input_sentence) {\n",
    "    if (input_sentence == null) {\n",
    "      throw new IllegalArgumentException(\"Null\"); //no empty strings\n",
    "    }\n",
    "    StringBuilder stringBuilder = new StringBuilder();\n",
    "    String[] words = input_sentence.split(\" \");\n",
    "    for (int i = words.length - 1; i >= 0; i--) {\n",
    "      stringBuilder.append(words[i]); //place words in order\n",
    "      if (i != 0) { //keep going until no more words are left\n",
    "        stringBuilder.append(\" \");\n",
    "      }\n",
    "    }\n",
    "    return stringBuilder.toString();\n",
    "  }\n",
    "}\n",
    "public static void main(String[] args) { //prepares for scanning\n",
    "  Scanner scanner = new Scanner(System.in);\n",
    "  System.out.print(\"Input string: \"); //asks for user input\n",
    "  String input = scanner.nextLine(); //takes in next line\n",
    "  System.out.println(\"\\nResult: \" + reverse_str_word(input));\n",
    "}\n",
    "\n"
   ]
  }
 ],
 "metadata": {
  "kernelspec": {
   "display_name": "Java",
   "language": "java",
   "name": "java"
  },
  "language_info": {
   "codemirror_mode": "java",
   "file_extension": ".jshell",
   "mimetype": "text/x-java-source",
   "name": "java",
   "pygments_lexer": "java",
   "version": "11.0.16+8-post-Ubuntu-0ubuntu120.04"
  },
  "orig_nbformat": 4,
  "vscode": {
   "interpreter": {
    "hash": "916dbcbb3f70747c44a77c7bcd40155683ae19c65e1c03b4aa3499c5328201f1"
   }
  }
 },
 "nbformat": 4,
 "nbformat_minor": 2
}
