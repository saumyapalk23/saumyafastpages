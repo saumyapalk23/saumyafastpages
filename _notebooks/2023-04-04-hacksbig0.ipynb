{
 "cells": [
  {
   "attachments": {},
   "cell_type": "markdown",
   "metadata": {},
   "source": [
    "#  Big O Notation\n",
    "> Sorts, Time/Space Complexity, and Big O Exploration\n",
    "- toc: true \n",
    "- badges: true\n",
    "- comments: true\n",
    "- categories: [jupyter]"
   ]
  },
  {
   "attachments": {},
   "cell_type": "markdown",
   "metadata": {},
   "source": [
    "## Big O Notation for Respective Sorts\n",
    "\n",
    "Merge Sort:\n",
    "- Time Complexity: O(n log n)\n",
    "- Number of Comparisons: O(n log n)\n",
    "- Number of Swaps: O(n log n)\n",
    "\n",
    "Insertion Sort:\n",
    "- Time Complexity: O(n^2)\n",
    "- Number of Comparisons: O(n^2)\n",
    "- Number of Swaps: O(n^2)\n",
    "\n",
    "Bubble Sort:\n",
    "- Time Complexity: O(n^2)\n",
    "- Number of Comparisons: O(n^2)\n",
    "- Number of Swaps: O(n^2)\n",
    "\n",
    "Selection Sort:\n",
    "- Time Complexity: O(n^2)\n",
    "- Number of Comparisons: O(n^2)\n",
    "- Number of Swaps: O(n)\n"
   ]
  },
  {
   "attachments": {},
   "cell_type": "markdown",
   "metadata": {},
   "source": [
    "## Notes Taken from a Video\n",
    "\n",
    "- simplified analysis of an algorithm's efficiency\n",
    "- complexity in terms of input size (N)\n",
    "- analyses both time and space\n",
    "- worst, best, or average-case\n",
    "\n",
    "- ignores constants\n",
    " > 5n --> O(n) \n",
    "- certain terms dominate others\n",
    "\n"
   ]
  },
  {
   "attachments": {},
   "cell_type": "markdown",
   "metadata": {},
   "source": [
    "### constant time\n",
    "> x = 5 + (15*20);\n",
    "- ^ is independent of input size N\n",
    "- O(1) -- constant time"
   ]
  },
  {
   "cell_type": "code",
   "execution_count": null,
   "metadata": {},
   "outputs": [],
   "source": [
    "x = 5 + (15*20);\n",
    "    y = 15-2;\n",
    "        print x + y;"
   ]
  },
  {
   "attachments": {},
   "cell_type": "markdown",
   "metadata": {},
   "source": [
    "- ^all are constant time, so total time is \n",
    "- O(1) + O(1) + O(1) = 3*O(1)\n",
    "- but we drop constants --> O(1)\n",
    "\n",
    "### linear time\n"
   ]
  },
  {
   "cell_type": "code",
   "execution_count": null,
   "metadata": {},
   "outputs": [],
   "source": [
    "for x in range (0, n);\n",
    "    print x; "
   ]
  },
  {
   "attachments": {},
   "cell_type": "markdown",
   "metadata": {},
   "source": [
    "- 2nd statement is O(1)\n",
    "- so block of code is N*O(1)\n",
    "- in other words O(N)"
   ]
  },
  {
   "cell_type": "code",
   "execution_count": null,
   "metadata": {},
   "outputs": [],
   "source": [
    "y = 5+(15*20);\n",
    "    for x in range(0,n):\n",
    "    print x;"
   ]
  },
  {
   "attachments": {},
   "cell_type": "markdown",
   "metadata": {},
   "source": [
    "- first line is O(1)\n",
    "- for loop is O(N)\n",
    "- total time = O(1) + O(N) --> O(N)\n",
    "- but we drop low order terms; so it's just O(N)\n",
    "- as 'N' gets larger, the time it takes to compute y is meaningless\n",
    "\n",
    "### quadratic time"
   ]
  },
  {
   "cell_type": "code",
   "execution_count": null,
   "metadata": {},
   "outputs": [],
   "source": [
    "for x in range (0,n):\n",
    "    for y in range (0,n):\n",
    "        print x * y;"
   ]
  },
  {
   "attachments": {},
   "cell_type": "markdown",
   "metadata": {},
   "source": [
    "- print statement is N * N --> O(N^2)"
   ]
  },
  {
   "cell_type": "code",
   "execution_count": null,
   "metadata": {},
   "outputs": [],
   "source": [
    "//practice\n",
    "x = 5 + (15*20); --> O(1)\n",
    "    for x in range(0,n): --> O(N)\n",
    "        print x; O(1)+O(N) --> O(N)\n",
    "for x in range(0,n): --> O(N)\n",
    "    for y in range(0,n): --> O(N)\n",
    "        print x * y --> O(N^2)"
   ]
  },
  {
   "attachments": {},
   "cell_type": "markdown",
   "metadata": {},
   "source": [
    "- What is the biggest? O(N^2), so it dominates."
   ]
  },
  {
   "cell_type": "code",
   "execution_count": null,
   "metadata": {},
   "outputs": [],
   "source": [
    "if x > O: --> O(1)\n",
    "else if x < 0: --> O(logn)\n",
    "else: --> O(N^2)"
   ]
  },
  {
   "attachments": {},
   "cell_type": "markdown",
   "metadata": {},
   "source": [
    "- choose the largest runtime; O(N^2), b/c we look at the worst case scenario"
   ]
  },
  {
   "attachments": {},
   "cell_type": "markdown",
   "metadata": {},
   "source": [
    "## Merge Sort"
   ]
  },
  {
   "attachments": {},
   "cell_type": "markdown",
   "metadata": {},
   "source": [
    "- merge sort is a stable, recursive sorting algorithm\n",
    "- breaks problems into subproblems (divide/conquer)\n",
    "- reduces itself, keeps relative order (stable)\n",
    "- array is divided into sub lists, creating entirely new arrays\n",
    "- - extra space is proportional to size of the list\n",
    "- space complexity: O(N)\n",
    "- - space consumption is proportional to # of elements in list\n",
    "- time complexity: O(nlogn)\n",
    "\n",
    "\n",
    "- Merge sort: a sorting algorithm in which an array is divided and each half of the array is sorted and later merged into one array\n",
    "- Another type of sort used on the AP Exam\n",
    "- More complex\n",
    "- Uses recursion (the technique that uses a method to call itself, more on recursion in Chapter 12)\n",
    "- It’s like a divide-and-conquer "
   ]
  },
  {
   "cell_type": "code",
   "execution_count": 31,
   "metadata": {},
   "outputs": [
    {
     "name": "stdout",
     "output_type": "stream",
     "text": [
      "Average random: 49975\n",
      "Total Seconds: 0.0223919\n"
     ]
    }
   ],
   "source": [
    "public class MergeSort {\n",
    "    public static void mergeSort(int[] x) {\n",
    "        int[] temp = new int[x.length];\n",
    "        mergeSortHelper(x, 0, x.length - 1, temp);\n",
    "    }\n",
    "\n",
    "    public static void mergeSortHelper(int[] x, int lowIndex, int highIndex, int[] temp) {\n",
    "        if (lowIndex < highIndex) {\n",
    "            int mid = (lowIndex + highIndex) / 2;\n",
    "            mergeSortHelper(x, lowIndex, mid, temp);\n",
    "            mergeSortHelper(x, mid + 1, highIndex, temp);\n",
    "            merge(x, lowIndex, mid, highIndex, temp);\n",
    "        }\n",
    "    }\n",
    "\n",
    "    public static void merge(int[] x, int lowIndex, int mid, int highIndex, int[] temp) {\n",
    "        int l = lowIndex;\n",
    "        int m = mid + 1;\n",
    "        int n = lowIndex;\n",
    "\n",
    "        while (l <= mid && m <= highIndex) {\n",
    "            if (x[l] < x[m]) {\n",
    "                temp[n] = x[l];\n",
    "                l++;\n",
    "            } else {\n",
    "                temp[n] = x[m];\n",
    "                m++;\n",
    "            }\n",
    "            n++;\n",
    "        }\n",
    "\n",
    "        while (l <= mid) {\n",
    "            temp[n] = x[l];\n",
    "            l++;\n",
    "            n++;\n",
    "        }\n",
    "\n",
    "        while (m <= highIndex) {\n",
    "            temp[n] = x[m];\n",
    "            m++;\n",
    "            n++;\n",
    "        }\n",
    "\n",
    "        for (n = lowIndex; n <= highIndex; n++) {\n",
    "            x[n] = temp[n];\n",
    "        }\n",
    "    }\n",
    "\n",
    "    public static void main(String[] args) {\n",
    "        final int TIMES = 12;\n",
    "        final int SIZE = 5000;\n",
    "        double sum = 0;\n",
    "        double time = 0;\n",
    "\n",
    "        for (int i = 0; i < TIMES; i++) {\n",
    "            int[] data = new int[SIZE];\n",
    "            for (int j = 0; j < data.length; j++) {\n",
    "                data[j] = (int) (Math.random() * 100000);\n",
    "            }\n",
    "            double startTime = System.nanoTime();\n",
    "            mergeSort(data);\n",
    "            double endTime = System.nanoTime();\n",
    "            sum += getSum(data);\n",
    "            time += endTime - startTime;\n",
    "        }\n",
    "        System.out.println(\"Average: \" + sum / (TIMES * SIZE));\n",
    "        System.out.println(\"Total Seconds: \" + time / 1000000000.0);\n",
    "    }\n",
    "\n",
    "    public static double getSum(int[] data) {\n",
    "        double sum = 0;\n",
    "        for (int i = 0; i < data.length; i++) {\n",
    "            sum += data[i];\n",
    "        }\n",
    "        return sum;\n",
    "    }\n",
    "}\n",
    "\n",
    "MergeSort.main(null);"
   ]
  },
  {
   "attachments": {},
   "cell_type": "markdown",
   "metadata": {},
   "source": [
    "System.nanoTime() is typically used for measuring elapsed time with high precision, as it has a resolution of nanoseconds. It is useful for measuring the duration of short tasks or for measuring the performance of small code snippets, such as in the given code snippet where it is used to measure the execution time of the mergeSort method for an array of size 5000.\n"
   ]
  },
  {
   "attachments": {},
   "cell_type": "markdown",
   "metadata": {},
   "source": [
    "## Insertion Sort"
   ]
  },
  {
   "attachments": {},
   "cell_type": "markdown",
   "metadata": {},
   "source": [
    "- worst-case time complexity of Insertion Sort is O(n^2)\n",
    "- where n is the number of elements in the array\n",
    "- the number of operations required to sort the array increases quadratically as the size of the array increases\n",
    "\n",
    "Insertion sort: a sorting algorithm in which smaller elements are inserted before larger elements\n",
    "- A little less intuitive\n",
    "- Compares first two elements\n",
    "- Depending on comparison, inserts the second value ‘in front’ of the first value into index 0, moving first value into index 1\n",
    "- First two are sorted\n",
    "- Third element is checked, inserting continues\n",
    "- Note: just like in selection sort, an already-sorted element remains in its current position\n"
   ]
  },
  {
   "cell_type": "code",
   "execution_count": 42,
   "metadata": {},
   "outputs": [
    {
     "name": "stdout",
     "output_type": "stream",
     "text": [
      "Average random: 2501.467166666667\n",
      "Total Seconds: 0.0720062\n"
     ]
    }
   ],
   "source": [
    "public class InsertionSort {\n",
    "    public static void insertionSort(int[] x) {\n",
    "        for (int i = 1; i < x.length; i++) {\n",
    "            int temp = x[i];\n",
    "            int j = i - 1;\n",
    "            while (j >= 0 && x[j] > temp) {\n",
    "                x[j + 1] = x[j];\n",
    "                j--;\n",
    "            }\n",
    "            x[j + 1] = temp;\n",
    "        }\n",
    "    }\n",
    "\n",
    "    public static void main(String[] args) {\n",
    "        final int TIMES = 12;\n",
    "        final int SIZE = 5000;\n",
    "        double sum = 0; //double b/c int might be too short\n",
    "        double time = 0;\n",
    "\n",
    "        for (int i = 0; i < TIMES; i++) {\n",
    "            int[] data = new int[SIZE];\n",
    "            for (int j = 0; j < data.length; j++) {\n",
    "                data[j] = (int) (Math.random() * SIZE);\n",
    "            }\n",
    "            double startTime = System.nanoTime();\n",
    "            insertionSort(data);\n",
    "            double endTime = System.nanoTime();\n",
    "            sum += calculateSum(data);\n",
    "            time += endTime - startTime;\n",
    "        }\n",
    "        System.out.println(\"Average: \" + sum / (TIMES * SIZE));\n",
    "        System.out.println(\"Total Seconds: \" + time / 1000000000.0);\n",
    "    }\n",
    "\n",
    "    private static double calculateSum(int[] data) {\n",
    "        double sum = 0;\n",
    "        for (int j = 0; j < data.length; j++) {\n",
    "            sum += data[j];\n",
    "        }\n",
    "        return sum;\n",
    "    }\n",
    "}\n",
    "\n",
    "InsertionSort.main(null);"
   ]
  },
  {
   "attachments": {},
   "cell_type": "markdown",
   "metadata": {},
   "source": [
    "## Selection Sort"
   ]
  },
  {
   "attachments": {},
   "cell_type": "markdown",
   "metadata": {},
   "source": [
    "- time complexity of Selection Sort is O(n^2)\n",
    "- where n is the number of elements in the array\n",
    "- number of operations required to sort the array increases quadratically as the size of the array increases\n",
    "\n",
    "\n",
    "Selection sort: a search-and-swap algorithm\n",
    "- The sort first traverses the array for the lowest value\n",
    "- Once the sort finds this value, it swaps its position in the array with the data at index 0\n",
    "- Now the first element is sorted\n",
    "- The process then repeats for index 1: the rest of the array is searched for the lowest value, then swapped with the data at index 1\n",
    "- Note: if lowest value is already in position, it stays there\n",
    "\n",
    "\n"
   ]
  },
  {
   "cell_type": "code",
   "execution_count": 50,
   "metadata": {},
   "outputs": [
    {
     "name": "stdout",
     "output_type": "stream",
     "text": [
      "Average random: 2492.829166666667\n",
      "Total Seconds: 0.5471506\n"
     ]
    }
   ],
   "source": [
    "public class SelectionSort{\n",
    "    public static void selectionSort(int[] numbers)\n",
    "    {\n",
    "        for(int i = 0; i < numbers.length - 1; i++)\n",
    "        {\n",
    "            int position = i;\n",
    "            for(int k = i + 1; k < numbers.length; k++)\n",
    "            {\n",
    "                if (numbers[k] < numbers [position])\n",
    "                {\n",
    "                    position = k;\n",
    "                }\n",
    "            }\n",
    "            int temp = numbers[i];\n",
    "            numbers[i] = numbers[position];\n",
    "            numbers[position] = temp;\n",
    "        }\n",
    "    }\n",
    "    public static void main(String[] args) {\n",
    "        final int TIMES = 12;\n",
    "        final int SIZE = 5000;\n",
    "        double sum = 0; //double b/c int might be too short\n",
    "        double time = 0;\n",
    "\n",
    "        for (int i = 0; i < TIMES; i++) {\n",
    "            int[] data = new int[SIZE];\n",
    "            for (int j = 0; j < data.length; j++) {\n",
    "                data[j] = (int) (Math.random() * SIZE);\n",
    "            }\n",
    "            double startTime = System.nanoTime();\n",
    "            selectionSort(data);\n",
    "            double endTime = System.nanoTime();\n",
    "            sum += calculateSum(data);\n",
    "            time += endTime - startTime;\n",
    "        }\n",
    "        System.out.println(\"Average random: \" + sum / (TIMES * SIZE));\n",
    "        System.out.println(\"Total Seconds: \" + time / 1000000000.0);\n",
    "    }\n",
    "\n",
    "    private static double calculateSum(int[] data) {\n",
    "        double sum = 0;\n",
    "        for (int j = 0; j < data.length; j++) {\n",
    "            sum += data[j];\n",
    "        }\n",
    "        return sum;\n",
    "    }\n",
    "}\n",
    "\n",
    "SelectionSort.main(null);"
   ]
  }
 ],
 "metadata": {
  "kernelspec": {
   "display_name": "Java",
   "language": "java",
   "name": "java"
  },
  "language_info": {
   "codemirror_mode": "java",
   "file_extension": ".jshell",
   "mimetype": "text/x-java-source",
   "name": "java",
   "pygments_lexer": "java",
   "version": "11.0.16+8-post-Ubuntu-0ubuntu120.04"
  },
  "orig_nbformat": 4
 },
 "nbformat": 4,
 "nbformat_minor": 2
}
