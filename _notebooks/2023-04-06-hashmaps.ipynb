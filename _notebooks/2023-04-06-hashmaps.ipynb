{
 "cells": [
  {
   "cell_type": "code",
   "execution_count": 22,
   "metadata": {
    "vscode": {
     "languageId": "java"
    }
   },
   "outputs": [
    {
     "name": "stdout",
     "output_type": "stream",
     "text": [
      "Average time for Binary Search: 1.057E-7 seconds\n",
      "Average time for HashMap Lookup: 2.9E-8 seconds\n"
     ]
    }
   ],
   "source": [
    "import java.util.*;\n",
    "\n",
    "public class BinarySearchVsHashMap {\n",
    "\n",
    "    public static void main(String[] args) {\n",
    "        int numKeys = 5000;\n",
    "        int numSearches = 100;\n",
    "        int numIterations = 12;\n",
    "\n",
    "        // Generate random keys\n",
    "        Random random = new Random();\n",
    "        List<Integer> keys = new ArrayList<>();\n",
    "        for (int i = 0; i < numKeys; i++) {\n",
    "            keys.add(random.nextInt());\n",
    "        }\n",
    "\n",
    "        // Create HashMap\n",
    "        Map<Integer, Integer> map = new HashMap<>();\n",
    "        for (int i = 0; i < numKeys; i++) {\n",
    "            map.put(keys.get(i), i);\n",
    "        }\n",
    "\n",
    "        // Sort keys for Binary Search\n",
    "        Collections.sort(keys);\n",
    "\n",
    "        // Perform search and measure time\n",
    "        double binarySearchTime = 0;\n",
    "        double hashMapLookupTime = 0;\n",
    "        for (int i = 0; i < numIterations; i++) {\n",
    "            // Generate random keys to search for\n",
    "            List<Integer> searchKeys = new ArrayList<>();\n",
    "            for (int j = 0; j < numSearches; j++) {\n",
    "                searchKeys.add(random.nextInt());\n",
    "            }\n",
    "\n",
    "            // Binary Search\n",
    "            double startTime = System.nanoTime();\n",
    "            for (int j = 0; j < numSearches; j++) {\n",
    "                int index = Collections.binarySearch(keys, searchKeys.get(j));\n",
    "            }\n",
    "            double endTime = System.nanoTime();\n",
    "            double elapsedTime = endTime - startTime;\n",
    "            if (i > 0 && i < numIterations - 1) {  // Throw out highest and lowest times\n",
    "                binarySearchTime += elapsedTime;\n",
    "                //eliminate any outlier measurements that may skew the average time\n",
    "            }\n",
    "\n",
    "            // HashMap Lookup\n",
    "            startTime = System.nanoTime();\n",
    "            for (int j = 0; j < numSearches; j++) {\n",
    "                Integer value = map.get(searchKeys.get(j));\n",
    "            }\n",
    "            //retrieves the value associated with the specified key in the map\n",
    "            //in this case, we're using a HashMap, which is a data structure that stores key-value pairs\n",
    "            //for randomly generated keys, value is searched for in hashmap for corresponding value, which is returned as integer\n",
    "            //returns null if nonexistent\n",
    "\n",
    "            endTime = System.nanoTime();\n",
    "            elapsedTime = endTime - startTime;\n",
    "            if (i > 0 && i < numIterations - 1) {  // Throw out highest and lowest times\n",
    "                hashMapLookupTime += elapsedTime;\n",
    "            }\n",
    "        }\n",
    "\n",
    "        // Convert time to seconds and calculate average time\n",
    "        double binarySearchAvgTime = binarySearchTime / ((double) (numIterations - 2) * numSearches) / 1e9;\n",
    "        double hashMapLookupAvgTime = hashMapLookupTime / ((double) (numIterations - 2) * numSearches) / 1e9;\n",
    "//division by 1e9 to convert to seconds\n",
    "//gets rid of high/low values through -2\n",
    "\n",
    "        // Print results\n",
    "        System.out.println(\"Average time for Binary Search: \" + binarySearchAvgTime + \" seconds\");\n",
    "        System.out.println(\"Average time for HashMap Lookup: \" + hashMapLookupAvgTime + \" seconds\");\n",
    "    }\n",
    "\n",
    "}\n",
    "BinarySearchVsHashMap.main(null);"
   ]
  }
 ],
 "metadata": {
  "kernelspec": {
   "display_name": "Java",
   "language": "java",
   "name": "java"
  },
  "language_info": {
   "codemirror_mode": "java",
   "file_extension": ".jshell",
   "mimetype": "text/x-java-source",
   "name": "Java",
   "pygments_lexer": "java",
   "version": "11.0.16+8-post-Ubuntu-0ubuntu120.04"
  },
  "orig_nbformat": 4
 },
 "nbformat": 4,
 "nbformat_minor": 2
}
