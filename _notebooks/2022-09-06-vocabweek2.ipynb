{
 "cells": [
  {
   "cell_type": "markdown",
   "metadata": {},
   "source": [
    "# Code.Org Vocab\n",
    "> Week 2 Vocab (Code.org)\n",
    "\n",
    "- toc: true \n",
    "- badges: true\n",
    "- comments: true\n",
    "- categories: [jupyter]\n",
    "- image: "
   ]
  },
  {
   "cell_type": "markdown",
   "metadata": {},
   "source": [
    "\n",
    "- class - a programmer-defined blueprint from which objects are created\n",
    "    - inheritance hierarchy - where a class serves as a superclass for more than one subclass\n",
    "- constructor - a block of code that has the same name as the class \n",
    "    - and tells the computer how to create a new object\n",
    "\n",
    "- debugging - identifying + fixing problems in an algorithm or program\n",
    "- instantiate - to call the constructor to create an object\n",
    "\n",
    "- object - an instance of a class\n",
    "    - attribute - a characteristic of an object\n",
    "    - behavior - an action that an object can perform\n",
    "    - object-oriented programming - an approach to creating and using models of physical or imagined objects\n",
    "    - state - the attributes of an object that are represented by its instance variables\n",
    "\n",
    "- methods\n",
    "    - method signature - consists of a name and parameter list\n",
    "    - method decomp. - the process of breaking a problem down into smaller parts to write methods for each part\n",
    "    \n",
    "- constructor signature - the first line of the constructor which includes the public keyword, the constructor name, and the values to specify when an object is created\n",
    "- inheritance - an object-oriented programming principle where a subclass inherits the attributes and behaviors of a superclass\n",
    "- subclass - a class that extends a superclass and inherits its attributes and behaviors\n",
    "- superclass - a class that can be extended to create subclasses\n",
    "- edge case - a bug that occurs at the highest or lowest end of a range of possible values or in extreme situations\n",
    "- redundant code - code that is unnecessary; reiterates the same point\n"
   ]
  }
 ],
 "metadata": {
  "kernelspec": {
   "display_name": "Python 3.8.10 64-bit",
   "language": "python",
   "name": "python3"
  },
  "language_info": {
   "name": "python",
   "version": "3.8.10"
  },
  "orig_nbformat": 4,
  "vscode": {
   "interpreter": {
    "hash": "916dbcbb3f70747c44a77c7bcd40155683ae19c65e1c03b4aa3499c5328201f1"
   }
  }
 },
 "nbformat": 4,
 "nbformat_minor": 2
}
