{
 "cells": [
  {
   "cell_type": "markdown",
   "metadata": {},
   "source": [
    "#  Vocab/Iterations\n",
    "> Homework Assignments\n",
    "- toc: true \n",
    "- badges: true\n",
    "- comments: true\n",
    "- categories: [jupyter]\n"
   ]
  },
  {
   "cell_type": "markdown",
   "metadata": {},
   "source": [
    "## For, While, Nested Loops\n",
    "- while loop\n",
    "- - executed while something is happening\n",
    "- - iterates over elements\n",
    "- - can be infinite if boolean is always true\n",
    "\n",
    "- do-while loop\n",
    "- - condition is checked after executed statements\n",
    "\n",
    "- for loop\n",
    "- - certain amt of loops thru code block\n",
    "\n",
    "- nested loop: loop w/in loop\n",
    "\n",
    "- for-each loop\n",
    "- - traverses an array in java\n",
    "\n",
    "\n"
   ]
  },
  {
   "cell_type": "markdown",
   "metadata": {},
   "source": [
    "### While Loop"
   ]
  },
  {
   "cell_type": "code",
   "execution_count": null,
   "metadata": {},
   "outputs": [],
   "source": [
    "int x = 10;\n",
    "\n",
    "while (i<10) {\n",
    "    System.out.println(i);\n",
    "\n",
    "    i++;\n",
    "}"
   ]
  },
  {
   "cell_type": "code",
   "execution_count": null,
   "metadata": {},
   "outputs": [],
   "source": [
    "public class arrays\n",
    "{\n",
    "   public static void main(String[] args)\n",
    "   {\n",
    "   }}\n",
    "   public static void main(String[] args) {\n",
    "    int[] numbers = {2, 4, 6, 8, 10};\n",
    "    int i = 0;\n",
    "    while (i < numbers.length) {\n",
    "        System.out.println(numbers[i]);\n",
    "        i++;\n",
    "\n",
    "    }}\n",
    "        \n"
   ]
  },
  {
   "cell_type": "markdown",
   "metadata": {},
   "source": [
    "### Do-While Loop"
   ]
  },
  {
   "cell_type": "code",
   "execution_count": null,
   "metadata": {},
   "outputs": [
    {
     "name": "stdout",
     "output_type": "stream",
     "text": [
      "0\n",
      "1\n",
      "2\n",
      "3\n",
      "4\n"
     ]
    }
   ],
   "source": [
    "int i = 0;\n",
    "do {\n",
    "  System.out.println(i);\n",
    "  i++;\n",
    "}\n",
    "while (i < 5);\n",
    "\n"
   ]
  },
  {
   "cell_type": "markdown",
   "metadata": {},
   "source": [
    "### For/For-Each Loop"
   ]
  },
  {
   "cell_type": "code",
   "execution_count": null,
   "metadata": {},
   "outputs": [
    {
     "name": "stdout",
     "output_type": "stream",
     "text": [
      "5\n",
      "6\n",
      "7\n",
      "8\n",
      "9\n",
      "10\n",
      "11\n",
      "12\n",
      "13\n",
      "1\n",
      "2\n",
      "3\n"
     ]
    }
   ],
   "source": [
    "for (int i = 5; i < 14; i++) {\n",
    "    System.out.println(i);\n",
    "  }\n",
    "\n",
    "  for (int j = 1; j <= 3; j++) {\n",
    "    System.out.println(j);\n",
    "}//nested loop\n",
    "\n",
    "\n",
    "\n"
   ]
  },
  {
   "cell_type": "code",
   "execution_count": null,
   "metadata": {},
   "outputs": [
    {
     "name": "stdout",
     "output_type": "stream",
     "text": [
      "10\n",
      "20\n",
      "30\n",
      "40\n",
      "50\n"
     ]
    }
   ],
   "source": [
    "//for-each loop\n",
    "int arr[]={10,20,30,40,50};  \n",
    "for(int j:arr){  \n",
    "  System.out.println(j);  \n",
    "}"
   ]
  },
  {
   "cell_type": "markdown",
   "metadata": {},
   "source": [
    "# HOMEWORK\n",
    "\n"
   ]
  },
  {
   "cell_type": "code",
   "execution_count": 2,
   "metadata": {},
   "outputs": [
    {
     "ename": "EvalException",
     "evalue": "For input string: \"\"",
     "output_type": "error",
     "traceback": [
      "\u001b[1m\u001b[31m---------------------------------------------------------------------------\u001b[0m",
      "\u001b[1m\u001b[31mjava.lang.NumberFormatException: For input string: \"\"\u001b[0m",
      "\u001b[1m\u001b[31m\tat java.base/java.lang.NumberFormatException.forInputString(NumberFormatException.java:65)\u001b[0m",
      "\u001b[1m\u001b[31m\tat java.base/java.lang.Integer.parseInt(Integer.java:662)\u001b[0m",
      "\u001b[1m\u001b[31m\tat java.base/java.lang.Integer.parseInt(Integer.java:770)\u001b[0m",
      "\u001b[1m\u001b[31m\tat .(#15:2)\u001b[0m"
     ]
    }
   ],
   "source": [
    "//unit 4 hw\n",
    "//number guesser\n",
    "import java.util.Scanner;\n",
    "import java.lang.Math;\n",
    " \n",
    "Scanner number = new Scanner(System.in); \n",
    "float num_float = Integer.parseInt(number.nextLine());  // reads input\n",
    "System.out.println(num_float);\n",
    "\n",
    "double random = Math.random() * 10;\n",
    "System.out.println(random);\n",
    "\n",
    "public class Number{\n",
    "    public static void main(String[] args){\n",
    "\n",
    "        while (num_float != random){\n",
    "\n",
    "            if (num_float < random){\n",
    "                System.out.println(\"too low. higher\");\n",
    "                // Scanner number = new Scanner(System.in); \n",
    "                float num_float = Integer.parseInt(number.nextLine());  \n",
    "                System.out.println(num_float);\n",
    "            }\n",
    "\n",
    "            if (num_float > random){\n",
    "                System.out.println(\"too high. lower\");\n",
    "                Scanner number = new Scanner(System.in); \n",
    "                float num_float = Integer.parseInt(number.nextLine());  \n",
    "                System.out.println(num_float);\n",
    "            }\n",
    "            \n",
    "           \n",
    "    }\n",
    "\n",
    "    System.out.println(\"you got it!\");\n",
    "    \n",
    "\n",
    "\n",
    "\n",
    "    }\n",
    "\n",
    "}\n",
    "Number.main(null)\n"
   ]
  }
 ],
 "metadata": {
  "kernelspec": {
   "display_name": "Java",
   "language": "java",
   "name": "java"
  },
  "language_info": {
   "codemirror_mode": "java",
   "file_extension": ".jshell",
   "mimetype": "text/x-java-source",
   "name": "java",
   "pygments_lexer": "java",
   "version": "11.0.16+8-post-Ubuntu-0ubuntu120.04"
  },
  "orig_nbformat": 4,
  "vscode": {
   "interpreter": {
    "hash": "916dbcbb3f70747c44a77c7bcd40155683ae19c65e1c03b4aa3499c5328201f1"
   }
  }
 },
 "nbformat": 4,
 "nbformat_minor": 2
}
