{
 "cells": [
  {
   "cell_type": "markdown",
   "metadata": {},
   "source": [
    "#  Vocab/Primitives\n",
    "> Homework Assignments\n",
    "- toc: true \n",
    "- badges: true\n",
    "- comments: true\n",
    "- categories: [jupyter]\n"
   ]
  },
  {
   "cell_type": "markdown",
   "metadata": {},
   "source": [
    "## Casting, specifically for Division\n"
   ]
  },
  {
   "cell_type": "markdown",
   "metadata": {},
   "source": [
    "- integer and integer resulting in integer \n",
    "- if you want it to become a decimal, make it into a double\n",
    "- type promotion (with an integer and a double value) makes it more complicated, resulting in the decimal"
   ]
  },
  {
   "cell_type": "code",
   "execution_count": null,
   "metadata": {},
   "outputs": [
    {
     "name": "stdout",
     "output_type": "stream",
     "text": [
      "0.6666666666666666\n"
     ]
    }
   ],
   "source": [
    "//example\n",
    "public class Variables {\n",
    "    public static void main (String[] args) {    \n",
    "\n",
    "    }\n",
    "}\n",
    "System.out.println(10.0/15);\n"
   ]
  },
  {
   "cell_type": "code",
   "execution_count": null,
   "metadata": {},
   "outputs": [
    {
     "name": "stdout",
     "output_type": "stream",
     "text": [
      "0\n",
      "0.3333333333333333\n",
      "0.3333333333333333\n",
      "0.6666666666666666\n"
     ]
    }
   ],
   "source": [
    "public class Variables\n",
    "{\n",
    "   public static void main(String[] args)\n",
    "   {\n",
    "   }\n",
    "}\n",
    "\n",
    "int x=10;\n",
    "int y=15;\n",
    "System.out.println(1 / 3);\n",
    "System.out.println(1.0 / 3);\n",
    "System.out.println(1 / 3.0);\n",
    "System.out.println((double) x / y);\n",
    "//type promote; produces decimal answer\n",
    "\n"
   ]
  },
  {
   "cell_type": "code",
   "execution_count": null,
   "metadata": {},
   "outputs": [
    {
     "name": "stdout",
     "output_type": "stream",
     "text": [
      "5\n"
     ]
    }
   ],
   "source": [
    "//modulus\n",
    "public class Variables\n",
    "{\n",
    "   public static void main(String[] args)\n",
    "   {\n",
    "   }}\n",
    "\n",
    "System.out.println(15%10);"
   ]
  },
  {
   "cell_type": "markdown",
   "metadata": {},
   "source": [
    "## Casting, specifically for Truncating or Rounding"
   ]
  },
  {
   "cell_type": "markdown",
   "metadata": {},
   "source": [
    "- truncation vs. rounding\n",
    "- Rounding a number in the range [2.5, 3.5) returns the number 3\n",
    "- Truncating a number in the range [3.0, 4.0) returns the number 3\n",
    "- - Where a square bracket '[' denotes inclusion in the range, and a parenthesis '(' denotes non-inclusion in the range -- ie. [3.0, 4.0) is the range of all numbers between 3 and 4, including 3 but not including 4.\n",
    "- truncation; chops off decimal portion\n",
    "\n"
   ]
  },
  {
   "cell_type": "code",
   "execution_count": null,
   "metadata": {},
   "outputs": [
    {
     "name": "stdout",
     "output_type": "stream",
     "text": [
      "c is: 7\n"
     ]
    }
   ],
   "source": [
    "//truncation\n",
    "public class truncation\n",
    "{\n",
    "   public static void main(String[] args)\n",
    "{}}\n",
    "//example\n",
    "int a, b, c;\n",
    "double d, e;\n",
    "\n",
    "//declare variables\n",
    "a = 5;\n",
    "b = -13;\n",
    "d = 2.8;\n",
    "\n",
    "c = a + (int)d; //typecasting\n",
    "//truncation, cut off decimal\n",
    "//d became 2 instead of 2.8, so 2 + 5 = 7\n",
    "\n",
    "System.out.println(\"c is: \" + c); \n",
    "\n"
   ]
  },
  {
   "cell_type": "code",
   "execution_count": null,
   "metadata": {},
   "outputs": [
    {
     "name": "stdout",
     "output_type": "stream",
     "text": [
      "before rounding: 2.8\n",
      "after rounding: 3.0\n",
      "before rounding: 2.4\n",
      "after rounding: 2.0\n"
     ]
    }
   ],
   "source": [
    "//rounding\n",
    "public class rounding\n",
    "{\n",
    "   public static void main(String[] args)\n",
    "{}}\n",
    "\n",
    "double number = 2.8;\n",
    "System.out.println( \"before rounding: \" + number ); \n",
    "\n",
    "number = Math.round(number);\n",
    "System.out.println( \"after rounding: \" + number ); \n",
    "\n",
    "double number = 2.4;\n",
    "System.out.println( \"before rounding: \" + number ); \n",
    "\n",
    "number = Math.round(number);\n",
    "System.out.println( \"after rounding: \" + number ); \n",
    "\n"
   ]
  },
  {
   "cell_type": "markdown",
   "metadata": {},
   "source": [
    "## Concatenation\n",
    "- appendage of strings"
   ]
  },
  {
   "cell_type": "code",
   "execution_count": null,
   "metadata": {},
   "outputs": [
    {
     "name": "stdout",
     "output_type": "stream",
     "text": [
      "John Doe\n"
     ]
    }
   ],
   "source": [
    "//ex\n",
    "String firstName = \"John \";\n",
    "String lastName = \"Doe\";\n",
    "System.out.println(firstName.concat(lastName));\n",
    "\n"
   ]
  },
  {
   "cell_type": "code",
   "execution_count": null,
   "metadata": {},
   "outputs": [
    {
     "name": "stdout",
     "output_type": "stream",
     "text": [
      "hello to you too\n",
      " to you too\n",
      "Folklore is a great album.\n",
      "This statement is true\n",
      "Folklore is a bad album.\n",
      "This statement is false\n"
     ]
    }
   ],
   "source": [
    "class concatenation\n",
    "{\n",
    "    public static void main(String arg[])\n",
    "    {\n",
    "        }\n",
    "}\n",
    "\n",
    "String str1 = \"hello\", str2 = \" to you\", str3 = \" too\";\n",
    "str1 = str1 + str2 + str3; // LINE A\n",
    "System.out.println(str1);\n",
    "//line a is '+' operator\n",
    "\n",
    "str2 = str2.concat(str3);\n",
    "System.out.println(str2); //line B\n",
    "//concat() method\n",
    "\n",
    "boolean folklore = true;\n",
    "boolean evermore = false;\n",
    "System.out.println(\"Folklore is a great album.\" + \"\\nThis statement is \" + folklore); // LINE C\n",
    "System.out.println(\"Folklore is a bad album.\" + \"\\nThis statement is \" + evermore);\n",
    "//concatenation of a boolean to a string\n"
   ]
  },
  {
   "cell_type": "markdown",
   "metadata": {},
   "source": [
    "## Math Classes (Random Usage)\n"
   ]
  },
  {
   "cell_type": "markdown",
   "metadata": {},
   "source": [
    "- methods to perform math tasks on numbers\n",
    "- random() returns a random number between 0 (inclusive) and 1\n",
    "- public static double random^\n"
   ]
  },
  {
   "cell_type": "code",
   "execution_count": null,
   "metadata": {},
   "outputs": [
    {
     "name": "stdout",
     "output_type": "stream",
     "text": [
      "Random Number:0.7941694146696837\n"
     ]
    }
   ],
   "source": [
    "import java.lang.Math;\n",
    " \n",
    "//java.lang.Math.random()\n",
    "class random {\n",
    " \n",
    "    // driver code\n",
    "    public static void main(String args[])\n",
    "    {\n",
    "    }\n",
    "}\n",
    "double rand = Math.random();\n",
    "System.out.println(\"Random Number:\" + rand);\n",
    "\n"
   ]
  },
  {
   "cell_type": "markdown",
   "metadata": {},
   "source": [
    "## Type Casting in Java\n",
    "- when you assign a value of one primitive data type to another type.\n",
    "\n",
    "- two types of casting in Java:\n",
    "\n",
    "             - Widening Casting (automatically) - converting a smaller type to a larger type size\n",
    "                   byte -> short -> char -> int -> long -> float -> double\n",
    "\n",
    "             - Narrowing Casting (manually) - converting a larger type to a smaller size type\n",
    "                   double -> float -> long -> int -> char -> short -> byte\n"
   ]
  },
  {
   "cell_type": "markdown",
   "metadata": {},
   "source": [
    "- Why wrap int, double, etc?\n",
    "- way to use primitive data types as objects\n",
    "\n",
    "![q5](images/atable.png)\n",
    "\n",
    "- primitive type and corresponding wrapper class\n",
    "- Wrapper classes are used to convert any data type into an object. The primitive data types are not objects; they do not belong to any class; they are defined in the language itself. Sometimes, it is required to convert data types into objects in Java language.\n"
   ]
  },
  {
   "cell_type": "markdown",
   "metadata": {},
   "source": [
    "# HOMEWORK\n",
    "\n"
   ]
  },
  {
   "cell_type": "code",
   "execution_count": null,
   "metadata": {},
   "outputs": [],
   "source": [
    "//HW\n",
    "//2006 FRQ\n",
    "\n",
    "//2a\n",
    "public double purchasePrice() {\n",
    "    return getListPrice() * (1+taxRate);\n",
    "}\n",
    "//3a\n",
    "public int compareCustomer(Customer other)\n",
    "  {\n",
    "    int compare =  getName().compareTo(other.getName());\n",
    "    if (compare == 0) {\n",
    "      return getID() - other.getID();\n",
    "    }\n",
    "    else {\n",
    "      return compare;\n",
    "    }\n",
    "  }"
   ]
  }
 ],
 "metadata": {
  "kernelspec": {
   "display_name": "Java",
   "language": "java",
   "name": "java"
  },
  "language_info": {
   "name": "java",
   "version": "3.8.10"
  },
  "orig_nbformat": 4,
  "vscode": {
   "interpreter": {
    "hash": "916dbcbb3f70747c44a77c7bcd40155683ae19c65e1c03b4aa3499c5328201f1"
   }
  }
 },
 "nbformat": 4,
 "nbformat_minor": 2
}
