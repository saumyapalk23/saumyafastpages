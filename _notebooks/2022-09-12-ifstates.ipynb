{
 "cells": [
  {
   "cell_type": "markdown",
   "metadata": {},
   "source": [
    "# If-Statements and Booleans\n",
    "> If-Statements and Booleans\n",
    "- toc: true \n",
    "- badges: true\n",
    "- comments: true\n",
    "- categories: [jupyter]\n",
    "- image: "
   ]
  },
  {
   "cell_type": "markdown",
   "metadata": {},
   "source": [
    "What is an if statement?\n",
    "An if statement is used to specify a block of Java code to be executed if a condition is true.\n",
    "\n",
    "if-else\n",
    "- Uses keyword “if”\n",
    "- Checks if statement is true\n",
    "- If it is, performs certain task\n",
    "- if not, performs else command\n",
    "\n",
    "if-else-else\n",
    "Use the else if statement to specify a new condition if the first condition is false.\n",
    "\n",
    "Conditionals: allows the computer to make decisions based on if a statement is true or false \n",
    " - If\n",
    " - Else\n",
    " - Else If\n",
    " - Booleans\n"
   ]
  },
  {
   "cell_type": "code",
   "execution_count": 2,
   "metadata": {
    "vscode": {
     "languageId": "java"
    }
   },
   "outputs": [
    {
     "name": "stdout",
     "output_type": "stream",
     "text": [
      "3.14 is greater than 1.5\n"
     ]
    }
   ],
   "source": [
    "if (3.14 > 1.5) { //the program decides whether this is true or not\n",
    "    System.out.println(\"3.14 is greater than 1.5\"); //if it is then this line is printed\n",
    "  }"
   ]
  },
  {
   "cell_type": "markdown",
   "metadata": {},
   "source": [
    "What is an if/else statement?\n",
    "The if/else statement executes a block of code if a specified condition is true. If the condition is false, another block of code can be executed."
   ]
  },
  {
   "cell_type": "code",
   "execution_count": 11,
   "metadata": {
    "vscode": {
     "languageId": "java"
    }
   },
   "outputs": [
    {
     "name": "stdout",
     "output_type": "stream",
     "text": [
      "Good evening.\n"
     ]
    }
   ],
   "source": [
    "int time = 12; //set variable\n",
    "if (time < 12) { //the program decides whether this is true or not\n",
    "  System.out.println(\"Good day.\"); //if it is then print this line\n",
    "} else {\n",
    "  System.out.println(\"Good evening.\"); //if it is not then print this\n",
    "}"
   ]
  },
  {
   "cell_type": "markdown",
   "metadata": {},
   "source": [
    "What is an If-else-else Statement?"
   ]
  },
  {
   "cell_type": "code",
   "execution_count": 23,
   "metadata": {
    "vscode": {
     "languageId": "java"
    }
   },
   "outputs": [
    {
     "name": "stdout",
     "output_type": "stream",
     "text": [
      "Good day.\n"
     ]
    }
   ],
   "source": [
    "int time = 12;\n",
    "if (time < 12) { //the program decides whether this is true or not\n",
    "  System.out.println(\"Good morning.\"); //if it is then print this line\n",
    "} else if (time < 20) { //if it is not true, then check if this is true\n",
    "  System.out.println(\"Good day.\"); //if it is then print this line\n",
    "} else {\n",
    "  System.out.println(\"Good night.\"); //or else print this line\n",
    "}\n"
   ]
  },
  {
   "cell_type": "code",
   "execution_count": null,
   "metadata": {
    "vscode": {
     "languageId": "java"
    }
   },
   "outputs": [
    {
     "name": "stdout",
     "output_type": "stream",
     "text": [
      "7 is less than 8\n"
     ]
    }
   ],
   "source": [
    "if (1 > 2) {\n",
    "    System.out.println(\"3.14 is greater than 1.5\");\n",
    "  }\n",
    "  else if(3 < 1.5) {\n",
    "    System.out.println(\"3.14 is less than 1.5\");\n",
    "  }\n",
    "  else if (7 > 8) {\n",
    "    System.out.println(\"8 is greater than 7\");\n",
    "  }\n",
    "  else if (6 < 8) {\n",
    "    System.out.println(\"7 is less than 8\");\n",
    "  }\n",
    "  else {\n",
    "    System.out.println(\"Invalid\");\n",
    "  }"
   ]
  },
  {
   "cell_type": "markdown",
   "metadata": {},
   "source": [
    "What is a Switch Case Program in Java?\n",
    "Java switch statement executes one statement from multiple conditions.\n",
    "- The switch statement evaluates an expression, matching the expression's value against a series of case clauses, and executes statements after the first case clause with a matching value, until a break statement is encountered. The default clause of a switch statement will be jumped to if no case matches the expression's value.\n"
   ]
  },
  {
   "cell_type": "code",
   "execution_count": null,
   "metadata": {
    "vscode": {
     "languageId": "java"
    }
   },
   "outputs": [
    {
     "name": "stdout",
     "output_type": "stream",
     "text": [
      "Enter first number- 1\n",
      "1 > 0\n"
     ]
    }
   ],
   "source": [
    "System.out.print(\"Enter first number- \");  \n",
    "String something = input.nextLine();  // Read user input\n",
    "System.out.println(something);\n",
    "Scanner sc= new Scanner(System.in); \n",
    "int x= sc.nextInt();  \n",
    "String output;\n",
    "switch (x) { \n",
    "    case 1:\n",
    "        output = x + \" > 0\";\n",
    "        break;\n",
    "    case 2:\n",
    "        output = x + \" > 8\";\n",
    "        break;\n",
    "    case 3:\n",
    "        output = x + \" > 3\";\n",
    "        break;\n",
    "    case 4:\n",
    "        output = x + \" > 6\";\n",
    "        break;\n",
    "}\n",
    "System.out.println(output)"
   ]
  },
  {
   "cell_type": "markdown",
   "metadata": {},
   "source": [
    "De Morgan's Law\n",
    "The complement of the union of two sets is the intersection of their complements and the complement of the intersection of two sets is the union of their complements.\n",
    "\n",
    "|| means \"or\" and the && means \"and\"\n",
    "! = not\n"
   ]
  },
  {
   "cell_type": "code",
   "execution_count": 24,
   "metadata": {
    "vscode": {
     "languageId": "java"
    }
   },
   "outputs": [
    {
     "name": "stdout",
     "output_type": "stream",
     "text": [
      "I play baseball but not basketball\n"
     ]
    }
   ],
   "source": [
    "boolean playBasketball = false;\n",
    "boolean playBaseball = true;\n",
    "\n",
    "if (!(playBaseball && playBasketball)){\n",
    "    System.out.println(\"I play baseball but not basketball\");\n",
    "}\n",
    "else{\n",
    "    System.out.println(\"I play basketball but not baseball\");\n",
    "}"
   ]
  },
  {
   "cell_type": "code",
   "execution_count": 27,
   "metadata": {
    "vscode": {
     "languageId": "java"
    }
   },
   "outputs": [
    {
     "name": "stdout",
     "output_type": "stream",
     "text": [
      "I play basketball but not baseball\n"
     ]
    }
   ],
   "source": [
    "boolean playBasketball = false;\n",
    "boolean playBaseball = true;\n",
    "\n",
    "if (!playBaseball||!playBasketball){\n",
    "    System.out.println(\"I play basketball but not baseball\");\n",
    "}\n",
    "else{\n",
    "    System.out.println(\"I play baseball but not basketball\");\n",
    "}"
   ]
  }
 ],
 "metadata": {
  "kernelspec": {
   "display_name": "Java",
   "language": "java",
   "name": "java"
  },
  "language_info": {
   "codemirror_mode": "java",
   "file_extension": ".jshell",
   "mimetype": "text/x-java-source",
   "name": "Java",
   "pygments_lexer": "java",
   "version": "11.0.16+8-post-Ubuntu-0ubuntu120.04"
  },
  "orig_nbformat": 4
 },
 "nbformat": 4,
 "nbformat_minor": 2
}
