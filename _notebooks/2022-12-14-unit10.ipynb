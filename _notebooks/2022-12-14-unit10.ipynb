{
 "cells": [
  {
   "attachments": {},
   "cell_type": "markdown",
   "metadata": {},
   "source": [
    "#  Unit 10 HW/Vocab Integration\n",
    "> Recursion HW\n",
    "- toc: true \n",
    "- badges: true\n",
    "- comments: true\n",
    "- categories: [jupyter]"
   ]
  },
  {
   "attachments": {},
   "cell_type": "markdown",
   "metadata": {},
   "source": [
    "## HW\n",
    "![q5](images/hww.png)"
   ]
  },
  {
   "attachments": {},
   "cell_type": "markdown",
   "metadata": {},
   "source": [
    "## VOCAB INTEGRATION\n",
    "### The following are related to recursion in Java:"
   ]
  },
  {
   "attachments": {},
   "cell_type": "markdown",
   "metadata": {},
   "source": [
    "\n",
    "* Creating a class\n",
    "* The main method\n",
    "* Standard methods such as toString(), equals(), and hashCode()\n",
    "Recursion is a programming technique in which a method calls itself to solve a problem. A recursive method must have a base case, which is a condition that stops the recursion, and a recursive case, which is a condition that makes the method call itself.\n",
    "\n",
    "For example, the following factorial() method calculates the factorial of a given number using recursion:\n"
   ]
  },
  {
   "cell_type": "code",
   "execution_count": 1,
   "metadata": {},
   "outputs": [],
   "source": [
    "public class Factorial {\n",
    "\n",
    "    public static void main(String[] args) {\n",
    "      int n = 5;\n",
    "      int factorial = factorial(n);\n",
    "      System.out.println(\"The factorial of \" + n + \" is \" + factorial);\n",
    "    }\n",
    "  \n",
    "    public static int factorial(int n) {\n",
    "      if (n == 0) {\n",
    "        // Base case: the factorial of 0 is 1\n",
    "        return 1;\n",
    "      } else {\n",
    "        // Recursive case: the factorial of n is n * the factorial of n - 1\n",
    "        return n * factorial(n - 1);\n",
    "      }\n",
    "    }\n",
    "  \n",
    "  }  "
   ]
  },
  {
   "attachments": {},
   "cell_type": "markdown",
   "metadata": {},
   "source": [
    "In this example, the factorial() method has a base case for the n == 0 condition, where it returns 1, and a recursive case for the n > 0 condition, where it calls itself with n - 1 as an argument. This allows the factorial() method to calculate the factorial of a given number by calling itself repeatedly with smaller and smaller numbers until it reaches the base case.\n",
    "\n",
    "Casting, wrapper classes, concatenation, the Math class, compound boolean expressions, truth tables, De Morgan's law, comparing numbers, comparing strings, comparing objects, loops, constructor, accessor and mutator methods, static variables and methods, the this keyword, tester methods, inheritance, subclass constructor, method overloading, method overriding, abstract classes and methods, late binding of objects, polymorphism, and Big O notation are not directly related to recursion in Java."
   ]
  },
  {
   "cell_type": "code",
   "execution_count": null,
   "metadata": {},
   "outputs": [],
   "source": [
    "//ex\n",
    "public class RecursiveFunctions {\n",
    "\n",
    "    public static void main(String[] args) {\n",
    "      int n = 12;\n",
    "      int result = half(n);\n",
    "      System.out.println(\"Half of \" + n + \" is \" + result);\n",
    "    }\n",
    "  \n",
    "    public static int half(int n) {\n",
    "      if (n == 0) {\n",
    "        // Base case: the half of 0 is 0\n",
    "        return 0;\n",
    "      } else {\n",
    "        // Recursive case: the half of n is the half of n / 2\n",
    "        return half(n / 2);\n",
    "      }\n",
    "    }\n",
    "  \n",
    "  }  "
   ]
  },
  {
   "attachments": {},
   "cell_type": "markdown",
   "metadata": {},
   "source": [
    "In this program, the RecursiveFunctions class contains the main method, which is the entry point of the program. The main method calls the half() method with the number 12 as an argument and prints out the result.\n",
    "\n",
    "The half() method is a recursive method that calculates the half of a given number. It has a base case for the n == 0 condition, where it returns 0, and a recursive case for the n > 0 condition, where it calls itself with n / 2 as an argument. This allows the half() method to calculate the half of a given number by calling itself repeatedly with smaller and smaller numbers until it reaches the base case.\n",
    "\n",
    "The half() method is a standard method that is defined within the RecursiveFunctions class. It has a return type of int, which means it returns an integer value. The method uses"
   ]
  },
  {
   "cell_type": "code",
   "execution_count": null,
   "metadata": {},
   "outputs": [],
   "source": [
    "//2 base cases\n",
    "public class RecursiveFunctions {\n",
    "\n",
    "    public static void main(String[] args) {\n",
    "      int n = 12;\n",
    "      int result = nextEven(n);\n",
    "      System.out.println(\"The next even number after \" + n + \" is \" + result);\n",
    "    }\n",
    "  \n",
    "    public static int nextEven(int n) {\n",
    "      if (n == 1 || n == 2) {\n",
    "        // Base case 1: the next even number after 1 is 2\n",
    "        // Base case 2: the next even number after 2 is 4\n",
    "        return n + 1;\n",
    "      } else {\n",
    "        // Recursive case: the next even number after n is the next even number after n - 2\n",
    "        return nextEven(n - 2);\n",
    "      }\n",
    "    }\n",
    "  \n",
    "  }  "
   ]
  },
  {
   "attachments": {},
   "cell_type": "markdown",
   "metadata": {},
   "source": [
    "In this program, the RecursiveFunctions class contains the main method, which is the entry point of the program. The main method calls the nextEven() method with the number 12 as an argument and prints out the result.\n",
    "\n",
    "The nextEven() method is a recursive method that calculates the next even number after a given number. It has two base cases: one for the n == 1 condition, where it returns 2, and one for the n == 2 condition, where it returns 4. It also has a recursive case for the n > 2 condition, where it calls itself with n - 2 as an argument. This allows the nextEven() method to calculate the next even number after a given number by calling itself repeatedly with smaller and smaller numbers until it reaches one of the base cases.\n",
    "\n",
    "The nextEven() method is a standard method that is defined within the RecursiveFunctions class. It has a return type of int, which means it returns an integer value. The method uses recursion to solve the problem of finding the next even number after a given number.\n",
    "\n",
    "To use the nextEven() method in the main method, we simply call it with the desired number as an argument and store the result in a variable. We can then use the System.out.println() method to print out the result to the console."
   ]
  },
  {
   "cell_type": "code",
   "execution_count": 13,
   "metadata": {},
   "outputs": [],
   "source": [
    "//standard methods implemented (hashcode, etc.)\n",
    "public class RecursiveFunctions {\n",
    "\n",
    "    public static void main(String[] args) {\n",
    "      int n = 12;\n",
    "      int result = nextEven(n);\n",
    "      System.out.println(\"The next even number after \" + n + \" is \" + result);\n",
    "  \n",
    "      // Use the toString() method to convert the result to a string\n",
    "      String resultString = Integer.toString(result);\n",
    "      System.out.println(\"The string representation of the result is \" + resultString);\n",
    "  \n",
    "      // Use the equals() method to compare the result to another integer\n",
    "      int otherNumber = 14;\n",
    "      boolean isEqual = (result == otherNumber);\n",
    "      System.out.println(\"The result is equal to \" + otherNumber + \": \" + isEqual);\n",
    "  \n",
    "      // Use the hashCode() method to get the hash code of the result\n",
    "      Integer resultInteger = new Integer(result);\n",
    "      int resultHashCode = resultInteger.hashCode();\n",
    "      System.out.println(\"The hash code of the result is \" + resultHashCode);\n",
    "    }\n",
    "  \n",
    "    public static int nextEven(int n) {\n",
    "      if (n == 1 || n == 2) {\n",
    "        // Base case 1: the next even number after 1 is 2\n",
    "        // Base case 2: the next even number after 2 is 4\n",
    "        return n + 1;\n",
    "      } else {\n",
    "        // Recursive case: the next even number after n is the next even number after n - 2\n",
    "        return nextEven(n - 2);\n",
    "      }\n",
    "    }\n",
    "  \n",
    "  }\n",
    "  "
   ]
  }
 ],
 "metadata": {
  "kernelspec": {
   "display_name": "Python 3",
   "language": "python",
   "name": "python3"
  },
  "language_info": {
   "codemirror_mode": "java",
   "file_extension": ".jshell",
   "mimetype": "text/x-java-source",
   "name": "python",
   "pygments_lexer": "java",
   "version": "3.8.10 (default, Jun 22 2022, 20:18:18) \n[GCC 9.4.0]"
  },
  "orig_nbformat": 4,
  "vscode": {
   "interpreter": {
    "hash": "916dbcbb3f70747c44a77c7bcd40155683ae19c65e1c03b4aa3499c5328201f1"
   }
  }
 },
 "nbformat": 4,
 "nbformat_minor": 2
}
