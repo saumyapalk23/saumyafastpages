{
 "cells": [
  {
   "attachments": {},
   "cell_type": "markdown",
   "metadata": {},
   "source": [
    "#  Unit 9 HW/Vocab Integration\n",
    "> Inheritance HW\n",
    "- toc: true \n",
    "- badges: true\n",
    "- comments: true\n",
    "- categories: [jupyter]"
   ]
  },
  {
   "attachments": {},
   "cell_type": "markdown",
   "metadata": {},
   "source": [
    "## HW"
   ]
  },
  {
   "cell_type": "code",
   "execution_count": 14,
   "metadata": {
    "vscode": {
     "languageId": "java"
    }
   },
   "outputs": [
    {
     "name": "stdout",
     "output_type": "stream",
     "text": [
      "Person:  name: Saumya birthday: 2006\n"
     ]
    },
    {
     "ename": "CompilationException",
     "evalue": "",
     "output_type": "error",
     "traceback": [
      "\u001b[1m\u001b[30m|   \u001b[1m\u001b[30mPerson Andrea = new \u001b[0m\u001b[1m\u001b[30m\u001b[41mStudent\u001b[0m\u001b[1m\u001b[30m(\"Andrea\", \"2006\", 11, 4.0, \"Math Tutor\");\u001b[0m",
      "\u001b[1m\u001b[31mcannot find symbol\u001b[0m",
      "\u001b[1m\u001b[31m  symbol:   class Student\u001b[0m",
      ""
     ]
    }
   ],
   "source": [
    "import java.time.LocalDate;\n",
    "import java.time.Period;\n",
    "import java.time.ZoneId;\n",
    "import java.util.Date;\n",
    "import java.util.HashMap;\n",
    "import java.util.Map;\n",
    "\n",
    "public class Person {\n",
    "    public String name;\n",
    "    public String birthday;\n",
    " \n",
    "    public Person (String name, String birthday){\n",
    "       this.name = name;\n",
    "       this.birthday = birthday;\n",
    "    }\n",
    " \n",
    "    public String getName(){\n",
    "       return name;\n",
    "    }\n",
    "\n",
    "    public int getAge() {\n",
    "        if (this.birthday != null){  \n",
    "        }   \n",
    "        return -1;    \n",
    "        }\n",
    "\n",
    "    \n",
    "    @Override\n",
    "    public String toString() {\n",
    "         return (\"Person: \" + \" name: \" + name + \" birthday: \" + birthday);\n",
    "    }\n",
    "\n",
    "    public class Student extends Person {\n",
    "    private int grade;\n",
    "    private double gpa;\n",
    "    private String job;\n",
    " \n",
    "    public Student (String name, String birthday, int grade, double gpa, String job) {\n",
    "       super(name, birthday);\n",
    "       this.grade = grade;\n",
    "       this.gpa = gpa;\n",
    "       this.job = job;\n",
    "    }\n",
    "\n",
    "    public double getGPA(){\n",
    "        return gpa;\n",
    "    } \n",
    "    public String getJob(){\n",
    "        return job;\n",
    "    } \n",
    "    public int getGrade(){\n",
    "       return grade;\n",
    "    }\n",
    "    @Override\n",
    "    public String toString() {\n",
    "        return (\"Student -- \" + \"name: \" + name + \" birthday: \" + birthday + \" grade: \" + grade + \" gpa: \" + gpa + \" job: \" + job);\n",
    "    }\n",
    "\n",
    " }}\n",
    "\n",
    " public class Teacher extends Person {\n",
    "   private int yrsExperience;\n",
    "   private String subject;\n",
    "\n",
    "   public Teacher (String name, String birthday, int yrsExperience, String subject) {\n",
    "       super(name, birthday);\n",
    "       this.yrsExperience = yrsExperience;\n",
    "       this.subject = subject;\n",
    "   }\n",
    "   public int getYrsExp(){\n",
    "       return yrsExperience;\n",
    "   } \n",
    "   public String getSubject(){\n",
    "       return subject;\n",
    "   }\n",
    "   @Override\n",
    "   public String toString() {\n",
    "       return (\"Teacher -- \" + \"name: \" + name + \" birthday: \" + birthday + \" Years of Experience: \" + yrsExperience + \" Subject: \" + subject);\n",
    "       }\n",
    "   }\n",
    "Person Saumya = new Person(\"Saumya\", \"2006\");\n",
    "System.out.println(Saumya.toString());\n",
    "Person Andrea = new Student(\"Andrea\", \"2006\", 11, 4.0, \"Math Tutor\");\n",
    "System.out.println(Andrea.toString());\n",
    "Person Tom = new Teacher(\"Tom\", \"1975\", 16, \"Earth Science\");\n",
    "System.out.println(Tom.toString());\n"
   ]
  },
  {
   "cell_type": "code",
   "execution_count": 15,
   "metadata": {
    "vscode": {
     "languageId": "java"
    }
   },
   "outputs": [
    {
     "name": "stdout",
     "output_type": "stream",
     "text": [
      "Team game: Game 1\n",
      "Team 1: Portugal\n",
      "Team 2: Morocco\n",
      "Score: 1\n",
      "\n",
      "Team game: Game 1\n",
      "Team 1: Portugal\n",
      "Team 2: Morocco\n",
      "Score: 0\n",
      "Portugal pass accuracy: 71%\n",
      "Team game: Game 1\n",
      "Team 1: Portugal\n",
      "Team 2: Morocco\n",
      "Score: 1\n",
      "Morocco pass accuracy: 85%\n"
     ]
    }
   ],
   "source": [
    "public class WorldCup {\n",
    "    public String game;\n",
    "    public String team1;\n",
    "    public String team2;\n",
    "    public int score;\n",
    "    \n",
    "    public WorldCup (String game, String team1, String team2, int score){\n",
    "        this.game = game;\n",
    "        this.team1=team1;\n",
    "        this.team2=team2;\n",
    "        this.score=score;\n",
    "    }\n",
    "\n",
    "    public String getTeam1(){\n",
    "        return team1;\n",
    "    }\n",
    "\n",
    "    public String getTeam2(){\n",
    "        return team2;\n",
    "    }\n",
    "\n",
    "    public void score() {\n",
    "        this.score += 1;\n",
    "    }\n",
    "\n",
    "    public void stats(){\n",
    "        System.out.println(\"\");\n",
    "    }\n",
    "    public void printInfo() {\n",
    "        System.out.println(\"Team game: \" + this.game);\n",
    "        System.out.println(\"Team 1: \" + this.team1);\n",
    "        System.out.println(\"Team 2: \" + this.team2);\n",
    "        System.out.println(\"Score: \" + this.score);\n",
    "        stats();\n",
    "    }\n",
    "}\n",
    "\n",
    "public class Portugal extends WorldCup {\n",
    "    \n",
    "    public Portugal(String game, String team1, String team2, int score){\n",
    "        super(game, team1, team2, score);\n",
    "    }\n",
    "    public void score() {\n",
    "        this.score += 1;\n",
    "    }\n",
    "    public void stats(){\n",
    "        System.out.println(\"Portugal pass accuracy: 71%\");\n",
    "        }\n",
    "}\n",
    "public class Morocco extends WorldCup {\n",
    "    \n",
    "    public Morocco(String game, String team1, String team2, int score){\n",
    "        super(game, team1, team2, score);\n",
    "    }\n",
    "    public void score() {\n",
    "        this.score += 1;\n",
    "    }\n",
    "    public void stats(){\n",
    "        System.out.println(\"Morocco pass accuracy: 85%\");\n",
    "    }\n",
    "}\n",
    "\n",
    "WorldCup WorldCup = new WorldCup(\"Game 1\",\"Portugal\", \"Morocco\", 1);\n",
    "WorldCup Portugal = new Portugal(\"Game 1\", \"Portugal\", \"Morocco\", 0);\n",
    "WorldCup Morocco = new Morocco(\"Game 1\", \"Portugal\", \"Morocco\", 1);\n",
    "\n",
    "WorldCup.printInfo();\n",
    "Portugal.printInfo();\n",
    "Morocco.printInfo();\n"
   ]
  },
  {
   "attachments": {},
   "cell_type": "markdown",
   "metadata": {},
   "source": [
    "## VOCAB INTEGRATION\n",
    "### The following are used in inheritance in Java:"
   ]
  },
  {
   "attachments": {},
   "cell_type": "markdown",
   "metadata": {},
   "source": [
    "The extends keyword to create a subclass that inherits from a superclass\n",
    "\n",
    "The super keyword to call a superclass constructor or method from a subclass\n",
    "\n",
    "Overriding a method, which involves defining a method in a subclass that has the same signature (name and parameters) as a method in the superclass\n",
    "\n",
    "Polymorphism, which allows an object of a subclass to be treated as an object of the superclass\n",
    "\n",
    "Casting, wrapper classes, concatenation, the Math class, compound boolean expressions, truth tables, De Morgan's law, comparing numbers, comparing strings, comparing objects, loops, creating a class, constructor, accessor and mutator methods, static variables and methods, the this keyword, the main method, abstract classes and methods, and standard methods such as toString(), equals(), and hashCode() are not directly related to inheritance in Java.\n",
    "\n",
    "Big O notation is a measure of the efficiency of an algorithm, not a feature of the Java language."
   ]
  },
  {
   "cell_type": "code",
   "execution_count": 15,
   "metadata": {
    "vscode": {
     "languageId": "java"
    }
   },
   "outputs": [],
   "source": [
    "public class WorldCup {\n",
    "\n",
    "    public static void main(String[] args) {\n",
    "      Team argentina = new Team(\"Argentina\", \"Jorge Sampaoli\");\n",
    "      Team brazil = new Team(\"Brazil\", \"Tite\");\n",
    "      Team germany = new Team(\"Germany\", \"Joachim Low\");\n",
    "  \n",
    "      argentina.displayTeamInfo();\n",
    "      brazil.displayTeamInfo();\n",
    "      germany.displayTeamInfo();\n",
    "  \n",
    "      argentina.playGame();\n",
    "      brazil.playGame();\n",
    "      germany.playGame();\n",
    "  \n",
    "      argentina.displayTeamInfo();\n",
    "      brazil.displayTeamInfo();\n",
    "      germany.displayTeamInfo();\n",
    "    }\n",
    "  \n",
    "  }\n",
    "  \n",
    "  class Team {\n",
    "  \n",
    "    protected String name;\n",
    "    protected String coach;\n",
    "    protected int wins;\n",
    "  \n",
    "    public Team(String name, String coach) {\n",
    "      this.name = name;\n",
    "      this.coach = coach;\n",
    "      this.wins = 0;\n",
    "    }\n",
    "  \n",
    "    public void displayTeamInfo() {\n",
    "      System.out.println(\"Team: \" + this.name);\n",
    "      System.out.println(\"Coach: \" + this.coach);\n",
    "      System.out.println(\"Wins: \" + this.wins);\n",
    "    }\n",
    "  \n",
    "    public void playGame() {\n",
    "      // Simulate a game and increase the number of wins by 1 if the team wins\n",
    "      this.wins++;\n",
    "    }\n",
    "  \n",
    "  }\n",
    "  "
   ]
  },
  {
   "attachments": {},
   "cell_type": "markdown",
   "metadata": {},
   "source": [
    "In this program, the Team class represents a team participating in the World Cup. It has three instance variables: name, coach, and wins, which hold the name of the team, the name of the coach, and the number of games the team has won, respectively. The Team class also has a constructor that initializes these instance variables and a displayTeamInfo() method that prints out the team's information.\n",
    "\n",
    "To create a subclass that represents a specific team, we can use the extends keyword. For example, the following Argentina class extends the Team class and adds a specific logo for the team:"
   ]
  },
  {
   "cell_type": "code",
   "execution_count": 16,
   "metadata": {
    "vscode": {
     "languageId": "java"
    }
   },
   "outputs": [],
   "source": [
    "class Argentina extends Team {\n",
    "\n",
    "    private String logo = \"https://upload.wikimedia.org/wikipedia/en/thumb/1/1a/Argentina_national_football_team_logo.svg/1200px-Argentina_national_football_team_logo.svg.png\";\n",
    "  \n",
    "    public Argentina(String name, String coach) {\n",
    "      super(name, coach);\n",
    "    }\n",
    "  \n",
    "    public void displayTeamInfo() {\n",
    "      super.displayTeamInfo();\n",
    "      System.out.println(\"Logo: \" + this.logo);\n",
    "    }\n",
    "  \n",
    "  }\n",
    "  "
   ]
  },
  {
   "cell_type": "markdown",
   "metadata": {},
   "source": [
    "This Argentina class uses the super keyword to call the Team class' constructor and passes it the name and coach arguments. \n",
    "It also overrides the displayTeamInfo() method from the Team class and adds the team's logo to the information displayed.\n",
    "\n",
    "To use the Argentina class in the main method of the WorldCup class, we can create an Argentina object and call its methods just like we would call the methods of any other Team object. For example, we can create an Argentina object like this:\n"
   ]
  },
  {
   "cell_type": "code",
   "execution_count": 19,
   "metadata": {
    "vscode": {
     "languageId": "java"
    }
   },
   "outputs": [],
   "source": [
    "Team argentina = new Argentina(\"Argentina\", \"Jorge Sampaoli\");"
   ]
  },
  {
   "attachments": {},
   "cell_type": "markdown",
   "metadata": {},
   "source": [
    "And then we can call its methods like this:"
   ]
  },
  {
   "cell_type": "code",
   "execution_count": 20,
   "metadata": {
    "vscode": {
     "languageId": "java"
    }
   },
   "outputs": [
    {
     "name": "stdout",
     "output_type": "stream",
     "text": [
      "Team: Argentina\n",
      "Coach: Jorge Sampaoli\n",
      "Wins: 0\n",
      "Logo: https://upload.wikimedia.org/wikipedia/en/thumb/1/1a/Argentina_national_football_team_logo.svg/1200px-Argentina_national_football_team_logo.svg.png\n"
     ]
    }
   ],
   "source": [
    "Team argentina = new Argentina(\"Argentina\", \"Jorge Sampaoli\");\n",
    "argentina.displayTeamInfo();\n",
    "argentina.playGame();"
   ]
  },
  {
   "attachments": {},
   "cell_type": "markdown",
   "metadata": {},
   "source": [
    "Because the Argentina class extends the Team class, an Argentina object is considered to be a Team object as well. This allows us to use polymorphism, where we can treat an object of a subclass as an object of the superclass. For example, we can create a Team object that refers to an Argentina object like this:"
   ]
  },
  {
   "cell_type": "code",
   "execution_count": 17,
   "metadata": {
    "vscode": {
     "languageId": "java"
    }
   },
   "outputs": [],
   "source": [
    "Team team = new Argentina(\"Argentina\", \"Jorge Sampaoli\");"
   ]
  },
  {
   "attachments": {},
   "cell_type": "markdown",
   "metadata": {},
   "source": [
    "Then, when we call the displayTeamInfo() method on the team object, it will call the overridden displayTeamInfo() method in the Argentina class, which will display the team's information as well as the team's logo.\n",
    "\n",
    "\n",
    "\n"
   ]
  }
 ],
 "metadata": {
  "kernelspec": {
   "display_name": "Java",
   "language": "java",
   "name": "java"
  },
  "language_info": {
   "codemirror_mode": "java",
   "file_extension": ".jshell",
   "mimetype": "text/x-java-source",
   "name": "Java",
   "pygments_lexer": "java",
   "version": "11.0.16+8-post-Ubuntu-0ubuntu120.04"
  },
  "orig_nbformat": 4
 },
 "nbformat": 4,
 "nbformat_minor": 2
}
