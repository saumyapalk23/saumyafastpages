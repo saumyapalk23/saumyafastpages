{
 "cells": [
  {
   "attachments": {},
   "cell_type": "markdown",
   "metadata": {},
   "source": [
    "# Pres. 2 HW\n",
    "> un 5, 9, 10\n",
    "\n",
    "- toc: true \n",
    "- badges: true\n",
    "- comments: true\n",
    "- categories: [jupyter]"
   ]
  },
  {
   "attachments": {},
   "cell_type": "markdown",
   "metadata": {},
   "source": [
    "## Unit 5"
   ]
  },
  {
   "cell_type": "code",
   "execution_count": 56,
   "metadata": {
    "vscode": {
     "languageId": "java"
    }
   },
   "outputs": [
    {
     "name": "stdout",
     "output_type": "stream",
     "text": [
      "Indian\n",
      "Person counter: 2\n",
      "20\n"
     ]
    }
   ],
   "source": [
    "public class Food {\n",
    "    //attributes\n",
    "    private String cuisine;\n",
    "    private String culture;\n",
    "    private int mealsConsumed;\n",
    "    \n",
    "    // Static counter variable\n",
    "    public static int peopleEating;\n",
    "    \n",
    "    //constructor\n",
    "    public Food(String cuisine, String culture, int mealsConsumed)\n",
    "    {\n",
    "        this.cuisine = cuisine;\n",
    "        this.culture = culture;\n",
    "        this.mealsConsumed = mealsConsumed;     \n",
    "        this.peopleEating = 1;   \n",
    "    }\n",
    "\n",
    "    // static method to print out counter\n",
    "    public static int printPersonCounter() {\n",
    "        peopleEating++;\n",
    "        System.out.println(\"Person counter: \" + peopleEating);\n",
    "        return peopleEating;\n",
    "    }\n",
    "\n",
    "    public String getCulture(){\n",
    "        return culture;\n",
    "    }\n",
    "\n",
    "    public void setMealCount(){\n",
    "        mealsConsumed++;\n",
    "    }\n",
    "\n",
    "    public String getCuisine(){\n",
    "        return cuisine;\n",
    "    }\n",
    "\n",
    "    public int getMeals() {\n",
    "        // Increment the person counter if mealsConsumed is greater than 5\n",
    "        if (mealsConsumed > 5) {\n",
    "            printPersonCounter();\n",
    "        }\n",
    "        return mealsConsumed;\n",
    "    }\n",
    "}\n",
    "\n",
    "public class Foodmain {\n",
    "    public static void main(String[] args) {\n",
    "        Food newFood = new Food(\"Dal\", \"Indian\", 20);\n",
    "        System.out.println(newFood.getCulture());\n",
    "        System.out.println(newFood.getMeals());\n",
    "    }\n",
    "}\n",
    "\n",
    "Foodmain.main(null);"
   ]
  },
  {
   "attachments": {},
   "cell_type": "markdown",
   "metadata": {},
   "source": [
    "## Unit 9"
   ]
  },
  {
   "cell_type": "code",
   "execution_count": 187,
   "metadata": {
    "vscode": {
     "languageId": "java"
    }
   },
   "outputs": [
    {
     "name": "stdout",
     "output_type": "stream",
     "text": [
      "Honk!\n",
      "Toyota\n"
     ]
    }
   ],
   "source": [
    "public class Vehicle {\n",
    "    private String name;\n",
    "    private String sound;\n",
    "    // methods and attributes\n",
    "    public Vehicle (String name){\n",
    "        this.name = name;\n",
    "        this.sound = \"Honk!\";\n",
    "    }\n",
    "    public void getSound(){\n",
    "        System.out.println(this.sound);\n",
    "    }\n",
    "\n",
    "    public String getName(){\n",
    "        return name;\n",
    "    }\n",
    "\n",
    "\n",
    "}\n",
    "class Car extends Vehicle {\n",
    "    private String name;\n",
    "    private String sound;\n",
    "\n",
    "    public Car(String name){\n",
    "        super(name);\n",
    "        this.sound = sound;\n",
    "    }\n",
    "\n",
    "    public static void main(String[] args) {\n",
    "        Car car1 = new Car(\"Toyota\");\n",
    "        car1.getSound();\n",
    "        System.out.println(car1.getName());\n",
    "\n",
    "    }\n",
    "}\n",
    "Car.main(null);"
   ]
  },
  {
   "cell_type": "code",
   "execution_count": 171,
   "metadata": {
    "vscode": {
     "languageId": "java"
    }
   },
   "outputs": [],
   "source": [
    "public class Entertainer{\n",
    "    private String name;\n",
    "    private String tour;\n",
    "\n",
    "    public Entertainer(){\n",
    "        name = \"Taylor Swift\";\n",
    "        tour = \"Eras Tour!\";\n",
    "    }\n",
    "\n",
    "    public void practice(){\n",
    "        System.out.println(\"Practicing for my show tonight on the \" + this.tour);\n",
    "    }\n",
    "\n",
    "    public void perform(){\n",
    "        System.out.println(\"I'm excited for my performance!\");\n",
    "    }\n",
    "\n",
    "    public void announce(){\n",
    "        System.out.print(\"and more!\");\n",
    "    }\n",
    "}"
   ]
  },
  {
   "cell_type": "code",
   "execution_count": 169,
   "metadata": {
    "vscode": {
     "languageId": "java"
    }
   },
   "outputs": [
    {
     "name": "stdout",
     "output_type": "stream",
     "text": [
      "Practicing for my show tonight on the Eras Tour!\n",
      "I'm excited for my performance! My set list for today includes: \n",
      "My set list includes: the 1, cardigan, the last great american dynasty, exile (feat. Bon Iver), my tears ricochet, mirrorball, seven, august, this is me trying, illicit affairs, invisible string, mad woman, epiphany, betty, peace, hoax, and more!\n",
      "Hey, my name's Selena!\n",
      "My performance today is: this is me trying\n"
     ]
    }
   ],
   "source": [
    "public class Singer extends Entertainer{//inheritance\n",
    "    private ArrayList<String> songs;\n",
    "    private String tour;\n",
    "    \n",
    "    public Singer(){\n",
    "        super();  \n",
    "        this.tour = \"Eras Tour\";\n",
    "        this.songs = new ArrayList<String>();\n",
    "        String[] folkloreSongs = {\"the 1\", \"cardigan\", \"the last great american dynasty\", \"exile (feat. Bon Iver)\", \"my tears ricochet\", \"mirrorball\", \"seven\", \"august\", \"this is me trying\", \"illicit affairs\", \"invisible string\", \"mad woman\", \"epiphany\", \"betty\", \"peace\", \"hoax\"};\n",
    "        for (int i = 0; i < folkloreSongs.length; i++){\n",
    "            songs.add(folkloreSongs[i]);\n",
    "        }\n",
    "    \n",
    "    }\n",
    "    public String getSong(){\n",
    "        String song = \"\\nMy performance today is: \" + songs.get((int)(Math.random()* songs.size()));\n",
    "        return song;\n",
    "    }\n",
    "        \n",
    "    public void perform(){\n",
    "        super.perform();\n",
    "        System.out.print(\"My set list includes: \");\n",
    "        for(String song : songs){\n",
    "            System.out.print(song + \", \");\n",
    "        }\n",
    "    }\n",
    "        \n",
    "    public static void main(String[] args) {\n",
    "        Singer taylor = new Singer();\n",
    "        taylor.practice();\n",
    "        taylor.perform();\n",
    "        taylor.announce();\n",
    "        Entertainer selena = new Singer();//polymorphism\n",
    "        System.out.println(\"\\nHey, my name's Selena!\" + ((Singer)selena).getSong());\n",
    "    }}\n",
    "\n",
    "Singer.main(null);\n"
   ]
  },
  {
   "cell_type": "code",
   "execution_count": 174,
   "metadata": {
    "vscode": {
     "languageId": "java"
    }
   },
   "outputs": [
    {
     "name": "stdout",
     "output_type": "stream",
     "text": [
      "I danced this many times: 6\n",
      "I'm excited for my performance!\n",
      "Dancing at the Eras tour!\n",
      "Leaps!\n",
      "Spins!\n",
      "I'm excited for my performance!\n",
      "Dancing at the Eras tour!\n"
     ]
    }
   ],
   "source": [
    "public class Dancer extends Entertainer{//inheritance\n",
    "    private int numDances;\n",
    "    \n",
    "    public Dancer(int numDances){\n",
    "        super();\n",
    "        this.numDances = numDances;\n",
    "    }   \n",
    "        \n",
    "    public void perform(){\n",
    "        super.perform();\n",
    "        System.out.println(\"Dancing at the Eras tour!\");//overriden\n",
    "    }\n",
    "    \n",
    "    public void jete(){\n",
    "        System.out.println(\"Leaps!\");\n",
    "    }\n",
    "    public void pirouette(){\n",
    "        System.out.println(\"Spins!\");    \n",
    "    } \n",
    "\n",
    "    public String toString(){\n",
    "        return (\"I danced this many times: \" + numDances);\n",
    "    }\n",
    "    public static void main(String[] args) {\n",
    "        Dancer bob = new Dancer(6);\n",
    "        System.out.println(bob.toString()); // prints \"I danced this many times! 6\"\n",
    "        bob.perform(); // prints \"Dancing at the Eras tour!\"\n",
    "        bob.jete(); // prints \"Leaps!\"\n",
    "        bob.pirouette(); // prints \"Spins!\"\n",
    "        Entertainer Randy = new Dancer(23);//polymorphism\n",
    "        Randy.perform();\n",
    "    }}\n",
    "    Dancer.main(null);\n"
   ]
  },
  {
   "attachments": {},
   "cell_type": "markdown",
   "metadata": {},
   "source": [
    "## Unit 10\n"
   ]
  },
  {
   "cell_type": "code",
   "execution_count": 1,
   "metadata": {
    "vscode": {
     "languageId": "java"
    }
   },
   "outputs": [
    {
     "name": "stdout",
     "output_type": "stream",
     "text": [
      "Fibonacci Sequence: 0 1 1 2 3 5 8 13 21 34 "
     ]
    }
   ],
   "source": [
    "//Using  While Loop\n",
    "public class fibo {\n",
    "    public static void main(String[] args) \n",
    "\t{\n",
    "\t\t int tries = 10;\n",
    "\t\t int num1 = 0;\n",
    "\t\t int num2 = 1;\n",
    "\t        System.out.print(\"Fibonacci Sequence: \"); \n",
    " \n",
    "\t        int i=1;\n",
    "\t        while(i <= tries)//base case\n",
    "\t        {\n",
    "\t            System.out.print(num1+\" \");\n",
    "\t            int total = num1 + num2;\n",
    "\t            num1 = num2;\n",
    "\t            num2 = total;\n",
    "\t            i++;\n",
    "\t        }\n",
    "\t\t\tfibo fib = new fibo();//object initilization and declaration\n",
    "\t}\n",
    "}\n",
    "fibo.main(null);"
   ]
  }
 ],
 "metadata": {
  "kernelspec": {
   "display_name": "Java",
   "language": "java",
   "name": "java"
  },
  "language_info": {
   "codemirror_mode": "java",
   "file_extension": ".jshell",
   "mimetype": "text/x-java-source",
   "name": "Java",
   "pygments_lexer": "java",
   "version": "11.0.16+8-post-Ubuntu-0ubuntu120.04"
  },
  "orig_nbformat": 4
 },
 "nbformat": 4,
 "nbformat_minor": 2
}
