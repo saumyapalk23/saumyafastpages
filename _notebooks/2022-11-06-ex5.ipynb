{
 "cells": [
  {
   "cell_type": "markdown",
   "metadata": {},
   "source": [
    "#  Days in a Month Exercise\n",
    "> Additional Exercises\n",
    "- toc: true \n",
    "- badges: true\n",
    "- comments: true\n",
    "- categories: [jupyter]"
   ]
  },
  {
   "cell_type": "code",
   "execution_count": 1,
   "metadata": {},
   "outputs": [],
   "source": [
    "//Exercise 2: try to create a program to find the number\n",
    "//of days in a month\n",
    "//input a month number and year\n",
    "//outputs how many days that month, year has\n",
    "\n",
    "//hints: think about how many days each month has\n",
    "//split them into dif. days in a month\n",
    "\n"
   ]
  },
  {
   "cell_type": "code",
   "execution_count": 39,
   "metadata": {},
   "outputs": [],
   "source": [
    "import java.util.Scanner;\n",
    "\n",
    "public class Main {\n",
    "  private static String[] words = {\"words\", \"to\", \"put\", \"in\"};\n",
    "  private static String word = words[(int) (Math.random() * words.length)];\n",
    "  private static String asterisk = new String(new char[word.length()]).replace(\"\\0\",\"*\");\n",
    "  private static int count = 0;\n",
    "  \n",
    "  public static void main(String[] args) {\n",
    "    Scanner sc = new Scanner(System.in);\n",
    "    \n",
    "    //create a while loop when count is less than 7 and\n",
    "    //when asterisk contains *\n",
    "    while (count < 7 && asterisk.contains(\"*\")) {\n",
    "      //print guess any letter in the word\n",
    "      //print asterisk\n",
    "      //take in guess and scan it in (string guess and take in scan)\n",
    "      //hang(guess)\n",
    "      System.out.println(\"Guess any letter in the word\");\n",
    "      System.out.println(asterisk);\n",
    "      String guess = sc.next();\n",
    "      hang(guess);\n",
    "    }\n",
    "    sc.close();\n",
    "\n",
    "}}\n",
    "      \n"
   ]
  },
  {
   "cell_type": "code",
   "execution_count": 24,
   "metadata": {},
   "outputs": [
    {
     "name": "stdout",
     "output_type": "stream",
     "text": [
      "  Input a month number:  12  Input a year:2020 December 2020 has 31 days\n"
     ]
    }
   ],
   "source": [
    "import java.util.Scanner;\n",
    "public class Main {\n",
    "\n",
    "    \n",
    "  public static void main(String[] strings) {}}\n",
    "\n",
    "        Scanner input = new Scanner(System.in);\n",
    "\n",
    "        int number_Of_DaysInMonth = 0; \n",
    "        String MonthOfName = \"Unknown\";\n",
    "\n",
    "        System.out.print(\"  Input a month number:  \");\n",
    "        int month = input.nextInt();\n",
    "        System.out.print(month);\n",
    "        System.out.print(\"  Input a year: \");\n",
    "        int year = input.nextInt();\n",
    "        System.out.print(year);\n",
    "\n",
    "        switch (month) {\n",
    "            case 1:\n",
    "                MonthOfName = \"January\";\n",
    "                number_Of_DaysInMonth = 31;\n",
    "                break;\n",
    "            case 2:\n",
    "                MonthOfName = \"February\";\n",
    "                if ((year % 400 == 0) || ((year % 4 == 0) && (year % 100 != 0))) {\n",
    "                    number_Of_DaysInMonth = 29;\n",
    "                } else {\n",
    "                    number_Of_DaysInMonth = 28;\n",
    "                }\n",
    "                break;\n",
    "            case 3:\n",
    "                MonthOfName = \"March\";\n",
    "                number_Of_DaysInMonth = 31;\n",
    "                break;\n",
    "            case 4:\n",
    "                MonthOfName = \"April\";\n",
    "                number_Of_DaysInMonth = 30;\n",
    "                break;\n",
    "            case 5:\n",
    "                MonthOfName = \"May\";\n",
    "                number_Of_DaysInMonth = 31;\n",
    "                break;\n",
    "            case 6:\n",
    "                MonthOfName = \"June\";\n",
    "                number_Of_DaysInMonth = 30;\n",
    "                break;\n",
    "            case 7:\n",
    "                MonthOfName = \"July\";\n",
    "                number_Of_DaysInMonth = 31;\n",
    "                break;\n",
    "            case 8:\n",
    "                MonthOfName = \"August\";\n",
    "                number_Of_DaysInMonth = 31;\n",
    "                break;\n",
    "            case 9:\n",
    "                MonthOfName = \"September\";\n",
    "                number_Of_DaysInMonth = 30;\n",
    "                break;\n",
    "            case 10:\n",
    "                MonthOfName = \"October\";\n",
    "                number_Of_DaysInMonth = 31;\n",
    "                break;\n",
    "            case 11:\n",
    "                MonthOfName = \"November\";\n",
    "                number_Of_DaysInMonth = 30;\n",
    "                break;\n",
    "            case 12:\n",
    "                MonthOfName = \"December\";\n",
    "                number_Of_DaysInMonth = 31;}\n",
    "        \n",
    "        System.out.print(\" \" + MonthOfName + \" \" + year + \" has \" + number_Of_DaysInMonth + \" days\\n\");\n",
    "\n"
   ]
  },
  {
   "cell_type": "markdown",
   "metadata": {},
   "source": []
  }
 ],
 "metadata": {
  "kernelspec": {
   "display_name": "Java",
   "language": "java",
   "name": "java"
  },
  "language_info": {
   "codemirror_mode": "java",
   "file_extension": ".jshell",
   "mimetype": "text/x-java-source",
   "name": "java",
   "pygments_lexer": "java",
   "version": "11.0.16+8-post-Ubuntu-0ubuntu120.04"
  },
  "orig_nbformat": 4,
  "vscode": {
   "interpreter": {
    "hash": "916dbcbb3f70747c44a77c7bcd40155683ae19c65e1c03b4aa3499c5328201f1"
   }
  }
 },
 "nbformat": 4,
 "nbformat_minor": 2
}
